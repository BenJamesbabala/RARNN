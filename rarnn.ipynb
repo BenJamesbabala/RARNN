{
 "cells": [
  {
   "cell_type": "code",
   "execution_count": 1,
   "metadata": {
    "collapsed": false
   },
   "outputs": [
    {
     "name": "stdout",
     "output_type": "stream",
     "text": [
      "> Change the volume high.\n",
      "( %\n",
      "    ( %setVolume (0, 3, 4)\n",
      "        ( $up_down (3, 3, 1) high ) ) )\n",
      "\n"
     ]
    }
   ],
   "source": [
    "from nalgene.generate import *\n",
    "\n",
    "parsed, _, _ = generate_from_file('.', 'grammar.nlg')"
   ]
  },
  {
   "cell_type": "code",
   "execution_count": 2,
   "metadata": {
    "collapsed": true
   },
   "outputs": [],
   "source": [
    "def descend(node, fn, child_type='phrase', returns=None):\n",
    "    if returns is None: returns = []\n",
    "    returned = fn(node)\n",
    "    returns.append(returned)\n",
    "\n",
    "    for child in node.children:\n",
    "        if (child_type is None) or (child.type == child_type):\n",
    "            descend(child, fn, child_type, returns)\n",
    "    \n",
    "    return returns"
   ]
  },
  {
   "cell_type": "code",
   "execution_count": 3,
   "metadata": {
    "collapsed": false
   },
   "outputs": [],
   "source": [
    "def ascend(node, fn):\n",
    "    if node.parent is None:\n",
    "        return fn(node)\n",
    "    else:\n",
    "        return ascend(node.parent, fn)"
   ]
  },
  {
   "cell_type": "markdown",
   "metadata": {},
   "source": [
    "## Building input and output vocabularies\n",
    "\n",
    "To find all input vocabulary tokens, we can traverse the parsed nalgene tree and copy all `word` type tokens."
   ]
  },
  {
   "cell_type": "code",
   "execution_count": 4,
   "metadata": {
    "collapsed": false
   },
   "outputs": [
    {
     "name": "stdout",
     "output_type": "stream",
     "text": [
      "['EOS', 'Heroes', 'Machine', 'Hayko', 'Skrillex', 'Own', 'Summer', 'Funky', 'Breeze', 'Yakup', 'Coldplay', 'Got', 'Day', 'Seaside', 'Such', 'volume', 'Remaster', '10', 'get', 'Of', 'Melody', 'Dogulu', 'Original', 'Louie', 'Eyes', 'maia', 'Train', 'shit', 'music', 'Had', '3', 'plox', '6', 'Pinhani', 'Reha', 'Introduction', 'turn', 'change', 'by', 'Sleeps', 'Darkness', 'please', 'Furtado', 'Agua', 'and', 'Jizz', 'Out', 'Army', 'state', 'Attack', 'Athena', 'Sexbomb', '12', 'Stripes', 'Black', '2', 'put', 'Firestarter', 'Sezen', 'than', 'low', 'Iris', 'Morrissey', 'Take', 'red', 'Massive', 'coffee', 'Daydream', 'Remixed', \"what's\", 'hot', '11', 'Any', 'Diken', 'Duman', 'yen', 'is', 'the', 'Naive', 'Space', 'kitchen', 'Back', 'Breathe', 'With', 'bathroom', 'Night', 'Her', 'Best', 'For', 'Hate', 'Edit', '16', 'Your', 'My', 'you', 'Sheriff', 'light', 'outside', 'Turning', 'Imbruglia', 'Go', 'Seven', 'Annique', 'When', 'Rappers', 'Boogie', 'pretty', 'what', 'um', 'Blame', 'Shades', 'then', 'Baby', 'tesla', 'Valerie', 'pls', 'Will', 'Placebo', 'Beirut', 'Cepkin', 'Under', '13', 'She', 'Ceza', 'Lion', 'from', 'to', 'purple', 'basement', 'Berlin', 'Sharona', 'I', 'Modern', 'Way', 'On', 'Nite', 'Devil', 'ethereum', 'room', 'Great', 'Someday', 'white', 'up', 'greater', 'are', 'something', 'yellow', 'temperature', 'Soul', 'Feel', 'Shout', 'Happy', 'Malice', 'green', 'Somebody', 'Moves', 'Where', 'Deniz', 'Let', 'Falay', 'price', 'Did', 'Time', 'in', 'Last', 'Dagger', 'Sex', 'Love', 'Really', 'Cure', 'Kenan', 'blue', 'To', 'set', 'People', 'Human', 'Together', 'You', 'Pants', 'Every', 'make', 'Delilah', 'So', 'Goes', '19', 'Japanese', 'Our', 'living', 'White', 'next', 'Say', 'also', 'Paint', 'btc', 'Have', 'Jay-Jay', 'Call', 'Natalie', 'Pass', 'very', 'Ufuk', 'Nelly', 'From', 'Nation', 'Tonight', 'Thumb', 'plx', 'Bon', 'Up', 'Shit', 'Muse', 'All', 'Boys', 'plate', 'tea', 'There', 'de', 'Ferah', 'Gang', 'tell', 'Fit', 'Jovi', 'Heights', 'some', 'Sweet', 'New', 'Dry', 'Dream', '5', 'Single', 'song', 'Nev', 'Delight', 'much', 'Aerosmith', 'Radio', 'Maroon', 'Know', 'A', 'Vega', 'Radiohead', 'Shelter', 'Brown', 'lhan', 'Heart', 'Chelsea', 'Were', 'Town', 'if', 'Apache', 'Elsiane', 'Blonde', 'me', 'Disposition', 'orange', '8', '14', 'hello', 'Do', 'Afternoon', 'Sesen', 'The', 'oh', 'equal', 'Girl', 'Age', '18', 'microsoft', 'Yansimasi', 'Oasis', 'Can', 'Believer', 'play', 'uh', 'Lola', 'bitcoin', 'Omen', 'Kurban', 'Told', 'Whitesnake', 'Bitch', 'a', 'Sunset', 'Full', 'Album', 'of', 'Is', 'Unchained', 'Smack', '4', 'Version', 'Wet', 'Jailbreak', 'Yildirim', 'thank', 'Badem', 'But', 'office', 'Called', '9', 'hi', 'Breath', 'Gimme', 'Dolapdere', 'Mono', 'Redhead', 'off', 'Isigin', 'Are', 'switch', 'on', 'It', 'Shot', 'pesos', 'Peaches', 'thx', 'thanks', 'Me', 'In', '17', 'Waterloo', 'Sebnem', 'Seki', 'less', 'Sympathy', 'eth', 'bedroom', 'Gathering', '1', '20', 'high', 'Cover', 'pot', 'Korn', 'Just', 'Johanson', 'Theme', 'Voodoo', '7', 'hey', 'Big', 'heya', 'Many', 'there', 'Sunny', 'Golden', 'could', 'And', 'how', 'yo', 'Be', 'Young', 'Aksu', '15', 'Shut', 'down']\n"
     ]
    }
   ],
   "source": [
    "input_tokens = []\n",
    "\n",
    "def print_tokens(node):\n",
    "    if node.type == 'word':\n",
    "        input_tokens.append(node.key)\n",
    "\n",
    "descend(parsed, print_tokens, None)\n",
    "\n",
    "input_tokens = list(set(input_tokens))\n",
    "input_tokens = ['EOS'] + input_tokens\n",
    "print(input_tokens)"
   ]
  },
  {
   "cell_type": "markdown",
   "metadata": {},
   "source": [
    "For output tokens, we can just take the top level node names that are either phrases or variables."
   ]
  },
  {
   "cell_type": "code",
   "execution_count": 5,
   "metadata": {
    "collapsed": false
   },
   "outputs": [
    {
     "name": "stdout",
     "output_type": "stream",
     "text": [
      "['EOS', '%', '%if', '%sequence', '%condition', '%checkValue', '%getNumberValue', '%getValue', '%action', '%checkLightState', '%checkSwitchState', '%getLightState', '%getSwitchState', '%getTemperature', '%getPrice', '%setLightState', '%light_state', '%setSwitchState', '%setTemperature', '%setVolume', '%playMusic', '$operator', '$asset', '$room', '$light', '$switch', '$on_off', '$up_down', '$color', '$value', '$artist', '$song']\n"
     ]
    }
   ],
   "source": [
    "output_tokens = [child.key for child in parsed.children if child.type in ['phrase', 'variable']]\n",
    "output_tokens = ['EOS'] + output_tokens\n",
    "print(output_tokens)"
   ]
  },
  {
   "cell_type": "markdown",
   "metadata": {},
   "source": [
    "## Getting input and target data for nodes"
   ]
  },
  {
   "cell_type": "code",
   "execution_count": 6,
   "metadata": {
    "collapsed": true
   },
   "outputs": [],
   "source": [
    "def words_for_position(words, position):\n",
    "    if position is None:\n",
    "        return words\n",
    "    start, end, length = position\n",
    "    return words[start : end + 1]"
   ]
  },
  {
   "cell_type": "code",
   "execution_count": 7,
   "metadata": {
    "collapsed": false
   },
   "outputs": [],
   "source": [
    "def relative_position(node, parent):\n",
    "    if parent.position is None:\n",
    "        return node.position\n",
    "    return node.position[0] - parent.position[0], node.position[1] - parent.position[0], node.position[2]"
   ]
  },
  {
   "cell_type": "code",
   "execution_count": 8,
   "metadata": {
    "collapsed": false
   },
   "outputs": [],
   "source": [
    "def data_for_node(flat, node):\n",
    "    words = [child.key for child in flat.children]\n",
    "    inputs = words_for_position(words, node.position)\n",
    "    keys = [child.key for child in node.children]\n",
    "    positions = [relative_position(child, node) for child in node.children]\n",
    "    return node.key, inputs, list(zip(keys, positions))"
   ]
  },
  {
   "cell_type": "code",
   "execution_count": 9,
   "metadata": {
    "collapsed": false
   },
   "outputs": [
    {
     "name": "stdout",
     "output_type": "stream",
     "text": [
      "> Set the volume high then also turn the volume high.\n",
      "( %\n",
      "    ( %sequence (0, 9, 10)\n",
      "        ( %setVolume (0, 3, 4)\n",
      "            ( $up_down (3, 3, 1) high ) )\n",
      "        ( %setVolume (6, 9, 4)\n",
      "            ( $up_down (9, 9, 1) high ) ) ) )\n",
      "\n"
     ]
    },
    {
     "data": {
      "text/plain": [
       "('%sequence',\n",
       " ['set',\n",
       "  'the',\n",
       "  'volume',\n",
       "  'high',\n",
       "  'then',\n",
       "  'also',\n",
       "  'turn',\n",
       "  'the',\n",
       "  'volume',\n",
       "  'high'],\n",
       " [('%setVolume', (0, 3, 4)), ('%setVolume', (6, 9, 4))])"
      ]
     },
     "execution_count": 9,
     "metadata": {},
     "output_type": "execute_result"
    }
   ],
   "source": [
    "parsed, walked_flat, walked_tree = generate_from_file('.', 'grammar.nlg')\n",
    "data_for_node(walked_flat, walked_tree.children[0])"
   ]
  },
  {
   "cell_type": "markdown",
   "metadata": {},
   "source": [
    "## Creating tensors for input and target data"
   ]
  },
  {
   "cell_type": "code",
   "execution_count": 10,
   "metadata": {
    "collapsed": true
   },
   "outputs": [],
   "source": [
    "import torch"
   ]
  },
  {
   "cell_type": "code",
   "execution_count": 11,
   "metadata": {
    "collapsed": true
   },
   "outputs": [],
   "source": [
    "def tokens_to_tensor(tokens, source_tokens, append_eos=True):\n",
    "    indexes = []\n",
    "    for token in tokens:\n",
    "        indexes.append(source_tokens.index(token))\n",
    "    if append_eos:\n",
    "        indexes.append(0)\n",
    "    return torch.LongTensor(indexes)"
   ]
  },
  {
   "cell_type": "code",
   "execution_count": 12,
   "metadata": {
    "collapsed": false
   },
   "outputs": [
    {
     "data": {
      "text/plain": [
       "\n",
       " 1  1  1  0  0\n",
       " 0  0  0  0  1\n",
       "[torch.FloatTensor of size 2x5]"
      ]
     },
     "execution_count": 12,
     "metadata": {},
     "output_type": "execute_result"
    }
   ],
   "source": [
    "def ranges_to_tensor(ranges, seq_len):\n",
    "    ranges_tensor = torch.zeros(len(ranges), seq_len)\n",
    "    for r in range(len(ranges)):\n",
    "        start, end, _ = ranges[r]\n",
    "        ranges_tensor[r, start:end+1] = 1\n",
    "    return ranges_tensor\n",
    "\n",
    "ranges_to_tensor([(0, 2, 3), (4, 4, 1)], 5)"
   ]
  },
  {
   "cell_type": "markdown",
   "metadata": {},
   "source": [
    "## Model\n",
    "\n",
    "The core model is a regular seq2seq/encoder-decoder model with attention. The attention model is from [Luong et al.'s \"Effective Approaches to Attention-based Neural Machine Translation\"](https://arxiv.org/abs/1508.04025) including options for \"dot\", \"general\", and \"concat\" based attention energies.\n",
    "\n",
    "The encoder and decoder take one additional input `context` which represents the phrase parent we are currently operating on, e.g. `%setLightState`. At the top level node the context is always `%`.\n",
    "\n",
    "The last piece of the model is a form of [Pointer Network](https://arxiv.org/abs/1506.03134) which will be run over the input sequence (or encoder outputs?) for each decoded token, in order to pick out which parts of the input phrase correspond to that token. The inputs are the decoded token and encoder outputs; the outputs of are a 0 or 1 for each word in the sequence.\n",
    "\n",
    "Once the decoder and pointer have chosen tokens and alignments, the phrase tokens and corresponding \"pointed at\" sub-inputs are used as the context and inputs of the next iteration."
   ]
  },
  {
   "cell_type": "code",
   "execution_count": 13,
   "metadata": {
    "collapsed": true
   },
   "outputs": [],
   "source": [
    "import torch\n",
    "import torch.nn as nn\n",
    "import torch.nn.functional as F\n",
    "from torch.autograd import Variable\n",
    "\n",
    "USE_CUDA = False"
   ]
  },
  {
   "cell_type": "code",
   "execution_count": 14,
   "metadata": {
    "collapsed": true
   },
   "outputs": [],
   "source": [
    "class Encoder(nn.Module):\n",
    "    def __init__(self, input_size, hidden_size, n_layers=1):\n",
    "        super(Encoder, self).__init__()\n",
    "\n",
    "        self.input_size = input_size\n",
    "        self.hidden_size = hidden_size\n",
    "        self.n_layers = n_layers\n",
    "\n",
    "        self.embedding = nn.Embedding(input_size, hidden_size)\n",
    "        self.gru = nn.GRU(hidden_size, hidden_size, n_layers, bidirectional=True)\n",
    "\n",
    "    def forward(self, context_input, word_inputs):\n",
    "        # TODO: Incorporate context input\n",
    "        seq_len = word_inputs.size(0)\n",
    "        batch_size = word_inputs.size(1)\n",
    "        embedded = self.embedding(word_inputs.view(seq_len * batch_size, -1)) # Process seq x batch at once\n",
    "        output = embedded.view(seq_len, batch_size, -1) # Resize back to seq x batch for RNN\n",
    "        \n",
    "        outputs, hidden = self.gru(output)\n",
    "        outputs = outputs[:, :, :self.hidden_size] + outputs[:, : ,self.hidden_size:] # Sum bidirectional outputs\n",
    "\n",
    "        return outputs, hidden"
   ]
  },
  {
   "cell_type": "code",
   "execution_count": 15,
   "metadata": {
    "collapsed": false
   },
   "outputs": [],
   "source": [
    "class DotAttn(nn.Module):\n",
    "    def __init__(self):\n",
    "        super(DotAttn, self).__init__()\n",
    "\n",
    "    def forward(self, hidden, encoder_outputs):\n",
    "        seq_len = len(encoder_outputs)\n",
    "\n",
    "        # Create variable to store attention energies\n",
    "        attn_energies = Variable(torch.zeros(seq_len)) # B x 1 x S\n",
    "        if USE_CUDA: attn_energies = attn_energies.cuda()\n",
    "\n",
    "        # Calculate energies for each encoder output\n",
    "        for i in range(seq_len):\n",
    "            attn_energies[i] = hidden.dot(encoder_outputs[i])\n",
    "\n",
    "        # Normalize energies to weights in range 0 to 1, resize to 1 x 1 x seq_len\n",
    "        return F.softmax(attn_energies).unsqueeze(0).unsqueeze(0)"
   ]
  },
  {
   "cell_type": "code",
   "execution_count": 16,
   "metadata": {
    "collapsed": false
   },
   "outputs": [],
   "source": [
    "class Decoder(nn.Module):\n",
    "    def __init__(self, hidden_size, output_size, n_layers=1, dropout=0.1):\n",
    "        super(Decoder, self).__init__()\n",
    "        \n",
    "        # Keep parameters for reference\n",
    "        self.hidden_size = hidden_size\n",
    "        self.output_size = output_size\n",
    "        self.n_layers = n_layers\n",
    "        self.dropout = dropout\n",
    "        \n",
    "        # Define layers\n",
    "        self.embedding = nn.Embedding(output_size, hidden_size)\n",
    "        self.gru = nn.GRU(hidden_size * 2, hidden_size, n_layers, dropout=dropout)\n",
    "        self.out = nn.Linear(hidden_size * 2, output_size)\n",
    "        \n",
    "        # Choose attention model\n",
    "        self.attn = DotAttn()\n",
    "    \n",
    "    def forward(self, context_input, word_input, last_hidden, encoder_outputs):\n",
    "        # Note: we run this one step at a time\n",
    "        \n",
    "        # Get the embedding of the current input word (last output word)\n",
    "        word_embedded = self.embedding(word_input).view(1, 1, -1) # S=1 x B x N\n",
    "        \n",
    "        # Combine context and embedded word, through RNN\n",
    "        rnn_input = torch.cat((context_input.unsqueeze(0), word_embedded), 2)\n",
    "        rnn_output, hidden = self.gru(rnn_input, last_hidden)\n",
    "\n",
    "        # Calculate attention from current RNN state and all encoder outputs; apply to encoder outputs\n",
    "        attn_weights = self.attn(rnn_output.squeeze(0), encoder_outputs)\n",
    "        context = attn_weights.bmm(encoder_outputs.transpose(0, 1)) # B x 1 x N\n",
    "        \n",
    "        # Final output layer (next word prediction) using the RNN hidden state and context vector\n",
    "        rnn_output = rnn_output.squeeze(0) # S=1 x B x N -> B x N\n",
    "        context = context.squeeze(1)       # B x S=1 x N -> B x N\n",
    "        output = F.log_softmax(self.out(torch.cat((rnn_output, context), 1)))\n",
    "        \n",
    "        # Return final output, hidden state, and attention weights (for visualization)\n",
    "        return output, hidden, attn_weights"
   ]
  },
  {
   "cell_type": "markdown",
   "metadata": {},
   "source": [
    "The Pointer network is a recurrent neural network with an embedding, a single-layer GRU, and linear output layer with a sigmoid transformation. The hidden state is initialized with the output of the embedding layer, given the context token."
   ]
  },
  {
   "cell_type": "code",
   "execution_count": 17,
   "metadata": {
    "collapsed": false
   },
   "outputs": [],
   "source": [
    "class Pointer(nn.Module):\n",
    "    def __init__(self, context_size, hidden_size):\n",
    "        super(Pointer, self).__init__()\n",
    "        \n",
    "        self.context_size = context_size # Context tokens (from output vocabulary)\n",
    "        self.hidden_size = hidden_size\n",
    "        \n",
    "        self.embedding = nn.Embedding(context_size, hidden_size)\n",
    "        self.gru = nn.GRU(hidden_size, hidden_size, bidirectional=True)\n",
    "        self.out = nn.Linear(hidden_size, 1)\n",
    "\n",
    "    def forward(self, context, hidden, encoder_outputs):\n",
    "#         print('token_input', token_input.size())\n",
    "#         hidden = self.embedding(token_input).unsqueeze(0)\n",
    "#         print('encoder_outputs', encoder_outputs.size())\n",
    "        outputs, hidden = self.gru(encoder_outputs, hidden.repeat(2, 1, 1))\n",
    "        outputs = outputs[:, :, :self.hidden_size] + outputs[:, :, self.hidden_size:] # Sum bidirectional outputs\n",
    "        outputs = self.out(outputs.squeeze(1))\n",
    "        outputs = F.sigmoid(outputs)\n",
    "\n",
    "        return outputs"
   ]
  },
  {
   "cell_type": "markdown",
   "metadata": {},
   "source": [
    "We can turn the whole thing into one model (thereby allowing it to be optimized with one optimizer) by combining the Encoder, Decoder, and Pointer networks:"
   ]
  },
  {
   "cell_type": "code",
   "execution_count": 18,
   "metadata": {
    "collapsed": false
   },
   "outputs": [],
   "source": [
    "class RARNN(nn.Module):\n",
    "    def __init__(self, input_size, output_size, hidden_size):\n",
    "        super(RARNN, self).__init__()\n",
    "        \n",
    "        self.input_size = input_size\n",
    "        self.output_size = output_size\n",
    "        self.hidden_size = hidden_size\n",
    "        \n",
    "        self.embedding = nn.Embedding(output_size, hidden_size)\n",
    "        \n",
    "        self.encoder = Encoder(input_size, hidden_size)\n",
    "        self.decoder = Decoder(hidden_size, output_size)\n",
    "        self.pointer = Pointer(output_size, hidden_size)\n",
    "\n",
    "    def forward(self, context_input, word_inputs, word_targets=None):\n",
    "        context_embedded = self.embedding(context_input)\n",
    "        \n",
    "        input_len = word_inputs.size(0)\n",
    "        target_len = word_targets.size(0) if word_targets is not None else 15\n",
    "        \n",
    "        encoder_outputs, encoder_hidden = self.encoder(context_embedded, word_inputs)\n",
    "        decoder_hidden = encoder_hidden\n",
    "        decoder_input = Variable(torch.LongTensor([0])) # EOS/SOS token\n",
    "\n",
    "        # Variables to store outputs\n",
    "        decoder_attns = Variable(torch.zeros(target_len, 1, input_len))\n",
    "        decoder_outputs = Variable(torch.zeros(target_len, output_size))\n",
    "        pointer_outputs = Variable(torch.zeros(target_len - 1, input_len)) # Pointer never runs on EOS\n",
    "        \n",
    "        for i in range(target_len):\n",
    "#             print('\\n[decoder %d]' % i)\n",
    "            decoder_output, decoder_hidden, decoder_attn = self.decoder(context_embedded, decoder_input, decoder_hidden, encoder_outputs)\n",
    "\n",
    "            decoder_outputs[i] = decoder_output\n",
    "    \n",
    "            if word_targets is not None: # Teacher forcing with known targets\n",
    "                decoder_input = word_targets[i]\n",
    "\n",
    "                if i < target_len - 1:\n",
    "                    pointer_output = self.pointer(decoder_input, decoder_hidden, encoder_outputs)\n",
    "                    pointer_outputs[i] = pointer_output\n",
    "\n",
    "            else: # Sample with last outputs\n",
    "                max_index = decoder_output.topk(1)[1].data[0][0]\n",
    "                decoder_input = Variable(torch.LongTensor([max_index]))\n",
    "\n",
    "                if max_index == 0:\n",
    "                    break\n",
    "                else:\n",
    "                    pointer_output = self.pointer(decoder_input, decoder_hidden, encoder_outputs)\n",
    "                    pointer_outputs[i] = pointer_output\n",
    "                    \n",
    "        if word_targets is None:\n",
    "            decoder_outputs = decoder_outputs[:i]\n",
    "            pointer_outputs = pointer_outputs[:i]\n",
    "\n",
    "        return decoder_outputs, pointer_outputs"
   ]
  },
  {
   "cell_type": "markdown",
   "metadata": {},
   "source": [
    "## Training\n",
    "\n",
    "The inputs to the network are the current phrase label, e.g. `%getLightState` and the string to parse, \"the living room light is on\". The outputs are the child node labels, `$light` and `$on_off` with a selection of words given by attention-like weights over the sequence, treated as boolean values given a threshold.\n",
    "\n",
    "Unlike usual seq2seq training, the attention weights have explicit targets to focus on the relevant sub-phrases and values."
   ]
  },
  {
   "cell_type": "code",
   "execution_count": 19,
   "metadata": {
    "collapsed": false
   },
   "outputs": [],
   "source": [
    "input_size = len(input_tokens)\n",
    "output_size = len(output_tokens)\n",
    "hidden_size = 100\n",
    "\n",
    "learning_rate = 5e-4\n",
    "\n",
    "rarnn = RARNN(input_size, output_size, hidden_size)\n",
    "optimizer = torch.optim.Adam(rarnn.parameters(), lr=learning_rate)\n",
    "\n",
    "decoder_criterion = nn.NLLLoss()\n",
    "pointer_criterion = nn.MSELoss(size_average=False)"
   ]
  },
  {
   "cell_type": "code",
   "execution_count": 20,
   "metadata": {
    "collapsed": false,
    "scrolled": false
   },
   "outputs": [],
   "source": [
    "def train(flat, node):\n",
    "    context, inputs, targets = data_for_node(flat, node)\n",
    "\n",
    "    # Turn inputs into tensors\n",
    "    context_var = tokens_to_tensor([context], output_tokens, False)\n",
    "    context_var = Variable(context_var)\n",
    "    inputs_var = tokens_to_tensor(inputs, input_tokens).view(-1, 1, 1) # seq x batch x size\n",
    "    inputs_var = Variable(inputs_var)\n",
    "    target_tokens = [target_token for target_token, _ in targets]\n",
    "    target_ranges = [target_range for _, target_range in targets]\n",
    "    target_tokens_var = tokens_to_tensor(target_tokens, output_tokens)\n",
    "    target_tokens_var = Variable(target_tokens_var)\n",
    "    target_ranges_var = ranges_to_tensor(target_ranges, len(inputs) + 1)\n",
    "    target_ranges_var = Variable(target_ranges_var)\n",
    " \n",
    "    # Run through model\n",
    "    decoder_outputs, pointer_outputs = rarnn(context_var, inputs_var, target_tokens_var)\n",
    "\n",
    "    # Loss calculation and backprop\n",
    "    optimizer.zero_grad()\n",
    "    decoder_loss = decoder_criterion(decoder_outputs, target_tokens_var)\n",
    "    pointer_loss = pointer_criterion(pointer_outputs, target_ranges_var)\n",
    "    total_loss = decoder_loss + pointer_loss\n",
    "    total_loss.backward()\n",
    "    optimizer.step()\n",
    "\n",
    "    return total_loss.data[0]"
   ]
  },
  {
   "cell_type": "code",
   "execution_count": 21,
   "metadata": {
    "collapsed": false,
    "scrolled": false
   },
   "outputs": [
    {
     "name": "stdout",
     "output_type": "stream",
     "text": [
      "Starting job 593eca79f8e1c2083c22aa97 at 2017-06-12 10:08:10\n",
      "[log] 0m 9s (50) 2.7572\n",
      "[log] 0m 17s (100) 2.1512\n",
      "[log] 0m 25s (150) 2.0117\n",
      "[log] 0m 33s (200) 0.6180\n",
      "[log] 0m 43s (250) 1.0153\n",
      "[log] 0m 52s (300) 0.5083\n",
      "[log] 1m 2s (350) 0.5139\n",
      "[log] 1m 10s (400) 0.6200\n",
      "[log] 1m 19s (450) 0.4578\n",
      "[log] 1m 27s (500) 0.3731\n",
      "[log] 1m 36s (550) 0.2003\n",
      "[log] 1m 46s (600) 0.1153\n",
      "[log] 1m 54s (650) 0.2042\n",
      "[log] 2m 2s (700) 0.3133\n",
      "[log] 2m 10s (750) 0.2027\n",
      "[log] 2m 18s (800) 0.1185\n",
      "[log] 2m 26s (850) 0.0464\n",
      "[log] 2m 34s (900) 0.0747\n",
      "[log] 2m 42s (950) 0.0544\n",
      "[log] 2m 51s (1000) 0.0794\n",
      "[log] 2m 59s (1050) 0.0877\n",
      "[log] 3m 7s (1100) 0.4462\n",
      "[log] 3m 15s (1150) 0.6375\n",
      "[log] 3m 25s (1200) 0.2779\n",
      "[log] 3m 33s (1250) 0.0413\n",
      "[log] 3m 42s (1300) 0.0547\n",
      "[log] 3m 51s (1350) 0.0121\n",
      "[log] 4m 0s (1400) 0.0203\n",
      "[log] 4m 11s (1450) 0.0072\n",
      "[log] 4m 19s (1500) 0.4386\n",
      "[log] 4m 27s (1550) 0.0090\n",
      "[log] 4m 35s (1600) 0.3206\n",
      "[log] 4m 44s (1650) 0.0161\n",
      "[log] 4m 52s (1700) 0.0209\n",
      "[log] 5m 1s (1750) 0.0275\n",
      "[log] 5m 9s (1800) 0.0056\n",
      "[log] 5m 17s (1850) 0.0161\n",
      "[log] 5m 25s (1900) 0.0278\n",
      "[log] 5m 34s (1950) 0.1249\n"
     ]
    }
   ],
   "source": [
    "import sconce\n",
    "job = sconce.Job('rarnn')\n",
    "job.plot_every = 20\n",
    "job.log_every = 50\n",
    "\n",
    "n_epochs = 2000\n",
    "\n",
    "for i in range(n_epochs):\n",
    "    walked_flat, walked_tree = walk_tree(parsed, parsed['%'], None)\n",
    "    def _train(node): return train(walked_flat, node)\n",
    "    ds = descend(walked_tree, _train)\n",
    "    d = sum(ds) / len(ds)\n",
    "    job.record(i, d)"
   ]
  },
  {
   "cell_type": "markdown",
   "metadata": {},
   "source": [
    "## Evaluating"
   ]
  },
  {
   "cell_type": "code",
   "execution_count": 22,
   "metadata": {
    "collapsed": false
   },
   "outputs": [
    {
     "name": "stdout",
     "output_type": "stream",
     "text": [
      "Populating the interactive namespace from numpy and matplotlib\n"
     ]
    },
    {
     "name": "stderr",
     "output_type": "stream",
     "text": [
      "/Users/sean/anaconda3/lib/python3.5/site-packages/IPython/core/magics/pylab.py:161: UserWarning: pylab import has clobbered these variables: ['types', 'random']\n",
      "`%matplotlib` prevents importing * from pylab and numpy\n",
      "  \"\\n`%matplotlib` prevents importing * from pylab and numpy\"\n"
     ]
    }
   ],
   "source": [
    "%pylab inline"
   ]
  },
  {
   "cell_type": "code",
   "execution_count": 23,
   "metadata": {
    "collapsed": false
   },
   "outputs": [],
   "source": [
    "def evaluate(context, inputs, node=None):\n",
    "    if node == None:\n",
    "        node = Node('parsed')\n",
    "\n",
    "    print('(evaluate) %s %s' % (context, inputs))\n",
    "    context_var = tokens_to_tensor([context], output_tokens, False)\n",
    "    context_var = Variable(context_var)\n",
    "    inputs_var = tokens_to_tensor(inputs, input_tokens).view(-1, 1, 1) # seq x batch x size\n",
    "    inputs_var = Variable(inputs_var)\n",
    "    \n",
    "    decoder_outputs, pointer_outputs = rarnn(context_var, inputs_var)\n",
    "    fig = plt.figure(figsize=(len(inputs) / 2, 99))\n",
    "    sub = fig.add_subplot(111)\n",
    "    sub.matshow(pointer_outputs.data.squeeze(1).numpy(), vmin=0, vmax=1)\n",
    "    plt.show(); plt.close()\n",
    "    \n",
    "    next_contexts = []\n",
    "    next_inputs = []\n",
    "    \n",
    "    for i in range(len(decoder_outputs)):\n",
    "        max_index = decoder_outputs[i].topk(1)[1].data[0]\n",
    "        next_contexts.append(output_tokens[max_index])\n",
    "        p = pointer_outputs[i]\n",
    "        next_input = []\n",
    "        for j in range(len(p) - 1):\n",
    "            pj = p[j].data[0]\n",
    "            if pj > 0.5:\n",
    "                next_input.append(inputs[j])\n",
    "        next_inputs.append(next_input)\n",
    "\n",
    "    evaluated = list(zip(next_contexts, next_inputs))\n",
    "    print('evaluated', evaluated)\n",
    "    \n",
    "    for context, inputs in evaluated:\n",
    "        sub_node = Node(context)\n",
    "        node.add(sub_node)\n",
    "        if context[0] == '%':\n",
    "            evaluate(context, inputs, sub_node)\n",
    "        elif context[0] == '$':\n",
    "            sub_node.add(' '.join(inputs))\n",
    "\n",
    "    return node"
   ]
  },
  {
   "cell_type": "code",
   "execution_count": 24,
   "metadata": {
    "collapsed": true
   },
   "outputs": [],
   "source": [
    "def untokenize(ss): return ' '.join(ss)"
   ]
  },
  {
   "cell_type": "code",
   "execution_count": 25,
   "metadata": {
    "collapsed": true
   },
   "outputs": [],
   "source": [
    "def evaluate_and_print(context, inputs):\n",
    "    evaluated = evaluate(context, inputs)\n",
    "    print(untokenize(inputs))\n",
    "    print(evaluated)"
   ]
  },
  {
   "cell_type": "code",
   "execution_count": 26,
   "metadata": {
    "collapsed": false,
    "scrolled": false
   },
   "outputs": [
    {
     "name": "stdout",
     "output_type": "stream",
     "text": [
      "['turn', 'the', 'volume', 'up'] ( %\n",
      "    ( %setVolume (0, 3, 4)\n",
      "        ( $up_down (3, 3, 1) up ) ) )\n",
      "(evaluate) % ['turn', 'the', 'volume', 'up']\n"
     ]
    },
    {
     "data": {
      "image/png": "[encoded data removed]",
      "text/plain": [
       "<matplotlib.figure.Figure at 0x113a83828>"
      ]
     },
     "metadata": {},
     "output_type": "display_data"
    },
    {
     "name": "stdout",
     "output_type": "stream",
     "text": [
      "evaluated [('%setVolume', ['turn', 'the', 'volume', 'up'])]\n",
      "(evaluate) %setVolume ['turn', 'the', 'volume', 'up']\n"
     ]
    },
    {
     "data": {
      "image/png": "[encoded data removed]",
      "text/plain": [
       "<matplotlib.figure.Figure at 0x1142b45f8>"
      ]
     },
     "metadata": {},
     "output_type": "display_data"
    },
    {
     "name": "stdout",
     "output_type": "stream",
     "text": [
      "evaluated [('$up_down', ['up'])]\n",
      "turn the volume up\n",
      "( parsed\n",
      "    ( %setVolume\n",
      "        ( $up_down up ) ) )\n"
     ]
    }
   ],
   "source": [
    "walked_flat, walked_tree = walk_tree(parsed, parsed['%'], None)\n",
    "inputs = [child.key for child in walked_flat.children]\n",
    "print(inputs, walked_tree)\n",
    "evaluate_and_print('%', inputs)"
   ]
  },
  {
   "cell_type": "code",
   "execution_count": 27,
   "metadata": {
    "collapsed": false,
    "scrolled": false
   },
   "outputs": [
    {
     "name": "stdout",
     "output_type": "stream",
     "text": [
      "(evaluate) % ['hey', 'maia', 'if', 'the', 'ethereum', 'price', 'is', 'less', 'than', '20', 'then', 'turn', 'the', 'living', 'room', 'light', 'on']\n"
     ]
    },
    {
     "data": {
      "image/png": "[encoded data removed]",
      "text/plain": [
       "<matplotlib.figure.Figure at 0x114791908>"
      ]
     },
     "metadata": {},
     "output_type": "display_data"
    },
    {
     "name": "stdout",
     "output_type": "stream",
     "text": [
      "evaluated [('%if', ['if', 'the', 'ethereum', 'price', 'is', 'less', 'than', '20', 'then', 'turn', 'the', 'living', 'room', 'light', 'on'])]\n",
      "(evaluate) %if ['if', 'the', 'ethereum', 'price', 'is', 'less', 'than', '20', 'then', 'turn', 'the', 'living', 'room', 'light', 'on']\n"
     ]
    },
    {
     "data": {
      "image/png": "[encoded data removed]",
      "text/plain": [
       "<matplotlib.figure.Figure at 0x1142b1860>"
      ]
     },
     "metadata": {},
     "output_type": "display_data"
    },
    {
     "name": "stdout",
     "output_type": "stream",
     "text": [
      "evaluated [('%getPrice', ['the', 'ethereum', 'price']), ('$operator', ['less', 'than']), ('$value', ['20']), ('%setLightState', ['turn', 'the', 'living', 'room', 'light', 'on'])]\n",
      "(evaluate) %getPrice ['the', 'ethereum', 'price']\n"
     ]
    },
    {
     "data": {
      "image/png": "[encoded data removed]",
      "text/plain": [
       "<matplotlib.figure.Figure at 0x116ad6780>"
      ]
     },
     "metadata": {},
     "output_type": "display_data"
    },
    {
     "name": "stdout",
     "output_type": "stream",
     "text": [
      "evaluated [('$asset', ['ethereum'])]\n",
      "(evaluate) %setLightState ['turn', 'the', 'living', 'room', 'light', 'on']\n"
     ]
    },
    {
     "data": {
      "image/png": "[encoded data removed]",
      "text/plain": [
       "<matplotlib.figure.Figure at 0x116d24d68>"
      ]
     },
     "metadata": {},
     "output_type": "display_data"
    },
    {
     "name": "stdout",
     "output_type": "stream",
     "text": [
      "evaluated [('$light', ['living', 'room', 'light']), ('$on_off', ['on'])]\n",
      "hey maia if the ethereum price is less than 20 then turn the living room light on\n",
      "( parsed\n",
      "    ( %if\n",
      "        ( %getPrice\n",
      "            ( $asset ethereum ) )\n",
      "        ( $operator less than )\n",
      "        ( $value 20 )\n",
      "        ( %setLightState\n",
      "            ( $light living room light )\n",
      "            ( $on_off on ) ) ) )\n"
     ]
    }
   ],
   "source": [
    "evaluate_and_print('%', 'hey maia if the ethereum price is less than 20 then turn the living room light on'.split(' '))"
   ]
  },
  {
   "cell_type": "code",
   "execution_count": 32,
   "metadata": {
    "collapsed": false
   },
   "outputs": [
    {
     "name": "stdout",
     "output_type": "stream",
     "text": [
      "(evaluate) % ['hey', 'maia', \"what's\", 'the', 'ethereum', 'price']\n"
     ]
    },
    {
     "data": {
      "image/png": "[encoded data removed]",
      "text/plain": [
       "<matplotlib.figure.Figure at 0x1168af1d0>"
      ]
     },
     "metadata": {},
     "output_type": "display_data"
    },
    {
     "name": "stdout",
     "output_type": "stream",
     "text": [
      "evaluated [('%getPrice', ['ethereum', 'price'])]\n",
      "(evaluate) %getPrice ['ethereum', 'price']\n"
     ]
    },
    {
     "data": {
      "image/png": "[encoded data removed]",
      "text/plain": [
       "<matplotlib.figure.Figure at 0x116dc3160>"
      ]
     },
     "metadata": {},
     "output_type": "display_data"
    },
    {
     "name": "stdout",
     "output_type": "stream",
     "text": [
      "evaluated [('$asset', ['ethereum'])]\n",
      "hey maia what's the ethereum price\n",
      "( parsed\n",
      "    ( %getPrice\n",
      "        ( $asset ethereum ) ) )\n"
     ]
    }
   ],
   "source": [
    "evaluate_and_print('%', 'hey maia what\\'s the ethereum price'.split(' '))"
   ]
  },
  {
   "cell_type": "code",
   "execution_count": 33,
   "metadata": {
    "collapsed": false
   },
   "outputs": [
    {
     "name": "stdout",
     "output_type": "stream",
     "text": [
      "(evaluate) % ['hey', 'maia', 'play', 'some', 'Skrillex', 'please', 'and', 'then', 'turn', 'the', 'office', 'light', 'off']\n"
     ]
    },
    {
     "data": {
      "image/png": "[encoded data removed]",
      "text/plain": [
       "<matplotlib.figure.Figure at 0x116c09320>"
      ]
     },
     "metadata": {},
     "output_type": "display_data"
    },
    {
     "name": "stdout",
     "output_type": "stream",
     "text": [
      "evaluated [('%sequence', ['play', 'some', 'Skrillex', 'please', 'and', 'then', 'turn', 'the', 'office', 'light', 'off'])]\n",
      "(evaluate) %sequence ['play', 'some', 'Skrillex', 'please', 'and', 'then', 'turn', 'the', 'office', 'light', 'off']\n"
     ]
    },
    {
     "data": {
      "image/png": "[encoded data removed]",
      "text/plain": [
       "<matplotlib.figure.Figure at 0x116c1a8d0>"
      ]
     },
     "metadata": {},
     "output_type": "display_data"
    },
    {
     "name": "stdout",
     "output_type": "stream",
     "text": [
      "evaluated [('%playMusic', ['play', 'some', 'Skrillex', 'please']), ('%setLightState', ['turn', 'the', 'office', 'light', 'off'])]\n",
      "(evaluate) %playMusic ['play', 'some', 'Skrillex', 'please']\n"
     ]
    },
    {
     "data": {
      "image/png": "[encoded data removed]",
      "text/plain": [
       "<matplotlib.figure.Figure at 0x116ccc0b8>"
      ]
     },
     "metadata": {},
     "output_type": "display_data"
    },
    {
     "name": "stdout",
     "output_type": "stream",
     "text": [
      "evaluated [('$artist', ['Skrillex', 'please'])]\n",
      "(evaluate) %setLightState ['turn', 'the', 'office', 'light', 'off']\n"
     ]
    },
    {
     "data": {
      "image/png": "[encoded data removed]",
      "text/plain": [
       "<matplotlib.figure.Figure at 0x116ce1518>"
      ]
     },
     "metadata": {},
     "output_type": "display_data"
    },
    {
     "name": "stdout",
     "output_type": "stream",
     "text": [
      "evaluated [('$light', ['office', 'light']), ('$on_off', ['off'])]\n",
      "hey maia play some Skrillex please and then turn the office light off\n",
      "( parsed\n",
      "    ( %sequence\n",
      "        ( %playMusic\n",
      "            ( $artist Skrillex please ) )\n",
      "        ( %setLightState\n",
      "            ( $light office light )\n",
      "            ( $on_off off ) ) ) )\n"
     ]
    }
   ],
   "source": [
    "evaluate_and_print('%', 'hey maia play some Skrillex please and then turn the office light off'.split(' '))"
   ]
  },
  {
   "cell_type": "code",
   "execution_count": null,
   "metadata": {
    "collapsed": true
   },
   "outputs": [],
   "source": []
  }
 ],
 "metadata": {
  "anaconda-cloud": {},
  "kernelspec": {
   "display_name": "Python [conda root]",
   "language": "python",
   "name": "conda-root-py"
  },
  "language_info": {
   "codemirror_mode": {
    "name": "ipython",
    "version": 3
   },
   "file_extension": ".py",
   "mimetype": "text/x-python",
   "name": "python",
   "nbconvert_exporter": "python",
   "pygments_lexer": "ipython3",
   "version": "3.5.2"
  }
 },
 "nbformat": 4,
 "nbformat_minor": 1
}
