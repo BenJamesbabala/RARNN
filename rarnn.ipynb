{
 "cells": [
  {
   "cell_type": "code",
   "execution_count": 1,
   "metadata": {
    "collapsed": false
   },
   "outputs": [
    {
     "name": "stdout",
     "output_type": "stream",
     "text": [
      "Populating the interactive namespace from numpy and matplotlib\n"
     ]
    }
   ],
   "source": [
    "%pylab inline"
   ]
  },
  {
   "cell_type": "code",
   "execution_count": 2,
   "metadata": {
    "collapsed": true
   },
   "outputs": [],
   "source": [
    "import torch\n",
    "import torch.nn as nn\n",
    "import torch.nn.functional as F\n",
    "from torch.autograd import Variable\n",
    "\n",
    "USE_CUDA = False\n",
    "SHOW_ATTENTION = True"
   ]
  },
  {
   "cell_type": "code",
   "execution_count": 3,
   "metadata": {
    "collapsed": false
   },
   "outputs": [],
   "source": [
    "from nalgene.generate import *\n",
    "\n",
    "parsed = parse_file('.', 'grammar.nlg')\n",
    "parsed.map_leaves(tokenizeLeaf)"
   ]
  },
  {
   "cell_type": "code",
   "execution_count": 4,
   "metadata": {
    "collapsed": false
   },
   "outputs": [
    {
     "name": "stdout",
     "output_type": "stream",
     "text": [
      "loading word vectors from ../pytorch-seq2seq-intent-parsing/data/glove.twitter.27B.100d.pt\n"
     ]
    }
   ],
   "source": [
    "import torch\n",
    "from torchtext.vocab import load_word_vectors\n",
    "\n",
    "def tokenize_sentence(s):\n",
    "    s = s.lower()\n",
    "    s = re.sub(r'(\\d)', r'\\1 ', s)\n",
    "    s = re.sub(r'[^a-z0-9 \\']', ' ', s)\n",
    "    s = re.sub(r'\\s+', ' ', s).strip()\n",
    "    return s.split(' ')\n",
    "\n",
    "class GloVeLang:\n",
    "    def __init__(self, size):\n",
    "        self.size = size\n",
    "        base_dir = '../pytorch-seq2seq-intent-parsing/data/'\n",
    "        glove_dict, glove_arr, glove_size = load_word_vectors(base_dir, 'glove.twitter.27B', size)\n",
    "        self.glove_dict = glove_dict\n",
    "        self.glove_arr = glove_arr\n",
    "\n",
    "    def __str__(self):\n",
    "        return \"%s(size = %d)\" % (self.__class__.__name__, self.size)\n",
    "\n",
    "    def vector_from_word(self, word):\n",
    "        if word in self.glove_dict:\n",
    "            return self.glove_arr[self.glove_dict[word]]\n",
    "        else:\n",
    "            return torch.zeros(self.size)\n",
    "\n",
    "    def tokens_to_tensor(self, words):\n",
    "        tensor = torch.zeros(len(words), 1, self.size)\n",
    "        for wi in range(len(words)):\n",
    "            word = words[wi]\n",
    "            tensor[wi][0] = self.vector_from_word(word)\n",
    "        return tensor\n",
    "\n",
    "input_lang = GloVeLang(100)"
   ]
  },
  {
   "cell_type": "code",
   "execution_count": 5,
   "metadata": {
    "collapsed": true
   },
   "outputs": [],
   "source": [
    "def descend(node, fn, child_type='phrase', returns=None):\n",
    "    if returns is None: returns = []\n",
    "    returned = fn(node)\n",
    "    returns.append(returned)\n",
    "\n",
    "    for child in node.children:\n",
    "        if (child_type is None) or (child.type == child_type):\n",
    "            descend(child, fn, child_type, returns)\n",
    "    \n",
    "    return returns"
   ]
  },
  {
   "cell_type": "code",
   "execution_count": 6,
   "metadata": {
    "collapsed": false
   },
   "outputs": [],
   "source": [
    "def ascend(node, fn):\n",
    "    if node.parent is None:\n",
    "        return fn(node)\n",
    "    else:\n",
    "        return ascend(node.parent, fn)"
   ]
  },
  {
   "cell_type": "markdown",
   "metadata": {},
   "source": [
    "## Building input and output vocabularies\n",
    "\n",
    "To find all input vocabulary tokens, we can traverse the parsed nalgene tree and copy all `word` type tokens.\n",
    "\n",
    "**TODO**: Use GloVe vectors for input vocabulary"
   ]
  },
  {
   "cell_type": "code",
   "execution_count": 7,
   "metadata": {
    "collapsed": false
   },
   "outputs": [],
   "source": [
    "# input_tokens = []\n",
    "\n",
    "# def get_input_tokens(node):\n",
    "#     if node.type == 'word':\n",
    "#         input_tokens.append(node.key)\n",
    "\n",
    "# descend(parsed, get_input_tokens, None)\n",
    "\n",
    "# input_tokens = list(set(input_tokens))\n",
    "# input_tokens = ['EOS'] + input_tokens\n",
    "# print(input_tokens)"
   ]
  },
  {
   "cell_type": "markdown",
   "metadata": {},
   "source": [
    "For output tokens, we can just take the top level node names that are either phrases or variables."
   ]
  },
  {
   "cell_type": "code",
   "execution_count": 8,
   "metadata": {
    "collapsed": false
   },
   "outputs": [
    {
     "name": "stdout",
     "output_type": "stream",
     "text": [
      "['EOS', '%', '%main', '%if', '%timer', '%alarm', '%reminder', '%sequence', '%time', '%relative_time', '%absolute_time', '%condition', '%compare', '%getValue', '%action', '%alert', '%message', '%message_type', '@sms', '@email', '@call', '@chat', '%getLightState', '%getSwitchState', '%getTemperature', '%getPrice', '%setLightState', '%setSwitchState', '%setTemperature', '%setVolume', '%playMusic', '%greeting', '%thanks', '$message', '%operator', '@equal', '@greater_than', '@less_than', '%asset', '@btc', '@eth', '$stock', '%room_name', '@office', '@living_room', '@bedroom', '@basement', '@kitchen', '@bathroom', '@outside', '%light_name', '@office_light', '@living_room_light', '@bedroom_light', '@basement_light', '@kitchen_light', '@bathroom_light', '@outside_light', '%switch_name', '@tea_switch', '@coffee_switch', '%light_state', '%switch_state', '%volume_state', '@on', '@off', '@up', '@down', '@high', '@low', '$color', '$number', '$digits', '$digit', '%time_unit', '@seconds', '@minutes', '@hours', '@days', '$temperature', '$time', '$hour', '$minute', '$artist_name', '$song_name']\n"
     ]
    }
   ],
   "source": [
    "output_tokens = [child.key for child in parsed.children if child.type in ['phrase', 'ref', 'value']]\n",
    "output_tokens = ['EOS'] + output_tokens\n",
    "print(output_tokens)"
   ]
  },
  {
   "cell_type": "markdown",
   "metadata": {},
   "source": [
    "## Getting input and target data for nodes"
   ]
  },
  {
   "cell_type": "code",
   "execution_count": 9,
   "metadata": {
    "collapsed": true
   },
   "outputs": [],
   "source": [
    "def words_for_position(words, position):\n",
    "    if position is None:\n",
    "        return words\n",
    "    start, end, length = position\n",
    "    return words[start : end + 1]"
   ]
  },
  {
   "cell_type": "code",
   "execution_count": 10,
   "metadata": {
    "collapsed": false
   },
   "outputs": [],
   "source": [
    "def relative_position(node, parent):\n",
    "    if parent.position is None:\n",
    "        return node.position\n",
    "    return node.position[0] - parent.position[0], node.position[1] - parent.position[0], node.position[2]"
   ]
  },
  {
   "cell_type": "code",
   "execution_count": 11,
   "metadata": {
    "collapsed": false
   },
   "outputs": [],
   "source": [
    "def data_for_node(flat, node):\n",
    "    words = [child.key for child in flat.children]\n",
    "    inputs = words_for_position(words, node.position)\n",
    "    keys = [child.key for child in node.children]\n",
    "    positions = [relative_position(child, node) for child in node.children]\n",
    "    return node.key, inputs, list(zip(keys, positions))"
   ]
  },
  {
   "cell_type": "markdown",
   "metadata": {},
   "source": [
    "## Creating tensors for input and target data"
   ]
  },
  {
   "cell_type": "code",
   "execution_count": 12,
   "metadata": {
    "collapsed": true
   },
   "outputs": [],
   "source": [
    "def tokens_to_tensor(tokens, source_tokens, append_eos=True):\n",
    "    indexes = []\n",
    "    for token in tokens:\n",
    "        indexes.append(source_tokens.index(token))\n",
    "    if append_eos:\n",
    "        indexes.append(0)\n",
    "    return torch.LongTensor(indexes)"
   ]
  },
  {
   "cell_type": "code",
   "execution_count": 13,
   "metadata": {
    "collapsed": false
   },
   "outputs": [],
   "source": [
    "def ranges_to_tensor(ranges, seq_len):\n",
    "    ranges_tensor = torch.zeros(len(ranges), seq_len)\n",
    "    for r in range(len(ranges)):\n",
    "        start, end, _ = ranges[r]\n",
    "        ranges_tensor[r, start:end+1] = 1\n",
    "    return ranges_tensor"
   ]
  },
  {
   "cell_type": "markdown",
   "metadata": {},
   "source": [
    "## Model\n",
    "\n",
    "The core model is a regular seq2seq/encoder-decoder model with attention. The attention model is from [Luong et al.'s \"Effective Approaches to Attention-based Neural Machine Translation\"](https://arxiv.org/abs/1508.04025) using dot-product based attention energies, with one important difference: there is no softmax layer, allowing attention to focus on multiple tokens at once. Instead a sigmoid layer is added to squeeze outputs between 0 and 1.\n",
    "\n",
    "The encoder and decoder take one additional input `context` which represents the type of phrase, e.g. `%setLightState`. At the top level node the context is always `%`.\n",
    "\n",
    "The encoder encodes the input sequence into a series of vectors using a bidirectional GRU. The decoder \"translates\" this into a sequence of phrase tokens, given the encoder outputs and current context, e.g. \"turn off the office light\" + `%setLightState` &rarr; `[$on_off, $light]`.\n",
    "\n",
    "Once the decoder has chosen tokens and alignments, the phrase tokens and selection of inputs are used as the context and inputs of the next iteration. This recurs until no more phrase tokens are found."
   ]
  },
  {
   "cell_type": "code",
   "execution_count": 14,
   "metadata": {
    "collapsed": true
   },
   "outputs": [],
   "source": [
    "class Encoder(nn.Module):\n",
    "    def __init__(self, input_size, hidden_size, n_layers=1, dropout=0.05):\n",
    "        super(Encoder, self).__init__()\n",
    "\n",
    "        self.input_size = input_size\n",
    "        self.hidden_size = hidden_size\n",
    "        self.n_layers = n_layers\n",
    "\n",
    "        self.embedding = nn.Linear(input_size, hidden_size)\n",
    "        self.gru = nn.GRU(hidden_size, hidden_size, n_layers, dropout=dropout, bidirectional=True)\n",
    "\n",
    "    def forward(self, context_input, word_inputs):\n",
    "        # TODO: Incorporate context input\n",
    "        # TODO: Batching\n",
    "        \n",
    "        seq_len = word_inputs.size(0)\n",
    "        batch_size = word_inputs.size(1)\n",
    "        \n",
    "        embedded = self.embedding(word_inputs.view(seq_len * batch_size, -1)) # Process seq x batch at once\n",
    "        output = embedded.view(seq_len, batch_size, -1) # Resize back to seq x batch for RNN\n",
    "\n",
    "        outputs, hidden = self.gru(output)\n",
    "        outputs = outputs[:, :, :self.hidden_size] + outputs[:, : ,self.hidden_size:] # Sum bidirectional outputs\n",
    "\n",
    "        return outputs, hidden"
   ]
  },
  {
   "cell_type": "code",
   "execution_count": 15,
   "metadata": {
    "collapsed": false
   },
   "outputs": [],
   "source": [
    "class Attention(nn.Module):\n",
    "    def __init__(self):\n",
    "        super(Attention, self).__init__()\n",
    "\n",
    "    def forward(self, hidden, encoder_outputs):\n",
    "        seq_len = len(encoder_outputs)\n",
    "\n",
    "        # Create variable to store attention energies\n",
    "        attention_energies = Variable(torch.zeros(seq_len)) # B x 1 x S\n",
    "        if USE_CUDA: attention_energies = attention_energies.cuda()\n",
    "\n",
    "        # Calculate energies for each encoder output\n",
    "        for i in range(seq_len):\n",
    "            attention_energies[i] = hidden.dot(encoder_outputs[i])\n",
    "\n",
    "        # Squeeze to range 0 to 1, resize to 1 x 1 x seq_len\n",
    "        return F.sigmoid(attention_energies).unsqueeze(0).unsqueeze(0)"
   ]
  },
  {
   "cell_type": "code",
   "execution_count": 16,
   "metadata": {
    "collapsed": false
   },
   "outputs": [],
   "source": [
    "class Decoder(nn.Module):\n",
    "    def __init__(self, hidden_size, output_size, n_layers=1, dropout=0.05):\n",
    "        super(Decoder, self).__init__()\n",
    "        \n",
    "        # Keep parameters for reference\n",
    "        self.hidden_size = hidden_size\n",
    "        self.output_size = output_size\n",
    "        self.n_layers = n_layers\n",
    "        self.dropout = dropout\n",
    "        \n",
    "        # Define layers\n",
    "        self.embedding = nn.Embedding(output_size, hidden_size)\n",
    "        self.gru = nn.GRU(hidden_size * 2, hidden_size, n_layers, dropout=dropout)\n",
    "        self.out = nn.Linear(hidden_size * 2, output_size)\n",
    "        \n",
    "        # Attention module\n",
    "        self.attention = Attention()\n",
    "    \n",
    "    def forward(self, context_input, word_input, last_hidden, encoder_outputs):\n",
    "        # Note: we run this one step at a time\n",
    "        # TODO: Batching\n",
    "        \n",
    "        # Get the embedding of the current input word (last output word)\n",
    "        word_embedded = self.embedding(word_input).view(1, 1, -1) # S=1 x B x N\n",
    "        \n",
    "        # Combine context and embedded word, through RNN\n",
    "        rnn_input = torch.cat((context_input.unsqueeze(0), word_embedded), 2)\n",
    "        rnn_output, hidden = self.gru(rnn_input, last_hidden)\n",
    "\n",
    "        # Calculate attention from current RNN state and all encoder outputs; apply to encoder outputs\n",
    "        attention_weights = self.attention(rnn_output.squeeze(0), encoder_outputs)\n",
    "        context = attention_weights.bmm(encoder_outputs.transpose(0, 1)) # B x 1 x N\n",
    "        \n",
    "        # Final output layer (next word prediction) using the RNN hidden state and context vector\n",
    "        rnn_output = rnn_output.squeeze(0) # S=1 x B x N -> B x N\n",
    "        context = context.squeeze(1)       # B x S=1 x N -> B x N\n",
    "        output = F.log_softmax(self.out(torch.cat((rnn_output, context), 1)))\n",
    "        \n",
    "        # Return final output, hidden state, and attention weights (for visualization)\n",
    "        return output, hidden, attention_weights"
   ]
  },
  {
   "cell_type": "markdown",
   "metadata": {},
   "source": [
    "We can turn the whole thing into one module by combining the Encoder and Decoder networks. There's also an embedding layer for the context tokens."
   ]
  },
  {
   "cell_type": "code",
   "execution_count": 17,
   "metadata": {
    "collapsed": false
   },
   "outputs": [],
   "source": [
    "MAX_LENGTH = 50\n",
    "\n",
    "class RARNN(nn.Module):\n",
    "    def __init__(self, input_size, output_tokens, hidden_size):\n",
    "        super(RARNN, self).__init__()\n",
    "        \n",
    "        self.output_tokens = output_tokens\n",
    "        self.input_size = input_size\n",
    "        self.output_size = len(output_tokens)\n",
    "        self.hidden_size = hidden_size\n",
    "        \n",
    "        self.embedding = nn.Embedding(self.output_size, hidden_size)\n",
    "        \n",
    "        self.encoder = Encoder(self.input_size, hidden_size)\n",
    "        self.decoder = Decoder(hidden_size, self.output_size)\n",
    "\n",
    "    def forward(self, context_input, word_inputs, word_targets=None):\n",
    "        # Get embedding for context input\n",
    "        context_embedded = self.embedding(context_input)\n",
    "        \n",
    "        input_len = word_inputs.size(0)\n",
    "        target_len = word_targets.size(0) if word_targets is not None else MAX_LENGTH\n",
    "        \n",
    "        # Run through encoder\n",
    "        encoder_outputs, encoder_hidden = self.encoder(context_embedded, word_inputs)\n",
    "        decoder_hidden = encoder_hidden # Use encoder's last hidden state\n",
    "        decoder_input = Variable(torch.LongTensor([0])) # EOS/SOS token\n",
    "        if USE_CUDA:\n",
    "            decoder_input = decoder_input.cuda()\n",
    "\n",
    "        # Variables to store decoder and attention outputs\n",
    "        decoder_outputs = Variable(torch.zeros(target_len, self.output_size))\n",
    "        decoder_attentions = Variable(torch.zeros(target_len, input_len))\n",
    "        if USE_CUDA:\n",
    "            decoder_outputs = decoder_outputs.cuda()\n",
    "            decoder_attentions = decoder_attentions.cuda()\n",
    "        \n",
    "        # Run through decoder\n",
    "        for i in range(target_len):\n",
    "            decoder_output, decoder_hidden, decoder_attention = self.decoder(context_embedded, decoder_input, decoder_hidden, encoder_outputs)\n",
    "            decoder_outputs[i] = decoder_output\n",
    "            decoder_attentions[i] = decoder_attention\n",
    "\n",
    "            # Teacher forcing with known targets, if provided\n",
    "            if word_targets is not None:\n",
    "                decoder_input = word_targets[i]\n",
    "\n",
    "            # Sample with last outputs\n",
    "            else:\n",
    "                max_index = decoder_output.topk(1)[1].data[0][0]\n",
    "                decoder_input = Variable(torch.LongTensor([max_index]))\n",
    "                if USE_CUDA:\n",
    "                    decoder_input = decoder_input.cuda()\n",
    "\n",
    "                if max_index == 0: break # EOS\n",
    "        \n",
    "        # Slice outputs\n",
    "        if word_targets is None:\n",
    "            if i > 0:\n",
    "                decoder_outputs = decoder_outputs[:i]\n",
    "                decoder_attentions = decoder_attentions[:i]\n",
    "            else:\n",
    "                decoder_outputs = Variable(torch.Tensor())\n",
    "                decoder_attentions = Variable(torch.Tensor())\n",
    "\n",
    "        elif target_len > 1:\n",
    "            decoder_attentions = decoder_attentions[:-1] # Ignore attentions on EOS\n",
    "\n",
    "        return decoder_outputs, decoder_attentions"
   ]
  },
  {
   "cell_type": "markdown",
   "metadata": {},
   "source": [
    "## Training\n",
    "\n",
    "The inputs to the network are the current phrase label, e.g. `%getLightState` and the string to parse, \"the living room light is on\". The outputs are the child node labels, `$light` and `$on_off` with a selection of words given by attention-like weights over the sequence, treated as boolean values given a threshold."
   ]
  },
  {
   "cell_type": "code",
   "execution_count": 18,
   "metadata": {
    "collapsed": false
   },
   "outputs": [],
   "source": [
    "input_size = 100\n",
    "hidden_size = 100\n",
    "\n",
    "learning_rate = 1e-4\n",
    "weight_decay = 1e-6\n",
    "\n",
    "rarnn = RARNN(input_size, output_tokens, hidden_size)\n",
    "optimizer = torch.optim.Adam(rarnn.parameters(), lr=learning_rate, weight_decay=weight_decay)\n",
    "\n",
    "decoder_criterion = nn.NLLLoss()\n",
    "attention_criterion = nn.MSELoss(size_average=False)"
   ]
  },
  {
   "cell_type": "code",
   "execution_count": 19,
   "metadata": {
    "collapsed": false,
    "scrolled": false
   },
   "outputs": [],
   "source": [
    "def train(flat, node):\n",
    "    context, inputs, targets = data_for_node(flat, node)\n",
    "\n",
    "    # Turn inputs into tensors\n",
    "    context_var = tokens_to_tensor([context], rarnn.output_tokens, False)\n",
    "    context_var = Variable(context_var)\n",
    "    inputs_var = input_lang.tokens_to_tensor(inputs) # seq x batch x size\n",
    "    inputs_var = Variable(inputs_var)\n",
    "    target_tokens = [target_token for target_token, _ in targets]\n",
    "    target_ranges = [target_range for _, target_range in targets]\n",
    "    target_tokens_var = tokens_to_tensor(target_tokens, rarnn.output_tokens)\n",
    "    target_tokens_var = Variable(target_tokens_var)\n",
    "    target_ranges_var = ranges_to_tensor(target_ranges, len(inputs))\n",
    "    target_ranges_var = Variable(target_ranges_var)\n",
    " \n",
    "    # Run through model\n",
    "    decoder_outputs, attention_outputs = rarnn(context_var, inputs_var, target_tokens_var)\n",
    "\n",
    "    # Loss calculation and backprop\n",
    "    optimizer.zero_grad()\n",
    "    decoder_loss = decoder_criterion(decoder_outputs, target_tokens_var)\n",
    "    if len(targets) > 0:\n",
    "        attention_loss = attention_criterion(attention_outputs, target_ranges_var)\n",
    "    else:\n",
    "        attention_loss = 0\n",
    "    total_loss = decoder_loss + attention_loss\n",
    "    total_loss.backward()\n",
    "    optimizer.step()\n",
    "\n",
    "    return total_loss.data[0]"
   ]
  },
  {
   "cell_type": "code",
   "execution_count": 20,
   "metadata": {
    "collapsed": false,
    "scrolled": false
   },
   "outputs": [
    {
     "name": "stdout",
     "output_type": "stream",
     "text": [
      "Starting job 5945d97ef8e1c2083c22e0b1 at 2017-06-17 18:38:06\n",
      "[log] 0m 8s (100) 4.3188\n",
      "[log] 0m 18s (200) 1.0373\n",
      "[log] 0m 27s (300) 0.7562\n",
      "[log] 0m 35s (400) 3.1305\n",
      "[log] 0m 45s (500) 0.3602\n",
      "[log] 0m 54s (600) 0.4813\n",
      "[log] 1m 5s (700) 0.3830\n",
      "[log] 1m 14s (800) 0.1757\n",
      "[log] 1m 25s (900) 1.9926\n",
      "[log] 1m 35s (1000) 1.6087\n",
      "[log] 1m 46s (1100) 0.1349\n",
      "[log] 1m 54s (1200) 0.1791\n",
      "[log] 2m 4s (1300) 0.0779\n",
      "[log] 2m 16s (1400) 0.1250\n",
      "[log] 2m 27s (1500) 0.1004\n",
      "[log] 2m 38s (1600) 0.0730\n",
      "[log] 2m 49s (1700) 0.0762\n",
      "[log] 2m 59s (1800) 0.0403\n",
      "[log] 3m 10s (1900) 0.0182\n",
      "[log] 3m 22s (2000) 0.0059\n",
      "[log] 3m 34s (2100) 0.0430\n",
      "[log] 3m 45s (2200) 0.0731\n",
      "[log] 3m 55s (2300) 0.0526\n",
      "[log] 4m 4s (2400) 0.0451\n",
      "[log] 4m 14s (2500) 0.0235\n",
      "[log] 4m 22s (2600) 0.0061\n",
      "[log] 4m 33s (2700) 0.3634\n",
      "[log] 4m 45s (2800) 0.2099\n",
      "[log] 4m 55s (2900) 0.0206\n",
      "[log] 5m 6s (3000) 0.0111\n",
      "[log] 5m 15s (3100) 0.0018\n",
      "[log] 5m 26s (3200) 0.4094\n",
      "[log] 5m 40s (3300) 0.5237\n",
      "[log] 5m 49s (3400) 0.0044\n",
      "[log] 6m 1s (3500) 0.0179\n",
      "[log] 6m 13s (3600) 0.5085\n",
      "[log] 6m 22s (3700) 0.0081\n",
      "[log] 6m 32s (3800) 0.0218\n",
      "[log] 6m 44s (3900) 0.5667\n",
      "[log] 6m 55s (4000) 0.0011\n",
      "[log] 7m 5s (4100) 0.6060\n",
      "[log] 7m 15s (4200) 0.0236\n",
      "[log] 7m 26s (4300) 0.2471\n",
      "[log] 7m 34s (4400) 0.0008\n",
      "[log] 7m 43s (4500) 0.3001\n",
      "[log] 7m 56s (4600) 0.0012\n",
      "[log] 8m 6s (4700) 0.4515\n",
      "[log] 8m 18s (4800) 0.0030\n",
      "[log] 8m 29s (4900) 0.0006\n"
     ]
    }
   ],
   "source": [
    "import sconce\n",
    "job = sconce.Job('rarnn')\n",
    "job.plot_every = 20\n",
    "job.log_every = 100\n",
    "\n",
    "n_epochs = 5000\n",
    "\n",
    "for i in range(n_epochs):\n",
    "    walked_flat, walked_tree = walk_tree(parsed, parsed['%'], None)\n",
    "    def _train(node): return train(walked_flat, node)\n",
    "    ds = descend(walked_tree, _train)\n",
    "    d = sum(ds) / len(ds)\n",
    "    job.record(i, d)"
   ]
  },
  {
   "cell_type": "markdown",
   "metadata": {},
   "source": [
    "## Evaluating"
   ]
  },
  {
   "cell_type": "code",
   "execution_count": 21,
   "metadata": {
    "collapsed": false
   },
   "outputs": [],
   "source": [
    "def evaluate(context, inputs, node=None):\n",
    "    if node == None:\n",
    "        node = Node('parsed')\n",
    "        node.position = (0, len(inputs))\n",
    "    \n",
    "    # Turn data into tensors\n",
    "    context_var = tokens_to_tensor([context], rarnn.output_tokens, False)\n",
    "    context_var = Variable(context_var)\n",
    "    inputs_var = input_lang.tokens_to_tensor(inputs) # seq x batch x size\n",
    "    inputs_var = Variable(inputs_var)\n",
    "    \n",
    "    # Run through RARNN\n",
    "    decoder_outputs, attention_outputs = rarnn(context_var, inputs_var)\n",
    "    \n",
    "    # Given the decoder and attention outputs, gather contexts and inputs for sub-phrases\n",
    "    # Use attention values > 0.5 to select words for next input sequence\n",
    "\n",
    "    next_contexts = []\n",
    "    next_inputs = []\n",
    "    next_positions = []\n",
    "    \n",
    "    for i in range(len(decoder_outputs)):\n",
    "        max_value, max_index = decoder_outputs[i].topk(1)\n",
    "        max_index = max_index.data[0]\n",
    "        next_contexts.append(rarnn.output_tokens[max_index]) # Get decoder output token\n",
    "        a = attention_outputs[i]\n",
    "        next_input = []\n",
    "        next_position = []\n",
    "        for t in range(len(a)):\n",
    "            at = a[t].data[0]\n",
    "            if at > 0.5:\n",
    "                if len(next_position) == 0: # Start position\n",
    "                    next_position.append(t)\n",
    "                next_input.append(inputs[t])\n",
    "            else:\n",
    "                if len(next_position) == 1: # End position\n",
    "                    next_position.append(t - 1)\n",
    "        if len(next_position) == 1: # End position\n",
    "            next_position.append(t)\n",
    "        next_inputs.append(next_input)\n",
    "        if len(next_position) == 2:\n",
    "            next_position = (next_position[0] + node.position[0], next_position[1] + node.position[0])\n",
    "        next_positions.append(next_position)\n",
    "\n",
    "    evaluated = list(zip(next_contexts, next_inputs, next_positions))\n",
    "\n",
    "    # Print decoded outputs\n",
    "    print('\\n(evaluate) %s %s -> %s' % (context, ' '.join(inputs), next_contexts))\n",
    "    \n",
    "    # Plot attention outputs\n",
    "    if SHOW_ATTENTION:\n",
    "        if len(attention_outputs) > 1:\n",
    "            print(attention_outputs)\n",
    "            fig = plt.figure(figsize=(len(inputs) / 3, 99))\n",
    "            sub = fig.add_subplot(111)\n",
    "            sub.matshow(attention_outputs.data.squeeze(1).numpy(), vmin=0, vmax=1, cmap='hot')\n",
    "            plt.show(); plt.close()\n",
    "        else:\n",
    "            print(\"WARNING: No attention outputs\")\n",
    "    \n",
    "    for context, inputs, position in evaluated:\n",
    "        # Add a node for parsed sub-phrases and values\n",
    "        sub_node = Node(context)\n",
    "        sub_node.position = position\n",
    "        node.add(sub_node)\n",
    "        \n",
    "        # Recursively evaluate sub-phrases\n",
    "        if context[0] == '%':\n",
    "            if len(inputs) > 0:\n",
    "                evaluate(context, inputs, sub_node)\n",
    "            else:\n",
    "                print(\"WARNING: Empty inputs\")\n",
    "    \n",
    "        # Or add words directly to value node\n",
    "        elif context[0] == '$':\n",
    "            sub_node.add(' '.join(inputs))\n",
    "\n",
    "    return node"
   ]
  },
  {
   "cell_type": "code",
   "execution_count": 22,
   "metadata": {
    "collapsed": true
   },
   "outputs": [],
   "source": [
    "def evaluate_and_print(context, inputs):\n",
    "    evaluated = evaluate(context, inputs)\n",
    "    print(' '.join(inputs))\n",
    "    print(evaluated)\n",
    "    return evaluated"
   ]
  },
  {
   "cell_type": "code",
   "execution_count": 23,
   "metadata": {
    "collapsed": false
   },
   "outputs": [
    {
     "name": "stdout",
     "output_type": "stream",
     "text": [
      "\n",
      "(evaluate) % hey maia what's the btc price -> ['%sequence']\n",
      "WARNING: No attention outputs\n",
      "\n",
      "(evaluate) %sequence maia what's the btc price -> ['%action']\n",
      "WARNING: No attention outputs\n",
      "\n",
      "(evaluate) %action maia what's the btc price -> ['%getPrice']\n",
      "WARNING: No attention outputs\n",
      "\n",
      "(evaluate) %getPrice maia what's the btc price -> ['%asset']\n",
      "WARNING: No attention outputs\n",
      "\n",
      "(evaluate) %asset maia btc -> ['@btc']\n",
      "WARNING: No attention outputs\n",
      "hey maia what's the btc price\n",
      "( parsed (0, 6)\n",
      "    ( %sequence (1, 5)\n",
      "        ( %action (1, 5)\n",
      "            ( %getPrice (1, 5)\n",
      "                ( %asset (1, 1)\n",
      "                    ( @btc (1, 2) ) ) ) ) ) )\n"
     ]
    },
    {
     "data": {
      "text/plain": [
       "<nalgene.node.Node at 0x134047438>"
      ]
     },
     "execution_count": 23,
     "metadata": {},
     "output_type": "execute_result"
    }
   ],
   "source": [
    "evaluate_and_print('%', \"hey maia what's the btc price\".split(' '))"
   ]
  },
  {
   "cell_type": "code",
   "execution_count": 24,
   "metadata": {
    "collapsed": false
   },
   "outputs": [
    {
     "name": "stdout",
     "output_type": "stream",
     "text": [
      "\n",
      "(evaluate) % plz call me when the price of tesla is above 5 0 -> ['%if']\n",
      "WARNING: No attention outputs\n",
      "\n",
      "(evaluate) %if plz call me when the price of tesla is above 5 0 -> ['%alert', '%condition']\n",
      "Variable containing:\n",
      "\n",
      "Columns 0 to 9 \n",
      " 0.9992  0.9949  0.9812  0.0012  0.0730  0.0121  0.0106  0.0107  0.0003  0.0030\n",
      " 0.0038  0.0185  0.0439  0.0057  0.9385  0.9858  0.9972  0.9987  0.9992  0.9999\n",
      "\n",
      "Columns 10 to 11 \n",
      " 0.0107  0.0043\n",
      " 0.9996  0.9996\n",
      "[torch.FloatTensor of size 2x12]\n",
      "\n"
     ]
    },
    {
     "data": {
      "image/png": "[encoded data removed]",
      "text/plain": [
       "<matplotlib.figure.Figure at 0x133878eb8>"
      ]
     },
     "metadata": {},
     "output_type": "display_data"
    },
    {
     "name": "stdout",
     "output_type": "stream",
     "text": [
      "\n",
      "(evaluate) %alert plz call me -> ['%message_type']\n",
      "WARNING: No attention outputs\n",
      "\n",
      "(evaluate) %message_type call -> ['@call']\n",
      "WARNING: No attention outputs\n",
      "\n",
      "(evaluate) %condition the price of tesla is above 5 0 -> ['%getValue', '$number']\n",
      "Variable containing:\n",
      " 0.9993  0.9997  0.9956  0.9776  0.1356  0.2025  0.0101  0.0017\n",
      " 0.0001  0.0009  0.0021  0.0003  0.0313  0.9805  0.7363  0.7212\n",
      "[torch.FloatTensor of size 2x8]\n",
      "\n"
     ]
    },
    {
     "data": {
      "image/png": "[encoded data removed]",
      "text/plain": [
       "<matplotlib.figure.Figure at 0x134379898>"
      ]
     },
     "metadata": {},
     "output_type": "display_data"
    },
    {
     "name": "stdout",
     "output_type": "stream",
     "text": [
      "\n",
      "(evaluate) %getValue the price of tesla -> ['%getPrice']\n",
      "WARNING: No attention outputs\n",
      "\n",
      "(evaluate) %getPrice the price of tesla -> ['%asset']\n",
      "WARNING: No attention outputs\n",
      "\n",
      "(evaluate) %asset tesla -> ['$stock']\n",
      "WARNING: No attention outputs\n",
      "plz call me when the price of tesla is above 5 0\n",
      "( parsed (0, 12)\n",
      "    ( %if (0, 11)\n",
      "        ( %alert (0, 2)\n",
      "            ( %message_type (1, 1)\n",
      "                ( @call (1, 1) ) ) )\n",
      "        ( %condition (4, 11)\n",
      "            ( %getValue (4, 7)\n",
      "                ( %getPrice (4, 7)\n",
      "                    ( %asset (7, 7)\n",
      "                        ( $stock (7, 7) tesla ) ) ) )\n",
      "            ( $number (9, 11) above 5 0 ) ) ) )\n"
     ]
    },
    {
     "data": {
      "text/plain": [
       "<nalgene.node.Node at 0x13c8c32b0>"
      ]
     },
     "execution_count": 24,
     "metadata": {},
     "output_type": "execute_result"
    }
   ],
   "source": [
    "evaluate_and_print('%', \"plz call me when the price of tesla is above 5 0\".split(' '))"
   ]
  },
  {
   "cell_type": "code",
   "execution_count": 25,
   "metadata": {
    "collapsed": false,
    "scrolled": false
   },
   "outputs": [
    {
     "name": "stdout",
     "output_type": "stream",
     "text": [
      "\n",
      "(evaluate) % hey maia if the ethereum price is less than 2 0 then turn the living room light on -> ['%if']\n",
      "WARNING: No attention outputs\n",
      "\n",
      "(evaluate) %if if the ethereum price is less than 2 0 then turn the living room light on -> ['%condition', '%sequence']\n",
      "Variable containing:\n",
      "\n",
      "Columns 0 to 5 \n",
      " 5.2703e-02  9.8708e-01  9.9661e-01  9.3996e-01  9.6085e-01  9.9436e-01\n",
      " 1.7502e-04  6.1326e-02  4.3590e-04  4.6715e-04  2.5827e-04  6.9270e-04\n",
      "\n",
      "Columns 6 to 11 \n",
      " 8.5065e-01  9.8593e-01  9.4292e-01  5.1305e-03  1.3066e-03  8.0447e-03\n",
      " 2.4266e-03  1.3568e-02  2.9568e-02  2.8469e-01  9.8339e-01  9.9992e-01\n",
      "\n",
      "Columns 12 to 15 \n",
      " 1.4485e-02  1.6154e-03  1.0330e-03  8.6225e-06\n",
      " 9.9836e-01  9.9762e-01  9.9991e-01  9.9941e-01\n",
      "[torch.FloatTensor of size 2x16]\n",
      "\n"
     ]
    },
    {
     "data": {
      "image/png": "[encoded data removed]",
      "text/plain": [
       "<matplotlib.figure.Figure at 0x13386b4a8>"
      ]
     },
     "metadata": {},
     "output_type": "display_data"
    },
    {
     "name": "stdout",
     "output_type": "stream",
     "text": [
      "\n",
      "(evaluate) %condition the ethereum price is less than 2 0 -> ['%getValue', '%operator', '$number']\n",
      "Variable containing:\n",
      "\n",
      "Columns 0 to 5 \n",
      " 9.9964e-01  9.9971e-01  9.9871e-01  2.6355e-01  6.1660e-02  3.3172e-04\n",
      " 4.6563e-04  1.4216e-03  6.4425e-03  2.2843e-02  9.9206e-01  9.7696e-01\n",
      " 1.9768e-06  6.3569e-05  1.1907e-07  1.0644e-05  1.5179e-02  5.6186e-02\n",
      "\n",
      "Columns 6 to 7 \n",
      " 1.3233e-04  4.0747e-05\n",
      " 2.3411e-01  2.4424e-01\n",
      " 9.6682e-01  9.9454e-01\n",
      "[torch.FloatTensor of size 3x8]\n",
      "\n"
     ]
    },
    {
     "data": {
      "image/png": "[encoded data removed]",
      "text/plain": [
       "<matplotlib.figure.Figure at 0x1340db550>"
      ]
     },
     "metadata": {},
     "output_type": "display_data"
    },
    {
     "name": "stdout",
     "output_type": "stream",
     "text": [
      "\n",
      "(evaluate) %getValue the ethereum price -> ['%getPrice']\n",
      "WARNING: No attention outputs\n",
      "\n",
      "(evaluate) %getPrice the ethereum price -> ['%asset']\n",
      "WARNING: No attention outputs\n",
      "\n",
      "(evaluate) %asset ethereum -> ['@eth']\n",
      "WARNING: No attention outputs\n",
      "\n",
      "(evaluate) %operator less than -> ['@less_than']\n",
      "WARNING: No attention outputs\n",
      "\n",
      "(evaluate) %sequence turn the living room light on -> ['%action']\n",
      "WARNING: No attention outputs\n",
      "\n",
      "(evaluate) %action turn the living room light on -> ['%setLightState']\n",
      "WARNING: No attention outputs\n",
      "\n",
      "(evaluate) %setLightState turn the living room light on -> ['%light_name', '%light_state']\n",
      "Variable containing:\n",
      " 0.1356  0.9793  0.9996  0.9991  0.9432  0.0341\n",
      " 0.0001  0.0113  0.0103  0.0076  0.0320  0.9834\n",
      "[torch.FloatTensor of size 2x6]\n",
      "\n"
     ]
    },
    {
     "data": {
      "image/png": "[encoded data removed]",
      "text/plain": [
       "<matplotlib.figure.Figure at 0x134df8438>"
      ]
     },
     "metadata": {},
     "output_type": "display_data"
    },
    {
     "name": "stdout",
     "output_type": "stream",
     "text": [
      "\n",
      "(evaluate) %light_name the living room light -> ['@living_room_light']\n",
      "WARNING: No attention outputs\n",
      "\n",
      "(evaluate) %light_state on -> ['@on']\n",
      "WARNING: No attention outputs\n",
      "hey maia if the ethereum price is less than 2 0 then turn the living room light on\n",
      "( parsed (0, 18)\n",
      "    ( %if (2, 17)\n",
      "        ( %condition (3, 10)\n",
      "            ( %getValue (3, 5)\n",
      "                ( %getPrice (3, 5)\n",
      "                    ( %asset (4, 4)\n",
      "                        ( @eth (4, 4) ) ) ) )\n",
      "            ( %operator (7, 8)\n",
      "                ( @less_than (7, 8) ) )\n",
      "            ( $number (9, 10) 2 0 ) )\n",
      "        ( %sequence (12, 17)\n",
      "            ( %action (12, 17)\n",
      "                ( %setLightState (12, 17)\n",
      "                    ( %light_name (13, 16)\n",
      "                        ( @living_room_light (13, 16) ) )\n",
      "                    ( %light_state (17, 17)\n",
      "                        ( @on (17, 17) ) ) ) ) ) ) )\n",
      "\n",
      "(evaluate) % hey maia what's the ethereum price -> ['%sequence']\n",
      "WARNING: No attention outputs\n",
      "\n",
      "(evaluate) %sequence maia what's the ethereum price -> ['%action']\n",
      "WARNING: No attention outputs\n",
      "\n",
      "(evaluate) %action maia what's the ethereum price -> ['%getPrice']\n",
      "WARNING: No attention outputs\n",
      "\n",
      "(evaluate) %getPrice maia what's the ethereum price -> ['%asset']\n",
      "WARNING: No attention outputs\n",
      "\n",
      "(evaluate) %asset ethereum -> ['@eth']\n",
      "WARNING: No attention outputs\n",
      "hey maia what's the ethereum price\n",
      "( parsed (0, 6)\n",
      "    ( %sequence (1, 5)\n",
      "        ( %action (1, 5)\n",
      "            ( %getPrice (1, 5)\n",
      "                ( %asset (4, 4)\n",
      "                    ( @eth (4, 4) ) ) ) ) ) )\n",
      "\n",
      "(evaluate) % hey maia play some Skrillex please and then turn the office light off -> ['%sequence']\n",
      "WARNING: No attention outputs\n",
      "\n",
      "(evaluate) %sequence play some Skrillex please and then turn the office light off -> ['%action', '%action']\n",
      "Variable containing:\n",
      "\n",
      "Columns 0 to 9 \n",
      " 0.9526  0.9978  0.9990  0.0041  0.0562  0.0002  0.1132  0.3451  0.4552  0.0309\n",
      " 0.0011  0.0010  0.0004  0.0000  0.0002  0.0003  0.6951  0.9750  0.8843  0.9196\n",
      "\n",
      "Columns 10 to 10 \n",
      " 0.0057\n",
      " 0.9734\n",
      "[torch.FloatTensor of size 2x11]\n",
      "\n"
     ]
    },
    {
     "data": {
      "image/png": "[encoded data removed]",
      "text/plain": [
       "<matplotlib.figure.Figure at 0x134e5feb8>"
      ]
     },
     "metadata": {},
     "output_type": "display_data"
    },
    {
     "name": "stdout",
     "output_type": "stream",
     "text": [
      "\n",
      "(evaluate) %action play some Skrillex -> ['%playMusic']\n",
      "WARNING: No attention outputs\n",
      "\n",
      "(evaluate) %playMusic play some Skrillex -> ['$artist_name']\n",
      "WARNING: No attention outputs\n",
      "\n",
      "(evaluate) %action turn the office light off -> ['%setLightState']\n",
      "WARNING: No attention outputs\n",
      "\n",
      "(evaluate) %setLightState turn the office light off -> ['%light_name', '%light_state']\n",
      "Variable containing:\n",
      " 0.1775  0.9770  0.9984  0.9725  0.1154\n",
      " 0.0001  0.0119  0.0117  0.0799  0.9750\n",
      "[torch.FloatTensor of size 2x5]\n",
      "\n"
     ]
    },
    {
     "data": {
      "image/png": "[encoded data removed]",
      "text/plain": [
       "<matplotlib.figure.Figure at 0x1343e5d68>"
      ]
     },
     "metadata": {},
     "output_type": "display_data"
    },
    {
     "name": "stdout",
     "output_type": "stream",
     "text": [
      "\n",
      "(evaluate) %light_name the office light -> ['@office_light']\n",
      "WARNING: No attention outputs\n",
      "\n",
      "(evaluate) %light_state off -> ['@off']\n",
      "WARNING: No attention outputs\n",
      "hey maia play some Skrillex please and then turn the office light off\n",
      "( parsed (0, 13)\n",
      "    ( %sequence (2, 12)\n",
      "        ( %action (2, 4)\n",
      "            ( %playMusic (2, 4)\n",
      "                ( $artist_name (4, 4) Skrillex ) ) )\n",
      "        ( %action (8, 12)\n",
      "            ( %setLightState (8, 12)\n",
      "                ( %light_name (9, 11)\n",
      "                    ( @office_light (9, 11) ) )\n",
      "                ( %light_state (12, 12)\n",
      "                    ( @off (12, 12) ) ) ) ) ) )\n",
      "\n",
      "(evaluate) % turn the office light up and also could you please turn off the living room light and make the temperature of the bedroom to 6 thank you maia -> ['%sequence']\n",
      "WARNING: No attention outputs\n",
      "\n",
      "(evaluate) %sequence turn the office light up and also could you please turn off the living room light and make the temperature of the bedroom to 6 -> ['%action', '%action', '%action']\n",
      "Variable containing:\n",
      "\n",
      "Columns 0 to 5 \n",
      " 9.9543e-01  9.9931e-01  9.9962e-01  9.9835e-01  9.7091e-01  3.5177e-03\n",
      " 2.2957e-02  9.8036e-03  1.4652e-03  3.3185e-03  1.4501e-02  5.7223e-04\n",
      " 4.4044e-05  1.4737e-06  3.2747e-08  7.4998e-08  2.9953e-07  1.9099e-08\n",
      "\n",
      "Columns 6 to 11 \n",
      " 1.4380e-05  5.3929e-06  1.0750e-06  2.8122e-08  8.0415e-05  3.6781e-04\n",
      " 1.1129e-03  6.2825e-03  2.5884e-03  1.1548e-03  9.0924e-01  9.0973e-01\n",
      " 7.7146e-08  1.3063e-06  1.6668e-06  4.9748e-06  3.0601e-02  5.1231e-02\n",
      "\n",
      "Columns 12 to 17 \n",
      " 7.7496e-05  9.1006e-05  9.5520e-05  8.5558e-06  2.7558e-10  3.4114e-09\n",
      " 9.6433e-01  9.5907e-01  8.9054e-01  5.7409e-01  2.7781e-04  4.7989e-02\n",
      " 1.8130e-01  1.4259e-01  2.5116e-01  2.4696e-01  1.7988e-03  7.2405e-01\n",
      "\n",
      "Columns 18 to 23 \n",
      " 3.2813e-09  2.5748e-09  1.5908e-09  2.3186e-09  3.5733e-08  3.5241e-09\n",
      " 5.9691e-02  6.8430e-02  8.6925e-03  6.0320e-03  2.6470e-02  2.8023e-03\n",
      " 8.2102e-01  8.0763e-01  8.2717e-01  8.7059e-01  9.2982e-01  8.0895e-01\n",
      "\n",
      "Columns 24 to 24 \n",
      " 1.4095e-09\n",
      " 6.5334e-03\n",
      " 9.2120e-01\n",
      "[torch.FloatTensor of size 3x25]\n",
      "\n"
     ]
    },
    {
     "data": {
      "image/png": "[encoded data removed]",
      "text/plain": [
       "<matplotlib.figure.Figure at 0x133874cf8>"
      ]
     },
     "metadata": {},
     "output_type": "display_data"
    },
    {
     "name": "stdout",
     "output_type": "stream",
     "text": [
      "\n",
      "(evaluate) %action turn the office light up -> ['%setLightState']\n",
      "WARNING: No attention outputs\n",
      "\n",
      "(evaluate) %setLightState turn the office light up -> ['%light_name', '%light_state']\n",
      "Variable containing:\n",
      " 0.1112  0.9599  0.9965  0.9061  0.0086\n",
      " 0.0001  0.0106  0.0106  0.0683  0.9011\n",
      "[torch.FloatTensor of size 2x5]\n",
      "\n"
     ]
    },
    {
     "data": {
      "image/png": "[encoded data removed]",
      "text/plain": [
       "<matplotlib.figure.Figure at 0x134e6edd8>"
      ]
     },
     "metadata": {},
     "output_type": "display_data"
    },
    {
     "name": "stdout",
     "output_type": "stream",
     "text": [
      "\n",
      "(evaluate) %light_name the office light -> ['@office_light']\n",
      "WARNING: No attention outputs\n",
      "\n",
      "(evaluate) %light_state up -> ['@up']\n",
      "WARNING: No attention outputs\n",
      "\n",
      "(evaluate) %action turn off the living room light -> ['%setLightState']\n",
      "WARNING: No attention outputs\n",
      "\n",
      "(evaluate) %setLightState turn off the living room light -> ['%light_name', '%light_state']\n",
      "Variable containing:\n",
      " 0.2023  0.8455  0.1936  0.8200  0.6191  0.0178\n",
      " 0.0001  0.0816  0.0250  0.0229  0.0279  0.2038\n",
      "[torch.FloatTensor of size 2x6]\n",
      "\n"
     ]
    },
    {
     "data": {
      "image/png": "[encoded data removed]",
      "text/plain": [
       "<matplotlib.figure.Figure at 0x134d54b38>"
      ]
     },
     "metadata": {},
     "output_type": "display_data"
    },
    {
     "name": "stdout",
     "output_type": "stream",
     "text": [
      "\n",
      "(evaluate) %light_name off living room -> ['@living_room_light']\n",
      "WARNING: No attention outputs\n",
      "WARNING: Empty inputs\n",
      "\n",
      "(evaluate) %action make the temperature of the bedroom to 6 -> ['%setTemperature']\n",
      "WARNING: No attention outputs\n",
      "\n",
      "(evaluate) %setTemperature make the temperature of the bedroom to 6 -> ['%room_name', '$temperature']\n",
      "Variable containing:\n",
      "\n",
      "Columns 0 to 5 \n",
      " 1.5998e-03  1.1430e-02  1.4474e-03  4.3956e-03  6.1450e-02  9.8775e-01\n",
      " 7.2643e-07  5.2093e-06  4.0760e-06  6.0852e-06  7.2367e-05  6.5544e-04\n",
      "\n",
      "Columns 6 to 7 \n",
      " 2.9442e-03  6.1333e-02\n",
      " 2.0923e-02  9.8676e-01\n",
      "[torch.FloatTensor of size 2x8]\n",
      "\n"
     ]
    },
    {
     "data": {
      "image/png": "[encoded data removed]",
      "text/plain": [
       "<matplotlib.figure.Figure at 0x1430f6f98>"
      ]
     },
     "metadata": {},
     "output_type": "display_data"
    },
    {
     "name": "stdout",
     "output_type": "stream",
     "text": [
      "\n",
      "(evaluate) %room_name bedroom -> ['@bathroom']\n",
      "WARNING: No attention outputs\n",
      "turn the office light up and also could you please turn off the living room light and make the temperature of the bedroom to 6 thank you maia\n",
      "( parsed (0, 28)\n",
      "    ( %sequence (0, 24)\n",
      "        ( %action (0, 4)\n",
      "            ( %setLightState (0, 4)\n",
      "                ( %light_name (1, 3)\n",
      "                    ( @office_light (1, 3) ) )\n",
      "                ( %light_state (4, 4)\n",
      "                    ( @up (4, 4) ) ) ) )\n",
      "        ( %action (10, 15)\n",
      "            ( %setLightState (10, 15)\n",
      "                ( %light_name (11, 11)\n",
      "                    ( @living_room_light (11, 13) ) )\n",
      "                ( %light_state [] ) ) )\n",
      "        ( %action (17, 24)\n",
      "            ( %setTemperature (17, 24)\n",
      "                ( %room_name (22, 22)\n",
      "                    ( @bathroom (22, 22) ) )\n",
      "                ( $temperature (24, 24) 6 ) ) ) ) )\n",
      "\n",
      "(evaluate) % turn the living room light off and turn the bedroom light up and also turn the volume up -> ['%setLightState']\n",
      "WARNING: No attention outputs\n",
      "\n",
      "(evaluate) %setLightState turn the living room light off and turn the bedroom light up and also turn the volume up -> ['%light_name', '%light_state']\n",
      "Variable containing:\n",
      "\n",
      "Columns 0 to 5 \n",
      " 8.2453e-01  9.9735e-01  9.9983e-01  9.9985e-01  9.9704e-01  9.6383e-01\n",
      " 1.6499e-04  4.7618e-03  2.8669e-03  2.5954e-03  2.0595e-03  1.7571e-01\n",
      "\n",
      "Columns 6 to 11 \n",
      " 5.3868e-02  1.2612e-03  2.6578e-02  2.1230e-02  1.8833e-02  1.2795e-03\n",
      " 6.4355e-03  1.3239e-03  1.3316e-02  4.4142e-04  4.8845e-03  6.8358e-02\n",
      "\n",
      "Columns 12 to 17 \n",
      " 1.8915e-04  3.1719e-06  1.0156e-06  1.7680e-06  6.0462e-07  2.7580e-08\n",
      " 9.0607e-03  2.1724e-04  5.7884e-04  4.6274e-03  5.8008e-03  8.3872e-02\n",
      "[torch.FloatTensor of size 2x18]\n",
      "\n"
     ]
    },
    {
     "data": {
      "image/png": "[encoded data removed]",
      "text/plain": [
       "<matplotlib.figure.Figure at 0x1430e2518>"
      ]
     },
     "metadata": {},
     "output_type": "display_data"
    },
    {
     "name": "stdout",
     "output_type": "stream",
     "text": [
      "\n",
      "(evaluate) %light_name turn the living room light off -> ['@living_room_light']\n",
      "WARNING: No attention outputs\n",
      "WARNING: Empty inputs\n",
      "turn the living room light off and turn the bedroom light up and also turn the volume up\n",
      "( parsed (0, 18)\n",
      "    ( %setLightState (0, 17)\n",
      "        ( %light_name (0, 5)\n",
      "            ( @living_room_light (0, 5) ) )\n",
      "        ( %light_state [] ) ) )\n"
     ]
    },
    {
     "data": {
      "text/plain": [
       "<nalgene.node.Node at 0x1430e29b0>"
      ]
     },
     "execution_count": 25,
     "metadata": {},
     "output_type": "execute_result"
    }
   ],
   "source": [
    "evaluate_and_print('%', \"hey maia if the ethereum price is less than 2 0 then turn the living room light on\".split(' '))\n",
    "evaluate_and_print('%', \"hey maia what's the ethereum price\".split(' '))\n",
    "evaluate_and_print('%', \"hey maia play some Skrillex please and then turn the office light off\".split(' '))\n",
    "evaluate_and_print('%', \"turn the office light up and also could you please turn off the living room light and make the temperature of the bedroom to 6 thank you maia\".split(' '))\n",
    "evaluate_and_print('%', \"turn the living room light off and turn the bedroom light up and also turn the volume up\".split(' '))"
   ]
  },
  {
   "cell_type": "code",
   "execution_count": 26,
   "metadata": {
    "collapsed": false,
    "scrolled": false
   },
   "outputs": [
    {
     "name": "stdout",
     "output_type": "stream",
     "text": [
      "words ['heya', 'shoot', 'me', 'an', 'email', 'if', 'the', 'price', 'of', 'bitcoin', 'is', 'bigger', 'than', '3', '0', '0', '0', 'would', 'ya']\n",
      "\n",
      "(evaluate) % heya shoot me an email if the price of bitcoin is bigger than 3 0 0 0 would ya -> ['%if']\n",
      "WARNING: No attention outputs\n",
      "\n",
      "(evaluate) %if shoot me an email if the price of bitcoin is bigger than 3 0 0 0 -> ['%alert', '%condition']\n",
      "Variable containing:\n",
      "\n",
      "Columns 0 to 9 \n",
      " 0.9998  0.9988  0.8995  0.9537  0.0081  0.2099  0.0483  0.0483  0.0197  0.0019\n",
      " 0.0008  0.0010  0.0001  0.0120  0.0746  0.9887  0.9968  0.9992  0.9989  0.9993\n",
      "\n",
      "Columns 10 to 15 \n",
      " 0.0091  0.0016  0.0103  0.0037  0.0014  0.0007\n",
      " 0.9991  0.9975  0.9996  0.9993  0.9990  0.9987\n",
      "[torch.FloatTensor of size 2x16]\n",
      "\n"
     ]
    },
    {
     "data": {
      "image/png": "[encoded data removed]",
      "text/plain": [
       "<matplotlib.figure.Figure at 0x134ec6668>"
      ]
     },
     "metadata": {},
     "output_type": "display_data"
    },
    {
     "name": "stdout",
     "output_type": "stream",
     "text": [
      "\n",
      "(evaluate) %alert shoot me an email -> ['%message_type']\n",
      "WARNING: No attention outputs\n",
      "\n",
      "(evaluate) %message_type email -> ['@email']\n",
      "WARNING: No attention outputs\n",
      "\n",
      "(evaluate) %condition the price of bitcoin is bigger than 3 0 0 0 -> ['%getValue', '%operator', '$number']\n",
      "Variable containing:\n",
      "\n",
      "Columns 0 to 5 \n",
      " 9.9992e-01  9.9996e-01  9.9954e-01  9.9435e-01  1.0395e-01  1.7570e-02\n",
      " 2.0009e-04  2.4964e-03  1.0730e-02  8.7231e-03  2.3112e-02  9.8321e-01\n",
      " 3.6184e-07  2.1461e-08  1.5177e-06  7.3842e-06  1.5524e-05  7.0941e-04\n",
      "\n",
      "Columns 6 to 10 \n",
      " 8.0400e-04  3.7924e-04  1.7648e-04  5.0516e-05  1.0655e-05\n",
      " 9.8296e-01  1.7921e-01  1.6781e-01  1.9078e-01  1.9987e-01\n",
      " 3.0326e-02  9.3317e-01  9.9116e-01  9.9779e-01  9.9905e-01\n",
      "[torch.FloatTensor of size 3x11]\n",
      "\n"
     ]
    },
    {
     "data": {
      "image/png": "[encoded data removed]",
      "text/plain": [
       "<matplotlib.figure.Figure at 0x133872b38>"
      ]
     },
     "metadata": {},
     "output_type": "display_data"
    },
    {
     "name": "stdout",
     "output_type": "stream",
     "text": [
      "\n",
      "(evaluate) %getValue the price of bitcoin -> ['%getPrice']\n",
      "WARNING: No attention outputs\n",
      "\n",
      "(evaluate) %getPrice the price of bitcoin -> ['%asset']\n",
      "WARNING: No attention outputs\n",
      "\n",
      "(evaluate) %asset bitcoin -> ['@btc']\n",
      "WARNING: No attention outputs\n",
      "\n",
      "(evaluate) %operator bigger than -> ['@greater_than']\n",
      "WARNING: No attention outputs\n",
      "heya shoot me an email if the price of bitcoin is bigger than 3 0 0 0 would ya\n",
      "( parsed (0, 19)\n",
      "    ( %if (1, 16)\n",
      "        ( %alert (1, 4)\n",
      "            ( %message_type (4, 4)\n",
      "                ( @email (4, 4) ) ) )\n",
      "        ( %condition (6, 16)\n",
      "            ( %getValue (6, 9)\n",
      "                ( %getPrice (6, 9)\n",
      "                    ( %asset (9, 9)\n",
      "                        ( @btc (9, 9) ) ) ) )\n",
      "            ( %operator (11, 12)\n",
      "                ( @greater_than (11, 12) ) )\n",
      "            ( $number (13, 16) 3 0 0 0 ) ) ) )\n",
      "response {'parsed': {'key': 'parsed', 'position': (0, 19), 'children': [{'key': '%if', 'position': (1, 16), 'children': [{'key': '%alert', 'position': (1, 4), 'children': [{'key': '%message_type', 'position': (4, 4), 'children': [{'key': '@email', 'position': (4, 4), 'children': []}]}]}, {'key': '%condition', 'position': (6, 16), 'children': [{'key': '%getValue', 'position': (6, 9), 'children': [{'key': '%getPrice', 'position': (6, 9), 'children': [{'key': '%asset', 'position': (9, 9), 'children': [{'key': '@btc', 'position': (9, 9), 'children': []}]}]}]}, {'key': '%operator', 'position': (11, 12), 'children': [{'key': '@greater_than', 'position': (11, 12), 'children': []}]}, {'key': '$number', 'position': (13, 16), 'children': ['3 0 0 0']}]}]}]}, 'words': ['heya', 'shoot', 'me', 'an', 'email', 'if', 'the', 'price', 'of', 'bitcoin', 'is', 'bigger', 'than', '3', '0', '0', '0', 'would', 'ya']}\n"
     ]
    }
   ],
   "source": [
    "def parse(s, cb):\n",
    "    words = tokenize_sentence(s)\n",
    "    print('words', words)\n",
    "    try:\n",
    "        evaluated = evaluate_and_print('%', words)\n",
    "        cb({'words': words, 'parsed': evaluated.to_json()})\n",
    "    except Exception:\n",
    "        cb({'error': \"Failed to evaluate\"})\n",
    "\n",
    "parse('heya shoot me an email if the price of bitcoin is bigger than 3 0 0 0 would ya', lambda r: print(\"response\", r))"
   ]
  },
  {
   "cell_type": "code",
   "execution_count": 27,
   "metadata": {
    "collapsed": false
   },
   "outputs": [
    {
     "ename": "ZMQError",
     "evalue": "Address already in use",
     "output_type": "error",
     "traceback": [
      "\u001b[0;31m---------------------------------------------------------------------------\u001b[0m",
      "\u001b[0;31mZMQError\u001b[0m                                  Traceback (most recent call last)",
      "\u001b[0;32m<ipython-input-27-d649229162be>\u001b[0m in \u001b[0;36m<module>\u001b[0;34m()\u001b[0m\n\u001b[1;32m      1\u001b[0m \u001b[0;32mimport\u001b[0m \u001b[0msomata\u001b[0m\u001b[0;34m\u001b[0m\u001b[0m\n\u001b[0;32m----> 2\u001b[0;31m \u001b[0mservice\u001b[0m \u001b[0;34m=\u001b[0m \u001b[0msomata\u001b[0m\u001b[0;34m.\u001b[0m\u001b[0mService\u001b[0m\u001b[0;34m(\u001b[0m\u001b[0;34m'maia:parser'\u001b[0m\u001b[0;34m,\u001b[0m \u001b[0;34m{\u001b[0m\u001b[0;34m'parse'\u001b[0m\u001b[0;34m:\u001b[0m \u001b[0mparse\u001b[0m\u001b[0;34m}\u001b[0m\u001b[0;34m,\u001b[0m \u001b[0;34m{\u001b[0m\u001b[0;34m'bind_port'\u001b[0m\u001b[0;34m:\u001b[0m \u001b[0;36m8855\u001b[0m\u001b[0;34m}\u001b[0m\u001b[0;34m)\u001b[0m\u001b[0;34m\u001b[0m\u001b[0m\n\u001b[0m",
      "\u001b[0;32m/Users/sean/python_modules/somata/service.py\u001b[0m in \u001b[0;36m__init__\u001b[0;34m(self, name, methods, options)\u001b[0m\n\u001b[1;32m     41\u001b[0m         \u001b[0;31m# Create the binding socket\u001b[0m\u001b[0;34m\u001b[0m\u001b[0;34m\u001b[0m\u001b[0m\n\u001b[1;32m     42\u001b[0m         \u001b[0mself\u001b[0m\u001b[0;34m.\u001b[0m\u001b[0msocket\u001b[0m \u001b[0;34m=\u001b[0m \u001b[0mcontext\u001b[0m\u001b[0;34m.\u001b[0m\u001b[0msocket\u001b[0m\u001b[0;34m(\u001b[0m\u001b[0mzmq\u001b[0m\u001b[0;34m.\u001b[0m\u001b[0mROUTER\u001b[0m\u001b[0;34m)\u001b[0m\u001b[0;34m\u001b[0m\u001b[0m\n\u001b[0;32m---> 43\u001b[0;31m         \u001b[0mself\u001b[0m\u001b[0;34m.\u001b[0m\u001b[0msocket\u001b[0m\u001b[0;34m.\u001b[0m\u001b[0mbind\u001b[0m\u001b[0;34m(\u001b[0m\u001b[0;34m'tcp://0.0.0.0:%s'\u001b[0m \u001b[0;34m%\u001b[0m \u001b[0moptions\u001b[0m\u001b[0;34m[\u001b[0m\u001b[0;34m'bind_port'\u001b[0m\u001b[0;34m]\u001b[0m\u001b[0;34m)\u001b[0m\u001b[0;34m\u001b[0m\u001b[0m\n\u001b[0m\u001b[1;32m     44\u001b[0m \u001b[0;34m\u001b[0m\u001b[0m\n\u001b[1;32m     45\u001b[0m         \u001b[0;31m# Deregister when killed\u001b[0m\u001b[0;34m\u001b[0m\u001b[0;34m\u001b[0m\u001b[0m\n",
      "\u001b[0;32mzmq/backend/cython/socket.pyx\u001b[0m in \u001b[0;36mzmq.backend.cython.socket.Socket.bind (zmq/backend/cython/socket.c:5653)\u001b[0;34m()\u001b[0m\n",
      "\u001b[0;32m/Users/sean/anaconda3/lib/python3.5/site-packages/zmq/backend/cython/checkrc.pxd\u001b[0m in \u001b[0;36mzmq.backend.cython.checkrc._check_rc (zmq/backend/cython/socket.c:10014)\u001b[0;34m()\u001b[0m\n",
      "\u001b[0;31mZMQError\u001b[0m: Address already in use"
     ]
    }
   ],
   "source": [
    "import somata\n",
    "service = somata.Service('maia:parser', {'parse': parse}, {'bind_port': 8855})"
   ]
  },
  {
   "cell_type": "code",
   "execution_count": null,
   "metadata": {
    "collapsed": false
   },
   "outputs": [],
   "source": [
    "service.socket.close()"
   ]
  },
  {
   "cell_type": "code",
   "execution_count": null,
   "metadata": {
    "collapsed": true
   },
   "outputs": [],
   "source": []
  }
 ],
 "metadata": {
  "anaconda-cloud": {},
  "kernelspec": {
   "display_name": "Python [conda root]",
   "language": "python",
   "name": "conda-root-py"
  },
  "language_info": {
   "codemirror_mode": {
    "name": "ipython",
    "version": 3
   },
   "file_extension": ".py",
   "mimetype": "text/x-python",
   "name": "python",
   "nbconvert_exporter": "python",
   "pygments_lexer": "ipython3",
   "version": "3.5.2"
  }
 },
 "nbformat": 4,
 "nbformat_minor": 1
}
