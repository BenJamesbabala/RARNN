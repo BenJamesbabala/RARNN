{
 "cells": [
  {
   "cell_type": "code",
   "execution_count": 1,
   "metadata": {
    "collapsed": false
   },
   "outputs": [
    {
     "name": "stdout",
     "output_type": "stream",
     "text": [
      "Populating the interactive namespace from numpy and matplotlib\n"
     ]
    }
   ],
   "source": [
    "%pylab inline"
   ]
  },
  {
   "cell_type": "code",
   "execution_count": 38,
   "metadata": {
    "collapsed": true
   },
   "outputs": [],
   "source": [
    "import torch\n",
    "import torch.nn as nn\n",
    "import torch.nn.functional as F\n",
    "from torch.autograd import Variable\n",
    "\n",
    "USE_CUDA = False\n",
    "SHOW_ATTENTION = False"
   ]
  },
  {
   "cell_type": "code",
   "execution_count": 3,
   "metadata": {
    "collapsed": false
   },
   "outputs": [],
   "source": [
    "from nalgene.generate import *\n",
    "\n",
    "parsed = parse_file('.', 'grammar.nlg')\n",
    "parsed.map_leaves(tokenizeLeaf)"
   ]
  },
  {
   "cell_type": "code",
   "execution_count": 4,
   "metadata": {
    "collapsed": false
   },
   "outputs": [
    {
     "name": "stdout",
     "output_type": "stream",
     "text": [
      "loading word vectors from ../pytorch-seq2seq-intent-parsing/data/glove.twitter.27B.100d.pt\n"
     ]
    }
   ],
   "source": [
    "import torch\n",
    "from torchtext.vocab import load_word_vectors\n",
    "\n",
    "def tokenize_sentence(s):\n",
    "    s = s.lower()\n",
    "    s = re.sub(r'(\\d)', r'\\1 ', s)\n",
    "    s = re.sub(r'[^a-z0-9 \\']', ' ', s)\n",
    "    s = re.sub(r'\\s+', ' ', s).strip()\n",
    "    return s.split(' ')\n",
    "\n",
    "class GloVeLang:\n",
    "    def __init__(self, size):\n",
    "        self.size = size\n",
    "        base_dir = '../pytorch-seq2seq-intent-parsing/data/'\n",
    "        glove_dict, glove_arr, glove_size = load_word_vectors(base_dir, 'glove.twitter.27B', size)\n",
    "        self.glove_dict = glove_dict\n",
    "        self.glove_arr = glove_arr\n",
    "\n",
    "    def __str__(self):\n",
    "        return \"%s(size = %d)\" % (self.__class__.__name__, self.size)\n",
    "\n",
    "    def vector_from_word(self, word):\n",
    "        if word in self.glove_dict:\n",
    "            return self.glove_arr[self.glove_dict[word]]\n",
    "        else:\n",
    "            return torch.zeros(self.size)\n",
    "\n",
    "    def tokens_to_tensor(self, words):\n",
    "        tensor = torch.zeros(len(words), 1, self.size)\n",
    "        for wi in range(len(words)):\n",
    "            word = words[wi]\n",
    "            tensor[wi][0] = self.vector_from_word(word)\n",
    "        return tensor\n",
    "\n",
    "input_lang = GloVeLang(100)"
   ]
  },
  {
   "cell_type": "code",
   "execution_count": 5,
   "metadata": {
    "collapsed": true
   },
   "outputs": [],
   "source": [
    "def descend(node, fn, child_type='phrase', returns=None):\n",
    "    if returns is None: returns = []\n",
    "    returned = fn(node)\n",
    "    returns.append(returned)\n",
    "\n",
    "    for child in node.children:\n",
    "        if (child_type is None) or (child.type == child_type):\n",
    "            descend(child, fn, child_type, returns)\n",
    "    \n",
    "    return returns"
   ]
  },
  {
   "cell_type": "code",
   "execution_count": 6,
   "metadata": {
    "collapsed": false
   },
   "outputs": [],
   "source": [
    "def ascend(node, fn):\n",
    "    if node.parent is None:\n",
    "        return fn(node)\n",
    "    else:\n",
    "        return ascend(node.parent, fn)"
   ]
  },
  {
   "cell_type": "markdown",
   "metadata": {},
   "source": [
    "## Building input and output vocabularies\n",
    "\n",
    "To find all input vocabulary tokens, we can traverse the parsed nalgene tree and copy all `word` type tokens.\n",
    "\n",
    "**TODO**: Use GloVe vectors for input vocabulary"
   ]
  },
  {
   "cell_type": "code",
   "execution_count": 7,
   "metadata": {
    "collapsed": false
   },
   "outputs": [],
   "source": [
    "# input_tokens = []\n",
    "\n",
    "# def get_input_tokens(node):\n",
    "#     if node.type == 'word':\n",
    "#         input_tokens.append(node.key)\n",
    "\n",
    "# descend(parsed, get_input_tokens, None)\n",
    "\n",
    "# input_tokens = list(set(input_tokens))\n",
    "# input_tokens = ['EOS'] + input_tokens\n",
    "# print(input_tokens)"
   ]
  },
  {
   "cell_type": "markdown",
   "metadata": {},
   "source": [
    "For output tokens, we can just take the top level node names that are either phrases or variables."
   ]
  },
  {
   "cell_type": "code",
   "execution_count": 8,
   "metadata": {
    "collapsed": false
   },
   "outputs": [
    {
     "name": "stdout",
     "output_type": "stream",
     "text": [
      "['EOS', '%', '%if', '%timer', '%sequence', '%time', '%relative_time', '%absolute_time', '%condition', '%compare', '%getValue', '%action', '%sendMessage', '$message_type', '%getLightState', '%getSwitchState', '%getTemperature', '%getPrice', '%setLightState', '%light_state', '%setSwitchState', '%setTemperature', '%setVolume', '%playMusic', '$operator', '$asset', '$room_name', '$light_name', '$switch_name', '$on_off', '$up_down', '$color', '$number', '$digits', '$digit', '$time_unit', '$temperature', '$time', '$hour', '$minute', '$artist_name', '$song_name']\n"
     ]
    }
   ],
   "source": [
    "output_tokens = [child.key for child in parsed.children if child.type in ['phrase', 'variable']]\n",
    "output_tokens = ['EOS'] + output_tokens\n",
    "print(output_tokens)"
   ]
  },
  {
   "cell_type": "markdown",
   "metadata": {},
   "source": [
    "## Getting input and target data for nodes"
   ]
  },
  {
   "cell_type": "code",
   "execution_count": 9,
   "metadata": {
    "collapsed": true
   },
   "outputs": [],
   "source": [
    "def words_for_position(words, position):\n",
    "    if position is None:\n",
    "        return words\n",
    "    start, end, length = position\n",
    "    return words[start : end + 1]"
   ]
  },
  {
   "cell_type": "code",
   "execution_count": 10,
   "metadata": {
    "collapsed": false
   },
   "outputs": [],
   "source": [
    "def relative_position(node, parent):\n",
    "    if parent.position is None:\n",
    "        return node.position\n",
    "    return node.position[0] - parent.position[0], node.position[1] - parent.position[0], node.position[2]"
   ]
  },
  {
   "cell_type": "code",
   "execution_count": 11,
   "metadata": {
    "collapsed": false
   },
   "outputs": [],
   "source": [
    "def data_for_node(flat, node):\n",
    "    words = [child.key for child in flat.children]\n",
    "    inputs = words_for_position(words, node.position)\n",
    "    keys = [child.key for child in node.children]\n",
    "    positions = [relative_position(child, node) for child in node.children]\n",
    "    return node.key, inputs, list(zip(keys, positions))"
   ]
  },
  {
   "cell_type": "markdown",
   "metadata": {},
   "source": [
    "## Creating tensors for input and target data"
   ]
  },
  {
   "cell_type": "code",
   "execution_count": 12,
   "metadata": {
    "collapsed": true
   },
   "outputs": [],
   "source": [
    "def tokens_to_tensor(tokens, source_tokens, append_eos=True):\n",
    "    indexes = []\n",
    "    for token in tokens:\n",
    "        indexes.append(source_tokens.index(token))\n",
    "    if append_eos:\n",
    "        indexes.append(0)\n",
    "    return torch.LongTensor(indexes)"
   ]
  },
  {
   "cell_type": "code",
   "execution_count": 13,
   "metadata": {
    "collapsed": false
   },
   "outputs": [],
   "source": [
    "def ranges_to_tensor(ranges, seq_len):\n",
    "    ranges_tensor = torch.zeros(len(ranges), seq_len)\n",
    "    for r in range(len(ranges)):\n",
    "        start, end, _ = ranges[r]\n",
    "        ranges_tensor[r, start:end+1] = 1\n",
    "    return ranges_tensor"
   ]
  },
  {
   "cell_type": "markdown",
   "metadata": {},
   "source": [
    "## Model\n",
    "\n",
    "The core model is a regular seq2seq/encoder-decoder model with attention. The attention model is from [Luong et al.'s \"Effective Approaches to Attention-based Neural Machine Translation\"](https://arxiv.org/abs/1508.04025) using dot-product based attention energies, with one important difference: there is no softmax layer, allowing attention to focus on multiple tokens at once. Instead a sigmoid layer is added to squeeze outputs between 0 and 1.\n",
    "\n",
    "The encoder and decoder take one additional input `context` which represents the type of phrase, e.g. `%setLightState`. At the top level node the context is always `%`.\n",
    "\n",
    "The encoder encodes the input sequence into a series of vectors using a bidirectional GRU. The decoder \"translates\" this into a sequence of phrase tokens, given the encoder outputs and current context, e.g. \"turn off the office light\" + `%setLightState` &rarr; `[$on_off, $light]`.\n",
    "\n",
    "Once the decoder has chosen tokens and alignments, the phrase tokens and selection of inputs are used as the context and inputs of the next iteration. This recurs until no more phrase tokens are found."
   ]
  },
  {
   "cell_type": "code",
   "execution_count": 14,
   "metadata": {
    "collapsed": true
   },
   "outputs": [],
   "source": [
    "class Encoder(nn.Module):\n",
    "    def __init__(self, input_size, hidden_size, n_layers=1, dropout=0.05):\n",
    "        super(Encoder, self).__init__()\n",
    "\n",
    "        self.input_size = input_size\n",
    "        self.hidden_size = hidden_size\n",
    "        self.n_layers = n_layers\n",
    "\n",
    "        self.embedding = nn.Linear(input_size, hidden_size)\n",
    "        self.gru = nn.GRU(hidden_size, hidden_size, n_layers, dropout=dropout, bidirectional=True)\n",
    "\n",
    "    def forward(self, context_input, word_inputs):\n",
    "        # TODO: Incorporate context input\n",
    "        # TODO: Batching\n",
    "        \n",
    "        seq_len = word_inputs.size(0)\n",
    "        batch_size = word_inputs.size(1)\n",
    "        \n",
    "        embedded = self.embedding(word_inputs.view(seq_len * batch_size, -1)) # Process seq x batch at once\n",
    "        output = embedded.view(seq_len, batch_size, -1) # Resize back to seq x batch for RNN\n",
    "\n",
    "        outputs, hidden = self.gru(output)\n",
    "        outputs = outputs[:, :, :self.hidden_size] + outputs[:, : ,self.hidden_size:] # Sum bidirectional outputs\n",
    "\n",
    "        return outputs, hidden"
   ]
  },
  {
   "cell_type": "code",
   "execution_count": 15,
   "metadata": {
    "collapsed": false
   },
   "outputs": [],
   "source": [
    "class Attention(nn.Module):\n",
    "    def __init__(self):\n",
    "        super(Attention, self).__init__()\n",
    "\n",
    "    def forward(self, hidden, encoder_outputs):\n",
    "        seq_len = len(encoder_outputs)\n",
    "\n",
    "        # Create variable to store attention energies\n",
    "        attention_energies = Variable(torch.zeros(seq_len)) # B x 1 x S\n",
    "        if USE_CUDA: attention_energies = attention_energies.cuda()\n",
    "\n",
    "        # Calculate energies for each encoder output\n",
    "        for i in range(seq_len):\n",
    "            attention_energies[i] = hidden.dot(encoder_outputs[i])\n",
    "\n",
    "        # Squeeze to range 0 to 1, resize to 1 x 1 x seq_len\n",
    "        return F.sigmoid(attention_energies).unsqueeze(0).unsqueeze(0)"
   ]
  },
  {
   "cell_type": "code",
   "execution_count": 16,
   "metadata": {
    "collapsed": false
   },
   "outputs": [],
   "source": [
    "class Decoder(nn.Module):\n",
    "    def __init__(self, hidden_size, output_size, n_layers=1, dropout=0.05):\n",
    "        super(Decoder, self).__init__()\n",
    "        \n",
    "        # Keep parameters for reference\n",
    "        self.hidden_size = hidden_size\n",
    "        self.output_size = output_size\n",
    "        self.n_layers = n_layers\n",
    "        self.dropout = dropout\n",
    "        \n",
    "        # Define layers\n",
    "        self.embedding = nn.Embedding(output_size, hidden_size)\n",
    "        self.gru = nn.GRU(hidden_size * 2, hidden_size, n_layers, dropout=dropout)\n",
    "        self.out = nn.Linear(hidden_size * 2, output_size)\n",
    "        \n",
    "        # Attention module\n",
    "        self.attention = Attention()\n",
    "    \n",
    "    def forward(self, context_input, word_input, last_hidden, encoder_outputs):\n",
    "        # Note: we run this one step at a time\n",
    "        # TODO: Batching\n",
    "        \n",
    "        # Get the embedding of the current input word (last output word)\n",
    "        word_embedded = self.embedding(word_input).view(1, 1, -1) # S=1 x B x N\n",
    "        \n",
    "        # Combine context and embedded word, through RNN\n",
    "        rnn_input = torch.cat((context_input.unsqueeze(0), word_embedded), 2)\n",
    "        rnn_output, hidden = self.gru(rnn_input, last_hidden)\n",
    "\n",
    "        # Calculate attention from current RNN state and all encoder outputs; apply to encoder outputs\n",
    "        attention_weights = self.attention(rnn_output.squeeze(0), encoder_outputs)\n",
    "        context = attention_weights.bmm(encoder_outputs.transpose(0, 1)) # B x 1 x N\n",
    "        \n",
    "        # Final output layer (next word prediction) using the RNN hidden state and context vector\n",
    "        rnn_output = rnn_output.squeeze(0) # S=1 x B x N -> B x N\n",
    "        context = context.squeeze(1)       # B x S=1 x N -> B x N\n",
    "        output = F.log_softmax(self.out(torch.cat((rnn_output, context), 1)))\n",
    "        \n",
    "        # Return final output, hidden state, and attention weights (for visualization)\n",
    "        return output, hidden, attention_weights"
   ]
  },
  {
   "cell_type": "markdown",
   "metadata": {},
   "source": [
    "We can turn the whole thing into one module by combining the Encoder and Decoder networks. There's also an embedding layer for the context tokens."
   ]
  },
  {
   "cell_type": "code",
   "execution_count": 17,
   "metadata": {
    "collapsed": false
   },
   "outputs": [],
   "source": [
    "MAX_LENGTH = 50\n",
    "\n",
    "class RARNN(nn.Module):\n",
    "    def __init__(self, input_size, output_tokens, hidden_size):\n",
    "        super(RARNN, self).__init__()\n",
    "        \n",
    "        self.output_tokens = output_tokens\n",
    "        self.input_size = input_size\n",
    "        self.output_size = len(output_tokens)\n",
    "        self.hidden_size = hidden_size\n",
    "        \n",
    "        self.embedding = nn.Embedding(self.output_size, hidden_size)\n",
    "        \n",
    "        self.encoder = Encoder(self.input_size, hidden_size)\n",
    "        self.decoder = Decoder(hidden_size, self.output_size)\n",
    "\n",
    "    def forward(self, context_input, word_inputs, word_targets=None):\n",
    "        # Get embedding for context input\n",
    "        context_embedded = self.embedding(context_input)\n",
    "        \n",
    "        input_len = word_inputs.size(0)\n",
    "        target_len = word_targets.size(0) if word_targets is not None else MAX_LENGTH\n",
    "        \n",
    "        # Run through encoder\n",
    "        encoder_outputs, encoder_hidden = self.encoder(context_embedded, word_inputs)\n",
    "        decoder_hidden = encoder_hidden # Use encoder's last hidden state\n",
    "        decoder_input = Variable(torch.LongTensor([0])) # EOS/SOS token\n",
    "        if USE_CUDA:\n",
    "            decoder_input = decoder_input.cuda()\n",
    "\n",
    "        # Variables to store decoder and attention outputs\n",
    "        decoder_outputs = Variable(torch.zeros(target_len, self.output_size))\n",
    "        decoder_attentions = Variable(torch.zeros(target_len, input_len))\n",
    "        if USE_CUDA:\n",
    "            decoder_outputs = decoder_outputs.cuda()\n",
    "            decoder_attentions = decoder_attentions.cuda()\n",
    "        \n",
    "        # Run through decoder\n",
    "        for i in range(target_len):\n",
    "            decoder_output, decoder_hidden, decoder_attention = self.decoder(context_embedded, decoder_input, decoder_hidden, encoder_outputs)\n",
    "            decoder_outputs[i] = decoder_output\n",
    "            decoder_attentions[i] = decoder_attention\n",
    "\n",
    "            # Teacher forcing with known targets, if provided\n",
    "            if word_targets is not None:\n",
    "                decoder_input = word_targets[i]\n",
    "\n",
    "            # Sample with last outputs\n",
    "            else:\n",
    "                max_index = decoder_output.topk(1)[1].data[0][0]\n",
    "                decoder_input = Variable(torch.LongTensor([max_index]))\n",
    "                if USE_CUDA:\n",
    "                    decoder_input = decoder_input.cuda()\n",
    "\n",
    "                if max_index == 0: break # EOS\n",
    "        \n",
    "        # Slice outputs\n",
    "        if word_targets is None:\n",
    "            decoder_outputs = decoder_outputs[:i]\n",
    "            decoder_attentions = decoder_attentions[:i]\n",
    "        else:\n",
    "            decoder_attentions = decoder_attentions[:-1] # Ignore attentions on EOS\n",
    "\n",
    "        return decoder_outputs, decoder_attentions"
   ]
  },
  {
   "cell_type": "markdown",
   "metadata": {},
   "source": [
    "## Training\n",
    "\n",
    "The inputs to the network are the current phrase label, e.g. `%getLightState` and the string to parse, \"the living room light is on\". The outputs are the child node labels, `$light` and `$on_off` with a selection of words given by attention-like weights over the sequence, treated as boolean values given a threshold."
   ]
  },
  {
   "cell_type": "code",
   "execution_count": 18,
   "metadata": {
    "collapsed": false
   },
   "outputs": [],
   "source": [
    "input_size = 100\n",
    "hidden_size = 100\n",
    "\n",
    "learning_rate = 1e-4\n",
    "weight_decay = 1e-6\n",
    "\n",
    "rarnn = RARNN(input_size, output_tokens, hidden_size)\n",
    "optimizer = torch.optim.Adam(rarnn.parameters(), lr=learning_rate, weight_decay=weight_decay)\n",
    "\n",
    "decoder_criterion = nn.NLLLoss()\n",
    "attention_criterion = nn.MSELoss(size_average=False)"
   ]
  },
  {
   "cell_type": "code",
   "execution_count": 19,
   "metadata": {
    "collapsed": false,
    "scrolled": false
   },
   "outputs": [],
   "source": [
    "def train(flat, node):\n",
    "    context, inputs, targets = data_for_node(flat, node)\n",
    "\n",
    "    # Turn inputs into tensors\n",
    "    context_var = tokens_to_tensor([context], rarnn.output_tokens, False)\n",
    "    context_var = Variable(context_var)\n",
    "    inputs_var = input_lang.tokens_to_tensor(inputs) # seq x batch x size\n",
    "    inputs_var = Variable(inputs_var)\n",
    "    target_tokens = [target_token for target_token, _ in targets]\n",
    "    target_ranges = [target_range for _, target_range in targets]\n",
    "    target_tokens_var = tokens_to_tensor(target_tokens, rarnn.output_tokens)\n",
    "    target_tokens_var = Variable(target_tokens_var)\n",
    "    target_ranges_var = ranges_to_tensor(target_ranges, len(inputs))\n",
    "    target_ranges_var = Variable(target_ranges_var)\n",
    " \n",
    "    # Run through model\n",
    "    decoder_outputs, attention_outputs = rarnn(context_var, inputs_var, target_tokens_var)\n",
    "\n",
    "    # Loss calculation and backprop\n",
    "    optimizer.zero_grad()\n",
    "    decoder_loss = decoder_criterion(decoder_outputs, target_tokens_var)\n",
    "    attention_loss = attention_criterion(attention_outputs, target_ranges_var)\n",
    "    total_loss = decoder_loss + attention_loss\n",
    "    total_loss.backward()\n",
    "    optimizer.step()\n",
    "\n",
    "    return total_loss.data[0]"
   ]
  },
  {
   "cell_type": "code",
   "execution_count": 20,
   "metadata": {
    "collapsed": false,
    "scrolled": false
   },
   "outputs": [
    {
     "name": "stdout",
     "output_type": "stream",
     "text": [
      "Starting job 594385f0f8e1c2083c22d8b7 at 2017-06-16 00:17:04\n",
      "[log] 0m 19s (100) 4.4713\n",
      "[log] 0m 38s (200) 3.6422\n",
      "[log] 0m 59s (300) 2.0522\n",
      "[log] 1m 22s (400) 1.6508\n",
      "[log] 1m 44s (500) 2.0387\n",
      "[log] 2m 4s (600) 1.6542\n",
      "[log] 2m 26s (700) 1.0328\n",
      "[log] 2m 45s (800) 0.6720\n",
      "[log] 3m 6s (900) 1.0793\n",
      "[log] 3m 26s (1000) 1.4570\n",
      "[log] 3m 46s (1100) 0.4388\n",
      "[log] 4m 8s (1200) 0.7905\n",
      "[log] 4m 28s (1300) 0.3712\n",
      "[log] 4m 47s (1400) 1.0664\n",
      "[log] 5m 7s (1500) 0.1914\n",
      "[log] 5m 25s (1600) 0.5389\n",
      "[log] 5m 44s (1700) 0.1599\n",
      "[log] 6m 4s (1800) 0.1499\n",
      "[log] 6m 23s (1900) 0.5176\n",
      "[log] 6m 43s (2000) 0.1368\n",
      "[log] 7m 2s (2100) 0.2862\n",
      "[log] 7m 21s (2200) 0.3843\n",
      "[log] 7m 41s (2300) 0.0862\n",
      "[log] 8m 0s (2400) 0.1221\n",
      "[log] 8m 22s (2500) 0.1821\n",
      "[log] 8m 44s (2600) 0.0982\n",
      "[log] 9m 4s (2700) 0.0402\n",
      "[log] 9m 23s (2800) 0.0435\n",
      "[log] 9m 44s (2900) 0.0105\n",
      "[log] 10m 3s (3000) 0.1031\n",
      "[log] 10m 26s (3100) 0.0785\n",
      "[log] 10m 47s (3200) 0.4083\n",
      "[log] 11m 7s (3300) 0.1468\n",
      "[log] 11m 28s (3400) 0.2639\n",
      "[log] 11m 49s (3500) 0.0064\n",
      "[log] 12m 9s (3600) 0.1554\n",
      "[log] 12m 29s (3700) 0.0147\n",
      "[log] 12m 50s (3800) 0.0057\n",
      "[log] 13m 11s (3900) 0.2117\n",
      "[log] 13m 30s (4000) 0.0030\n",
      "[log] 13m 50s (4100) 0.0021\n",
      "[log] 14m 10s (4200) 0.0199\n",
      "[log] 14m 30s (4300) 0.1575\n",
      "[log] 14m 49s (4400) 0.0172\n",
      "[log] 15m 10s (4500) 0.0261\n",
      "[log] 15m 29s (4600) 0.0109\n",
      "[log] 15m 50s (4700) 0.0099\n",
      "[log] 16m 11s (4800) 0.0092\n",
      "[log] 16m 31s (4900) 0.5250\n"
     ]
    }
   ],
   "source": [
    "import sconce\n",
    "job = sconce.Job('rarnn')\n",
    "job.plot_every = 20\n",
    "job.log_every = 100\n",
    "\n",
    "n_epochs = 5000\n",
    "\n",
    "for i in range(n_epochs):\n",
    "    walked_flat, walked_tree = walk_tree(parsed, parsed['%'], None)\n",
    "    def _train(node): return train(walked_flat, node)\n",
    "    ds = descend(walked_tree, _train)\n",
    "    d = sum(ds) / len(ds)\n",
    "    job.record(i, d)"
   ]
  },
  {
   "cell_type": "markdown",
   "metadata": {},
   "source": [
    "## Evaluating"
   ]
  },
  {
   "cell_type": "code",
   "execution_count": 21,
   "metadata": {
    "collapsed": false
   },
   "outputs": [],
   "source": [
    "def evaluate(context, inputs, node=None):\n",
    "    if node == None:\n",
    "        node = Node('parsed')\n",
    "        node.position = (0, len(inputs))\n",
    "    \n",
    "    # Turn data into tensors\n",
    "    context_var = tokens_to_tensor([context], rarnn.output_tokens, False)\n",
    "    context_var = Variable(context_var)\n",
    "    inputs_var = input_lang.tokens_to_tensor(inputs) # seq x batch x size\n",
    "    inputs_var = Variable(inputs_var)\n",
    "    \n",
    "    # Run through RARNN\n",
    "    decoder_outputs, attention_outputs = rarnn(context_var, inputs_var)\n",
    "    \n",
    "    # Given the decoder and attention outputs, gather contexts and inputs for sub-phrases\n",
    "    # Use attention values > 0.5 to select words for next input sequence\n",
    "\n",
    "    next_contexts = []\n",
    "    next_inputs = []\n",
    "    next_positions = []\n",
    "    \n",
    "    for i in range(len(decoder_outputs)):\n",
    "        max_value, max_index = decoder_outputs[i].topk(1)\n",
    "        max_index = max_index.data[0]\n",
    "        next_contexts.append(rarnn.output_tokens[max_index]) # Get decoder output token\n",
    "        a = attention_outputs[i]\n",
    "        next_input = []\n",
    "        next_position = []\n",
    "        for t in range(len(a)):\n",
    "            at = a[t].data[0]\n",
    "            if at > 0.5:\n",
    "                if len(next_position) == 0: # Start position\n",
    "                    next_position.append(t)\n",
    "                next_input.append(inputs[t])\n",
    "            else:\n",
    "                if len(next_position) == 1: # End position\n",
    "                    next_position.append(t - 1)\n",
    "        if len(next_position) == 1: # End position\n",
    "            next_position.append(t)\n",
    "        next_inputs.append(next_input)\n",
    "#         next_position = (next_position[0] + node.position[0], next_position[1] + node.position[0])\n",
    "        next_positions.append(next_position)\n",
    "\n",
    "    evaluated = list(zip(next_contexts, next_inputs, next_positions))\n",
    "\n",
    "    # Print decoded outputs\n",
    "    print('\\n(evaluate) %s %s -> %s' % (context, ' '.join(inputs), next_contexts))\n",
    "    \n",
    "    # Plot attention outputs\n",
    "    if SHOW_ATTENTION:\n",
    "        fig = plt.figure(figsize=(len(inputs) / 3, 99))\n",
    "        sub = fig.add_subplot(111)\n",
    "        sub.matshow(attention_outputs.data.squeeze(1).numpy(), vmin=0, vmax=1, cmap='hot')\n",
    "        plt.show(); plt.close()\n",
    "    \n",
    "    for context, inputs, position in evaluated:\n",
    "        # Add a node for parsed sub-phrases and values\n",
    "        sub_node = Node(context)\n",
    "        sub_node.position = position\n",
    "        node.add(sub_node)\n",
    "        \n",
    "        # Recursively evaluate sub-phrases\n",
    "        if context[0] == '%':\n",
    "            if len(inputs) > 0:\n",
    "                evaluate(context, inputs, sub_node)\n",
    "            else:\n",
    "                print(\"WARNING: Empty inputs\")\n",
    "    \n",
    "        # Or add words directly to value node\n",
    "        elif context[0] == '$':\n",
    "            sub_node.add(' '.join(inputs))\n",
    "\n",
    "    return node"
   ]
  },
  {
   "cell_type": "code",
   "execution_count": 22,
   "metadata": {
    "collapsed": true
   },
   "outputs": [],
   "source": [
    "def evaluate_and_print(context, inputs):\n",
    "    evaluated = evaluate(context, inputs)\n",
    "    print(' '.join(inputs))\n",
    "    print(evaluated)\n",
    "    return evaluated"
   ]
  },
  {
   "cell_type": "code",
   "execution_count": 23,
   "metadata": {
    "collapsed": false,
    "scrolled": false
   },
   "outputs": [
    {
     "name": "stdout",
     "output_type": "stream",
     "text": [
      "\n",
      "(evaluate) % hey maia if the ethereum price is less than 2 0 then turn the living room light on -> ['%if']\n"
     ]
    },
    {
     "data": {
      "image/png": "[encoded data removed]",
      "text/plain": [
       "<matplotlib.figure.Figure at 0x13c5986a0>"
      ]
     },
     "metadata": {},
     "output_type": "display_data"
    },
    {
     "name": "stdout",
     "output_type": "stream",
     "text": [
      "\n",
      "(evaluate) %if if the ethereum price is less than 2 0 then turn the living room light on -> ['%condition', '%sequence']\n"
     ]
    },
    {
     "data": {
      "image/png": "[encoded data removed]",
      "text/plain": [
       "<matplotlib.figure.Figure at 0x1348f4ef0>"
      ]
     },
     "metadata": {},
     "output_type": "display_data"
    },
    {
     "name": "stdout",
     "output_type": "stream",
     "text": [
      "\n",
      "(evaluate) %condition the ethereum price is less than 2 0 -> ['%getValue', '$operator', '$number']\n"
     ]
    },
    {
     "data": {
      "image/png": "[encoded data removed]",
      "text/plain": [
       "<matplotlib.figure.Figure at 0x133741160>"
      ]
     },
     "metadata": {},
     "output_type": "display_data"
    },
    {
     "name": "stdout",
     "output_type": "stream",
     "text": [
      "\n",
      "(evaluate) %getValue the ethereum price -> ['%getPrice']\n"
     ]
    },
    {
     "data": {
      "image/png": "[encoded data removed]",
      "text/plain": [
       "<matplotlib.figure.Figure at 0x1408a8a58>"
      ]
     },
     "metadata": {},
     "output_type": "display_data"
    },
    {
     "name": "stdout",
     "output_type": "stream",
     "text": [
      "\n",
      "(evaluate) %getPrice the ethereum price -> ['$asset']\n"
     ]
    },
    {
     "data": {
      "image/png": "[encoded data removed]",
      "text/plain": [
       "<matplotlib.figure.Figure at 0x143d5f5c0>"
      ]
     },
     "metadata": {},
     "output_type": "display_data"
    },
    {
     "name": "stdout",
     "output_type": "stream",
     "text": [
      "\n",
      "(evaluate) %sequence turn the living room light on -> ['%action']\n"
     ]
    },
    {
     "data": {
      "image/png": "[encoded data removed]",
      "text/plain": [
       "<matplotlib.figure.Figure at 0x1433373c8>"
      ]
     },
     "metadata": {},
     "output_type": "display_data"
    },
    {
     "name": "stdout",
     "output_type": "stream",
     "text": [
      "\n",
      "(evaluate) %action turn the living room light on -> ['%setLightState']\n"
     ]
    },
    {
     "data": {
      "image/png": "[encoded data removed]",
      "text/plain": [
       "<matplotlib.figure.Figure at 0x1441cd4a8>"
      ]
     },
     "metadata": {},
     "output_type": "display_data"
    },
    {
     "name": "stdout",
     "output_type": "stream",
     "text": [
      "\n",
      "(evaluate) %setLightState turn the living room light on -> ['$light_name', '$on_off']\n"
     ]
    },
    {
     "data": {
      "image/png": "[encoded data removed]",
      "text/plain": [
       "<matplotlib.figure.Figure at 0x14425a7f0>"
      ]
     },
     "metadata": {},
     "output_type": "display_data"
    },
    {
     "name": "stdout",
     "output_type": "stream",
     "text": [
      "hey maia if the ethereum price is less than 2 0 then turn the living room light on\n",
      "( parsed (0, 18)\n",
      "    ( %if [2, 17]\n",
      "        ( %condition [1, 8]\n",
      "            ( %getValue [0, 2]\n",
      "                ( %getPrice [0, 2]\n",
      "                    ( $asset [1, 1] ethereum ) ) )\n",
      "            ( $operator [4, 5] less than )\n",
      "            ( $number [6, 7] 2 0 ) )\n",
      "        ( %sequence [10, 15]\n",
      "            ( %action [0, 5]\n",
      "                ( %setLightState [0, 5]\n",
      "                    ( $light_name [2, 4] living room light )\n",
      "                    ( $on_off [5, 5] on ) ) ) ) ) )\n",
      "\n",
      "(evaluate) % hey maia what's the ethereum price -> ['%sequence']\n"
     ]
    },
    {
     "data": {
      "image/png": "[encoded data removed]",
      "text/plain": [
       "<matplotlib.figure.Figure at 0x14425a518>"
      ]
     },
     "metadata": {},
     "output_type": "display_data"
    },
    {
     "name": "stdout",
     "output_type": "stream",
     "text": [
      "\n",
      "(evaluate) %sequence what's the ethereum price -> ['%action']\n"
     ]
    },
    {
     "data": {
      "image/png": "[encoded data removed]",
      "text/plain": [
       "<matplotlib.figure.Figure at 0x1333ef828>"
      ]
     },
     "metadata": {},
     "output_type": "display_data"
    },
    {
     "name": "stdout",
     "output_type": "stream",
     "text": [
      "\n",
      "(evaluate) %action what's the ethereum price -> ['%getPrice']\n"
     ]
    },
    {
     "data": {
      "image/png": "[encoded data removed]",
      "text/plain": [
       "<matplotlib.figure.Figure at 0x13492beb8>"
      ]
     },
     "metadata": {},
     "output_type": "display_data"
    },
    {
     "name": "stdout",
     "output_type": "stream",
     "text": [
      "\n",
      "(evaluate) %getPrice what's the ethereum price -> ['$asset']\n"
     ]
    },
    {
     "data": {
      "image/png": "[encoded data removed]",
      "text/plain": [
       "<matplotlib.figure.Figure at 0x1441fe550>"
      ]
     },
     "metadata": {},
     "output_type": "display_data"
    },
    {
     "name": "stdout",
     "output_type": "stream",
     "text": [
      "hey maia what's the ethereum price\n",
      "( parsed (0, 6)\n",
      "    ( %sequence [2, 5]\n",
      "        ( %action [0, 3]\n",
      "            ( %getPrice [0, 3]\n",
      "                ( $asset [2, 2] ethereum ) ) ) ) )\n",
      "\n",
      "(evaluate) % hey maia play some Skrillex please and then turn the office light off -> ['%sequence']\n"
     ]
    },
    {
     "data": {
      "image/png": "[encoded data removed]",
      "text/plain": [
       "<matplotlib.figure.Figure at 0x1441fe470>"
      ]
     },
     "metadata": {},
     "output_type": "display_data"
    },
    {
     "name": "stdout",
     "output_type": "stream",
     "text": [
      "\n",
      "(evaluate) %sequence play some Skrillex please and then turn the office light off -> ['%action', '%action']\n"
     ]
    },
    {
     "data": {
      "image/png": "[encoded data removed]",
      "text/plain": [
       "<matplotlib.figure.Figure at 0x144865748>"
      ]
     },
     "metadata": {},
     "output_type": "display_data"
    },
    {
     "name": "stdout",
     "output_type": "stream",
     "text": [
      "\n",
      "(evaluate) %action play some Skrillex -> ['%playMusic']\n"
     ]
    },
    {
     "data": {
      "image/png": "[encoded data removed]",
      "text/plain": [
       "<matplotlib.figure.Figure at 0x14488d2e8>"
      ]
     },
     "metadata": {},
     "output_type": "display_data"
    },
    {
     "name": "stdout",
     "output_type": "stream",
     "text": [
      "\n",
      "(evaluate) %playMusic play some Skrillex -> ['$artist_name']\n"
     ]
    },
    {
     "data": {
      "image/png": "[encoded data removed]",
      "text/plain": [
       "<matplotlib.figure.Figure at 0x1333e1390>"
      ]
     },
     "metadata": {},
     "output_type": "display_data"
    },
    {
     "name": "stdout",
     "output_type": "stream",
     "text": [
      "\n",
      "(evaluate) %action turn the office light off -> ['%setLightState']\n"
     ]
    },
    {
     "data": {
      "image/png": "[encoded data removed]",
      "text/plain": [
       "<matplotlib.figure.Figure at 0x13c5a70f0>"
      ]
     },
     "metadata": {},
     "output_type": "display_data"
    },
    {
     "name": "stdout",
     "output_type": "stream",
     "text": [
      "\n",
      "(evaluate) %setLightState turn the office light off -> ['$light_name', '$on_off']\n"
     ]
    },
    {
     "data": {
      "image/png": "[encoded data removed]",
      "text/plain": [
       "<matplotlib.figure.Figure at 0x143d5fc50>"
      ]
     },
     "metadata": {},
     "output_type": "display_data"
    },
    {
     "name": "stdout",
     "output_type": "stream",
     "text": [
      "hey maia play some Skrillex please and then turn the office light off\n",
      "( parsed (0, 13)\n",
      "    ( %sequence [2, 12]\n",
      "        ( %action [0, 2]\n",
      "            ( %playMusic [0, 2]\n",
      "                ( $artist_name [2, 2] Skrillex ) ) )\n",
      "        ( %action [6, 10]\n",
      "            ( %setLightState [0, 4]\n",
      "                ( $light_name [2, 3] office light )\n",
      "                ( $on_off [4, 4] off ) ) ) ) )\n",
      "\n",
      "(evaluate) % turn the office light up and also could you please turn off the living room light and make the temperature of the bedroom to 6 thank you maia -> ['%sequence']\n"
     ]
    },
    {
     "data": {
      "image/png": "[encoded data removed]",
      "text/plain": [
       "<matplotlib.figure.Figure at 0x143d5f6a0>"
      ]
     },
     "metadata": {},
     "output_type": "display_data"
    },
    {
     "name": "stdout",
     "output_type": "stream",
     "text": [
      "\n",
      "(evaluate) %sequence turn the office light up and also could you please turn off the living room light and make the temperature of the bedroom to 6 -> ['%action', '%action', '%action']\n"
     ]
    },
    {
     "data": {
      "image/png": "[encoded data removed]",
      "text/plain": [
       "<matplotlib.figure.Figure at 0x14428a1d0>"
      ]
     },
     "metadata": {},
     "output_type": "display_data"
    },
    {
     "name": "stdout",
     "output_type": "stream",
     "text": [
      "\n",
      "(evaluate) %action turn the office light up -> ['%setLightState']\n"
     ]
    },
    {
     "data": {
      "image/png": "[encoded data removed]",
      "text/plain": [
       "<matplotlib.figure.Figure at 0x143306c18>"
      ]
     },
     "metadata": {},
     "output_type": "display_data"
    },
    {
     "name": "stdout",
     "output_type": "stream",
     "text": [
      "\n",
      "(evaluate) %setLightState turn the office light up -> ['$light_name', '$up_down']\n"
     ]
    },
    {
     "data": {
      "image/png": "[encoded data removed]",
      "text/plain": [
       "<matplotlib.figure.Figure at 0x140865f98>"
      ]
     },
     "metadata": {},
     "output_type": "display_data"
    },
    {
     "name": "stdout",
     "output_type": "stream",
     "text": [
      "\n",
      "(evaluate) %action turn off the living room light -> ['%setLightState']\n"
     ]
    },
    {
     "data": {
      "image/png": "[encoded data removed]",
      "text/plain": [
       "<matplotlib.figure.Figure at 0x143d62c18>"
      ]
     },
     "metadata": {},
     "output_type": "display_data"
    },
    {
     "name": "stdout",
     "output_type": "stream",
     "text": [
      "\n",
      "(evaluate) %setLightState turn off the living room light -> ['$on_off', '$light_name']\n"
     ]
    },
    {
     "data": {
      "image/png": "[encoded data removed]",
      "text/plain": [
       "<matplotlib.figure.Figure at 0x144235ba8>"
      ]
     },
     "metadata": {},
     "output_type": "display_data"
    },
    {
     "name": "stdout",
     "output_type": "stream",
     "text": [
      "\n",
      "(evaluate) %action make the temperature of the bedroom to 6 -> ['%setTemperature']\n"
     ]
    },
    {
     "data": {
      "image/png": "[encoded data removed]",
      "text/plain": [
       "<matplotlib.figure.Figure at 0x144235390>"
      ]
     },
     "metadata": {},
     "output_type": "display_data"
    },
    {
     "name": "stdout",
     "output_type": "stream",
     "text": [
      "\n",
      "(evaluate) %setTemperature make the temperature of the bedroom to 6 -> ['$room_name', '$temperature']\n"
     ]
    },
    {
     "data": {
      "image/png": "[encoded data removed]",
      "text/plain": [
       "<matplotlib.figure.Figure at 0x143d96cc0>"
      ]
     },
     "metadata": {},
     "output_type": "display_data"
    },
    {
     "name": "stdout",
     "output_type": "stream",
     "text": [
      "turn the office light up and also could you please turn off the living room light and make the temperature of the bedroom to 6 thank you maia\n",
      "( parsed (0, 28)\n",
      "    ( %sequence [0, 24]\n",
      "        ( %action [0, 4]\n",
      "            ( %setLightState [0, 4]\n",
      "                ( $light_name [2, 3] office light )\n",
      "                ( $up_down [4, 4] up ) ) )\n",
      "        ( %action [10, 15]\n",
      "            ( %setLightState [0, 5]\n",
      "                ( $on_off [1, 1] off )\n",
      "                ( $light_name [3, 5] living room light ) ) )\n",
      "        ( %action [17, 24]\n",
      "            ( %setTemperature [0, 7]\n",
      "                ( $room_name [5, 5] bedroom )\n",
      "                ( $temperature [7, 7] 6 ) ) ) ) )\n",
      "\n",
      "(evaluate) % turn the living room light off and turn the bedroom light up and also turn the volume up -> ['%sequence']\n"
     ]
    },
    {
     "data": {
      "image/png": "[encoded data removed]",
      "text/plain": [
       "<matplotlib.figure.Figure at 0x14424ea20>"
      ]
     },
     "metadata": {},
     "output_type": "display_data"
    },
    {
     "name": "stdout",
     "output_type": "stream",
     "text": [
      "\n",
      "(evaluate) %sequence turn the living room light off and turn the bedroom light up and also turn the volume up -> ['%action', '%action', '%action']\n"
     ]
    },
    {
     "data": {
      "image/png": "[encoded data removed]",
      "text/plain": [
       "<matplotlib.figure.Figure at 0x143314160>"
      ]
     },
     "metadata": {},
     "output_type": "display_data"
    },
    {
     "name": "stdout",
     "output_type": "stream",
     "text": [
      "\n",
      "(evaluate) %action turn the living room light off -> ['%setLightState']\n"
     ]
    },
    {
     "data": {
      "image/png": "[encoded data removed]",
      "text/plain": [
       "<matplotlib.figure.Figure at 0x143d79550>"
      ]
     },
     "metadata": {},
     "output_type": "display_data"
    },
    {
     "name": "stdout",
     "output_type": "stream",
     "text": [
      "\n",
      "(evaluate) %setLightState turn the living room light off -> ['$light_name', '$on_off']\n"
     ]
    },
    {
     "data": {
      "image/png": "[encoded data removed]",
      "text/plain": [
       "<matplotlib.figure.Figure at 0x1448d44a8>"
      ]
     },
     "metadata": {},
     "output_type": "display_data"
    },
    {
     "name": "stdout",
     "output_type": "stream",
     "text": [
      "\n",
      "(evaluate) %action turn the bedroom light up -> ['%setLightState']\n"
     ]
    },
    {
     "data": {
      "image/png": "[encoded data removed]",
      "text/plain": [
       "<matplotlib.figure.Figure at 0x1448d43c8>"
      ]
     },
     "metadata": {},
     "output_type": "display_data"
    },
    {
     "name": "stdout",
     "output_type": "stream",
     "text": [
      "\n",
      "(evaluate) %setLightState turn the bedroom light up -> ['$light_name', '$up_down']\n"
     ]
    },
    {
     "data": {
      "image/png": "[encoded data removed]",
      "text/plain": [
       "<matplotlib.figure.Figure at 0x143d64400>"
      ]
     },
     "metadata": {},
     "output_type": "display_data"
    },
    {
     "name": "stdout",
     "output_type": "stream",
     "text": [
      "\n",
      "(evaluate) %action turn the volume up -> ['%setVolume']\n"
     ]
    },
    {
     "data": {
      "image/png": "[encoded data removed]",
      "text/plain": [
       "<matplotlib.figure.Figure at 0x146cb0780>"
      ]
     },
     "metadata": {},
     "output_type": "display_data"
    },
    {
     "name": "stdout",
     "output_type": "stream",
     "text": [
      "\n",
      "(evaluate) %setVolume turn the volume up -> ['$up_down']\n"
     ]
    },
    {
     "data": {
      "image/png": "[encoded data removed]",
      "text/plain": [
       "<matplotlib.figure.Figure at 0x143d735c0>"
      ]
     },
     "metadata": {},
     "output_type": "display_data"
    },
    {
     "name": "stdout",
     "output_type": "stream",
     "text": [
      "turn the living room light off and turn the bedroom light up and also turn the volume up\n",
      "( parsed (0, 18)\n",
      "    ( %sequence [0, 17]\n",
      "        ( %action [0, 5]\n",
      "            ( %setLightState [0, 5]\n",
      "                ( $light_name [2, 4] living room light )\n",
      "                ( $on_off [5, 5] off ) ) )\n",
      "        ( %action [7, 11]\n",
      "            ( %setLightState [0, 4]\n",
      "                ( $light_name [2, 3] bedroom light )\n",
      "                ( $up_down [4, 4] up ) ) )\n",
      "        ( %action [14, 17]\n",
      "            ( %setVolume [0, 3]\n",
      "                ( $up_down [3, 3] up ) ) ) ) )\n"
     ]
    },
    {
     "data": {
      "text/plain": [
       "<nalgene.node.Node at 0x144255b00>"
      ]
     },
     "execution_count": 23,
     "metadata": {},
     "output_type": "execute_result"
    }
   ],
   "source": [
    "evaluate_and_print('%', \"hey maia if the ethereum price is less than 2 0 then turn the living room light on\".split(' '))\n",
    "evaluate_and_print('%', \"hey maia what's the ethereum price\".split(' '))\n",
    "evaluate_and_print('%', \"hey maia play some Skrillex please and then turn the office light off\".split(' '))\n",
    "evaluate_and_print('%', \"turn the office light up and also could you please turn off the living room light and make the temperature of the bedroom to 6 thank you maia\".split(' '))\n",
    "evaluate_and_print('%', \"turn the living room light off and turn the bedroom light up and also turn the volume up\".split(' '))"
   ]
  },
  {
   "cell_type": "code",
   "execution_count": 48,
   "metadata": {
    "collapsed": false
   },
   "outputs": [
    {
     "name": "stdout",
     "output_type": "stream",
     "text": [
      "\n",
      "(evaluate) % plz call me when the price of dogecoin is above 5 0 -> ['%if']\n",
      "\n",
      "(evaluate) %if plz call me when the price of dogecoin is above 5 0 -> ['%sendMessage', '%condition']\n",
      "\n",
      "(evaluate) %sendMessage plz call me -> ['$message_type']\n",
      "\n",
      "(evaluate) %condition the price of dogecoin is above 5 0 -> ['%getValue', '$operator', '$number']\n",
      "\n",
      "(evaluate) %getValue the price of dogecoin -> ['%getPrice']\n",
      "\n",
      "(evaluate) %getPrice the price of dogecoin -> ['$asset']\n",
      "plz call me when the price of dogecoin is above 5 0\n",
      "( parsed (0, 12)\n",
      "    ( %if [0, 11]\n",
      "        ( %sendMessage [0, 2]\n",
      "            ( $message_type [1, 1] call ) )\n",
      "        ( %condition [4, 11]\n",
      "            ( %getValue [0, 3]\n",
      "                ( %getPrice [0, 3]\n",
      "                    ( $asset [3, 3] dogecoin ) ) )\n",
      "            ( $operator [5, 5] above )\n",
      "            ( $number [6, 7] 5 0 ) ) ) )\n"
     ]
    },
    {
     "data": {
      "text/plain": [
       "<nalgene.node.Node at 0x146c9d908>"
      ]
     },
     "execution_count": 48,
     "metadata": {},
     "output_type": "execute_result"
    }
   ],
   "source": [
    "evaluate_and_print('%', \"plz call me when the price of dogecoin is above 5 0\".split(' '))"
   ]
  },
  {
   "cell_type": "code",
   "execution_count": 34,
   "metadata": {
    "collapsed": false,
    "scrolled": false
   },
   "outputs": [
    {
     "name": "stdout",
     "output_type": "stream",
     "text": [
      "words ['heya', 'shoot', 'me', 'an', 'email', 'if', 'the', 'price', 'of', 'bitcoin', 'is', 'bigger', 'than', '3', '0', '0', '0', 'would', 'ya']\n",
      "\n",
      "(evaluate) % heya shoot me an email if the price of bitcoin is bigger than 3 0 0 0 would ya -> ['%if']\n"
     ]
    },
    {
     "data": {
      "image/png": "[encoded data removed]",
      "text/plain": [
       "<matplotlib.figure.Figure at 0x146ede550>"
      ]
     },
     "metadata": {},
     "output_type": "display_data"
    },
    {
     "name": "stdout",
     "output_type": "stream",
     "text": [
      "\n",
      "(evaluate) %if shoot me an email if the price of bitcoin is bigger than 3 0 0 0 -> ['%sendMessage', '%condition']\n"
     ]
    },
    {
     "data": {
      "image/png": "[encoded data removed]",
      "text/plain": [
       "<matplotlib.figure.Figure at 0x146ede9e8>"
      ]
     },
     "metadata": {},
     "output_type": "display_data"
    },
    {
     "name": "stdout",
     "output_type": "stream",
     "text": [
      "\n",
      "(evaluate) %sendMessage shoot me an email -> ['$message_type']\n"
     ]
    },
    {
     "data": {
      "image/png": "[encoded data removed]",
      "text/plain": [
       "<matplotlib.figure.Figure at 0x146f9bda0>"
      ]
     },
     "metadata": {},
     "output_type": "display_data"
    },
    {
     "name": "stdout",
     "output_type": "stream",
     "text": [
      "\n",
      "(evaluate) %condition the price of bitcoin is bigger than 3 0 0 0 -> ['%getValue', '$operator', '$number']\n"
     ]
    },
    {
     "data": {
      "image/png": "[encoded data removed]",
      "text/plain": [
       "<matplotlib.figure.Figure at 0x146e3f748>"
      ]
     },
     "metadata": {},
     "output_type": "display_data"
    },
    {
     "name": "stdout",
     "output_type": "stream",
     "text": [
      "\n",
      "(evaluate) %getValue the price of bitcoin -> ['%getPrice']\n"
     ]
    },
    {
     "data": {
      "image/png": "[encoded data removed]",
      "text/plain": [
       "<matplotlib.figure.Figure at 0x1441c6a90>"
      ]
     },
     "metadata": {},
     "output_type": "display_data"
    },
    {
     "name": "stdout",
     "output_type": "stream",
     "text": [
      "\n",
      "(evaluate) %getPrice the price of bitcoin -> ['$asset']\n"
     ]
    },
    {
     "data": {
      "image/png": "[encoded data removed]",
      "text/plain": [
       "<matplotlib.figure.Figure at 0x1442429b0>"
      ]
     },
     "metadata": {},
     "output_type": "display_data"
    },
    {
     "name": "stdout",
     "output_type": "stream",
     "text": [
      "heya shoot me an email if the price of bitcoin is bigger than 3 0 0 0 would ya\n",
      "( parsed (0, 19)\n",
      "    ( %if [1, 16]\n",
      "        ( %sendMessage [0, 3]\n",
      "            ( $message_type [3, 3] email ) )\n",
      "        ( %condition [5, 15]\n",
      "            ( %getValue [0, 3]\n",
      "                ( %getPrice [0, 3]\n",
      "                    ( $asset [3, 3] bitcoin ) ) )\n",
      "            ( $operator [5, 6] bigger than )\n",
      "            ( $number [7, 10] 3 0 0 0 ) ) ) )\n",
      "response {'words': ['heya', 'shoot', 'me', 'an', 'email', 'if', 'the', 'price', 'of', 'bitcoin', 'is', 'bigger', 'than', '3', '0', '0', '0', 'would', 'ya'], 'parsed': {'position': (0, 19), 'children': [{'position': [1, 16], 'children': [{'position': [0, 3], 'children': [{'position': [3, 3], 'children': ['email'], 'key': '$message_type'}], 'key': '%sendMessage'}, {'position': [5, 15], 'children': [{'position': [0, 3], 'children': [{'position': [0, 3], 'children': [{'position': [3, 3], 'children': ['bitcoin'], 'key': '$asset'}], 'key': '%getPrice'}], 'key': '%getValue'}, {'position': [5, 6], 'children': ['bigger than'], 'key': '$operator'}, {'position': [7, 10], 'children': ['3 0 0 0'], 'key': '$number'}], 'key': '%condition'}], 'key': '%if'}], 'key': 'parsed'}}\n"
     ]
    }
   ],
   "source": [
    "def parse(s, cb):\n",
    "    words = tokenize_sentence(s)\n",
    "    print('words', words)\n",
    "    try:\n",
    "        evaluated = evaluate_and_print('%', words)\n",
    "        cb({'words': words, 'parsed': evaluated.to_json()})\n",
    "    except Exception:\n",
    "        cb({'error': \"Failed to evaluate\"})\n",
    "\n",
    "parse('heya shoot me an email if the price of bitcoin is bigger than 3 0 0 0 would ya', lambda r: print(\"response\", r))"
   ]
  },
  {
   "cell_type": "code",
   "execution_count": 45,
   "metadata": {
    "collapsed": false
   },
   "outputs": [
    {
     "name": "stdout",
     "output_type": "stream",
     "text": [
      "Registered {'port': 8855, 'client_id': 'moaigrqi', 'heartbeat': 0, 'name': 'maia:parser', 'id': 'maia:parser~xkoisdfj'}\n",
      "words ['turn', 'on', 'the', 'office', 'light']\n",
      "\n",
      "(evaluate) % turn on the office light -> ['%sequence']\n",
      "\n",
      "(evaluate) %sequence turn on the office light -> ['%action']\n",
      "\n",
      "(evaluate) %action turn on the office light -> ['%setLightState']\n",
      "\n",
      "(evaluate) %setLightState turn on the office light -> ['$on_off', '$light_name']\n",
      "turn on the office light\n",
      "( parsed (0, 5)\n",
      "    ( %sequence [0, 4]\n",
      "        ( %action [0, 4]\n",
      "            ( %setLightState [0, 4]\n",
      "                ( $on_off [1, 1] on )\n",
      "                ( $light_name [3, 4] office light ) ) ) ) )\n",
      "words ['turn', 'on', 'the', 'office', 'light']\n",
      "\n",
      "(evaluate) % turn on the office light -> ['%sequence']\n",
      "\n",
      "(evaluate) %sequence turn on the office light -> ['%action']\n",
      "\n",
      "(evaluate) %action turn on the office light -> ['%setLightState']\n",
      "\n",
      "(evaluate) %setLightState turn on the office light -> ['$on_off', '$light_name']\n",
      "turn on the office light\n",
      "( parsed (0, 5)\n",
      "    ( %sequence [0, 4]\n",
      "        ( %action [0, 4]\n",
      "            ( %setLightState [0, 4]\n",
      "                ( $on_off [1, 1] on )\n",
      "                ( $light_name [3, 4] office light ) ) ) ) )\n",
      "words ['turn', 'on', 'the', 'office', 'light']\n",
      "\n",
      "(evaluate) % turn on the office light -> ['%sequence']\n",
      "\n",
      "(evaluate) %sequence turn on the office light -> ['%action']\n",
      "\n",
      "(evaluate) %action turn on the office light -> ['%setLightState']\n",
      "\n",
      "(evaluate) %setLightState turn on the office light -> ['$on_off', '$light_name']\n",
      "turn on the office light\n",
      "( parsed (0, 5)\n",
      "    ( %sequence [0, 4]\n",
      "        ( %action [0, 4]\n",
      "            ( %setLightState [0, 4]\n",
      "                ( $on_off [1, 1] on )\n",
      "                ( $light_name [3, 4] office light ) ) ) ) )\n",
      "words ['turn', 'on', 'the', 'office', 'light']\n",
      "\n",
      "(evaluate) % turn on the office light -> ['%sequence']\n",
      "\n",
      "(evaluate) %sequence turn on the office light -> ['%action']\n",
      "\n",
      "(evaluate) %action turn on the office light -> ['%setLightState']\n",
      "\n",
      "(evaluate) %setLightState turn on the office light -> ['$on_off', '$light_name']\n",
      "turn on the office light\n",
      "( parsed (0, 5)\n",
      "    ( %sequence [0, 4]\n",
      "        ( %action [0, 4]\n",
      "            ( %setLightState [0, 4]\n",
      "                ( $on_off [1, 1] on )\n",
      "                ( $light_name [3, 4] office light ) ) ) ) )\n",
      "words ['turn', 'on', 'the', 'office', 'light']\n",
      "\n",
      "(evaluate) % turn on the office light -> ['%sequence']\n",
      "\n",
      "(evaluate) %sequence turn on the office light -> ['%action']\n",
      "\n",
      "(evaluate) %action turn on the office light -> ['%setLightState']\n",
      "\n",
      "(evaluate) %setLightState turn on the office light -> ['$on_off', '$light_name']\n",
      "turn on the office light\n",
      "( parsed (0, 5)\n",
      "    ( %sequence [0, 4]\n",
      "        ( %action [0, 4]\n",
      "            ( %setLightState [0, 4]\n",
      "                ( $on_off [1, 1] on )\n",
      "                ( $light_name [3, 4] office light ) ) ) ) )\n",
      "words ['what', 'is', 'the', 'price', 'of', 'bitcoin']\n",
      "\n",
      "(evaluate) % what is the price of bitcoin -> ['%sequence']\n",
      "\n",
      "(evaluate) %sequence what is the price of bitcoin -> ['%action']\n",
      "\n",
      "(evaluate) %action what is the price of bitcoin -> ['%getPrice']\n",
      "\n",
      "(evaluate) %getPrice what is the price of bitcoin -> ['$asset']\n",
      "what is the price of bitcoin\n",
      "( parsed (0, 6)\n",
      "    ( %sequence [0, 5]\n",
      "        ( %action [0, 5]\n",
      "            ( %getPrice [0, 5]\n",
      "                ( $asset [5, 5] bitcoin ) ) ) ) )\n",
      "words ['in', '3', 'seconds', 'turn', 'on', 'the', 'office', 'light']\n",
      "\n",
      "(evaluate) % in 3 seconds turn on the office light -> ['%timer']\n",
      "\n",
      "(evaluate) %timer in 3 seconds turn on the office light -> ['%relative_time', '%sequence']\n",
      "\n",
      "(evaluate) %relative_time in 3 seconds -> ['$number', '$time_unit']\n",
      "\n",
      "(evaluate) %sequence turn on the office light -> ['%action']\n",
      "\n",
      "(evaluate) %action turn on the office light -> ['%setLightState']\n",
      "\n",
      "(evaluate) %setLightState turn on the office light -> ['$on_off', '$light_name']\n",
      "in 3 seconds turn on the office light\n",
      "( parsed (0, 8)\n",
      "    ( %timer [0, 7]\n",
      "        ( %relative_time [0, 2]\n",
      "            ( $number [1, 1] 3 )\n",
      "            ( $time_unit [2, 2] seconds ) )\n",
      "        ( %sequence [3, 7]\n",
      "            ( %action [0, 4]\n",
      "                ( %setLightState [0, 4]\n",
      "                    ( $on_off [1, 1] on )\n",
      "                    ( $light_name [3, 4] office light ) ) ) ) ) )\n",
      "words ['what', 'is', 'the', 'price', 'of', 'bitcoin']\n",
      "\n",
      "(evaluate) % what is the price of bitcoin -> ['%sequence']\n",
      "\n",
      "(evaluate) %sequence what is the price of bitcoin -> ['%action']\n",
      "\n",
      "(evaluate) %action what is the price of bitcoin -> ['%getPrice']\n",
      "\n",
      "(evaluate) %getPrice what is the price of bitcoin -> ['$asset']\n",
      "what is the price of bitcoin\n",
      "( parsed (0, 6)\n",
      "    ( %sequence [0, 5]\n",
      "        ( %action [0, 5]\n",
      "            ( %getPrice [0, 5]\n",
      "                ( $asset [5, 5] bitcoin ) ) ) ) )\n",
      "words ['turn', 'on', 'the', 'office', 'light']\n",
      "\n",
      "(evaluate) % turn on the office light -> ['%sequence']\n",
      "\n",
      "(evaluate) %sequence turn on the office light -> ['%action']\n",
      "\n",
      "(evaluate) %action turn on the office light -> ['%setLightState']\n",
      "\n",
      "(evaluate) %setLightState turn on the office light -> ['$on_off', '$light_name']\n",
      "turn on the office light\n",
      "( parsed (0, 5)\n",
      "    ( %sequence [0, 4]\n",
      "        ( %action [0, 4]\n",
      "            ( %setLightState [0, 4]\n",
      "                ( $on_off [1, 1] on )\n",
      "                ( $light_name [3, 4] office light ) ) ) ) )\n",
      "words ['in', '3', 'minutes', 'turn', 'on', 'the', 'office', 'light']\n",
      "\n",
      "(evaluate) % in 3 minutes turn on the office light -> ['%timer']\n",
      "\n",
      "(evaluate) %timer in 3 minutes turn on the office light -> ['%relative_time', '%sequence']\n",
      "\n",
      "(evaluate) %relative_time in 3 minutes -> ['$number', '$time_unit']\n",
      "\n",
      "(evaluate) %sequence turn on the office light -> ['%action']\n",
      "\n",
      "(evaluate) %action turn on the office light -> ['%setLightState']\n",
      "\n",
      "(evaluate) %setLightState turn on the office light -> ['$on_off', '$light_name']\n",
      "in 3 minutes turn on the office light\n",
      "( parsed (0, 8)\n",
      "    ( %timer [0, 7]\n",
      "        ( %relative_time [0, 2]\n",
      "            ( $number [1, 1] 3 )\n",
      "            ( $time_unit [2, 2] minutes ) )\n",
      "        ( %sequence [3, 7]\n",
      "            ( %action [0, 4]\n",
      "                ( %setLightState [0, 4]\n",
      "                    ( $on_off [1, 1] on )\n",
      "                    ( $light_name [3, 4] office light ) ) ) ) ) )\n",
      "words ['what', 'is', 'the', 'price', 'of', 'bitcoin']\n",
      "\n",
      "(evaluate) % what is the price of bitcoin -> ['%sequence']\n",
      "\n",
      "(evaluate) %sequence what is the price of bitcoin -> ['%action']\n",
      "\n",
      "(evaluate) %action what is the price of bitcoin -> ['%getPrice']\n",
      "\n",
      "(evaluate) %getPrice what is the price of bitcoin -> ['$asset']\n",
      "what is the price of bitcoin\n",
      "( parsed (0, 6)\n",
      "    ( %sequence [0, 5]\n",
      "        ( %action [0, 5]\n",
      "            ( %getPrice [0, 5]\n",
      "                ( $asset [5, 5] bitcoin ) ) ) ) )\n",
      "words ['set', 'the', 'bedroom', 'lights', 'low']\n",
      "\n",
      "(evaluate) % set the bedroom lights low -> ['%sequence']\n",
      "\n",
      "(evaluate) %sequence set the bedroom lights low -> ['%action']\n",
      "\n",
      "(evaluate) %action set the bedroom lights low -> ['%setLightState']\n",
      "\n",
      "(evaluate) %setLightState set the bedroom lights low -> ['$light_name', '$up_down']\n",
      "set the bedroom lights low\n",
      "( parsed (0, 5)\n",
      "    ( %sequence [0, 4]\n",
      "        ( %action [0, 4]\n",
      "            ( %setLightState [0, 4]\n",
      "                ( $light_name [2, 3] bedroom lights )\n",
      "                ( $up_down [4, 4] low ) ) ) ) )\n",
      "words ['turn', 'on', 'the', 'office', 'light']\n",
      "\n",
      "(evaluate) % turn on the office light -> ['%sequence']\n",
      "\n",
      "(evaluate) %sequence turn on the office light -> ['%action']\n",
      "\n",
      "(evaluate) %action turn on the office light -> ['%setLightState']\n",
      "\n",
      "(evaluate) %setLightState turn on the office light -> ['$on_off', '$light_name']\n",
      "turn on the office light\n",
      "( parsed (0, 5)\n",
      "    ( %sequence [0, 4]\n",
      "        ( %action [0, 4]\n",
      "            ( %setLightState [0, 4]\n",
      "                ( $on_off [1, 1] on )\n",
      "                ( $light_name [3, 4] office light ) ) ) ) )\n",
      "words ['turn', 'off', 'all', 'the', 'lights']\n",
      "\n",
      "(evaluate) % turn off all the lights -> ['%sequence']\n",
      "\n",
      "(evaluate) %sequence turn off all the lights -> ['%action']\n",
      "\n",
      "(evaluate) %action turn off all the lights -> ['%setLightState']\n",
      "\n",
      "(evaluate) %setLightState turn off all the lights -> ['$on_off', '$light_name']\n",
      "turn off all the lights\n",
      "( parsed (0, 5)\n",
      "    ( %sequence [0, 4]\n",
      "        ( %action [0, 4]\n",
      "            ( %setLightState [0, 4]\n",
      "                ( $on_off [1, 1] off )\n",
      "                ( $light_name [4, 4] lights ) ) ) ) )\n",
      "words ['turn', 'on', 'the', 'office', 'light']\n",
      "\n",
      "(evaluate) % turn on the office light -> ['%sequence']\n",
      "\n",
      "(evaluate) %sequence turn on the office light -> ['%action']\n",
      "\n",
      "(evaluate) %action turn on the office light -> ['%setLightState']\n",
      "\n",
      "(evaluate) %setLightState turn on the office light -> ['$on_off', '$light_name']\n",
      "turn on the office light\n",
      "( parsed (0, 5)\n",
      "    ( %sequence [0, 4]\n",
      "        ( %action [0, 4]\n",
      "            ( %setLightState [0, 4]\n",
      "                ( $on_off [1, 1] on )\n",
      "                ( $light_name [3, 4] office light ) ) ) ) )\n",
      "words ['turn', 'off', 'all', 'the', 'lights']\n",
      "\n",
      "(evaluate) % turn off all the lights -> ['%sequence']\n",
      "\n",
      "(evaluate) %sequence turn off all the lights -> ['%action']\n",
      "\n",
      "(evaluate) %action turn off all the lights -> ['%setLightState']\n",
      "\n",
      "(evaluate) %setLightState turn off all the lights -> ['$on_off', '$light_name']\n",
      "turn off all the lights\n",
      "( parsed (0, 5)\n",
      "    ( %sequence [0, 4]\n",
      "        ( %action [0, 4]\n",
      "            ( %setLightState [0, 4]\n",
      "                ( $on_off [1, 1] off )\n",
      "                ( $light_name [4, 4] lights ) ) ) ) )\n",
      "words ['set', 'the', 'bedroom', 'lights', 'low']\n",
      "\n",
      "(evaluate) % set the bedroom lights low -> ['%sequence']\n",
      "\n",
      "(evaluate) %sequence set the bedroom lights low -> ['%action']\n",
      "\n",
      "(evaluate) %action set the bedroom lights low -> ['%setLightState']\n",
      "\n",
      "(evaluate) %setLightState set the bedroom lights low -> ['$light_name', '$up_down']\n",
      "set the bedroom lights low\n",
      "( parsed (0, 5)\n",
      "    ( %sequence [0, 4]\n",
      "        ( %action [0, 4]\n",
      "            ( %setLightState [0, 4]\n",
      "                ( $light_name [2, 3] bedroom lights )\n",
      "                ( $up_down [4, 4] low ) ) ) ) )\n",
      "words ['set', 'the', 'bedroom', 'lights', 'low']\n",
      "\n",
      "(evaluate) % set the bedroom lights low -> ['%sequence']\n",
      "\n",
      "(evaluate) %sequence set the bedroom lights low -> ['%action']\n",
      "\n",
      "(evaluate) %action set the bedroom lights low -> ['%setLightState']\n",
      "\n",
      "(evaluate) %setLightState set the bedroom lights low -> ['$light_name', '$up_down']\n",
      "set the bedroom lights low\n",
      "( parsed (0, 5)\n",
      "    ( %sequence [0, 4]\n",
      "        ( %action [0, 4]\n",
      "            ( %setLightState [0, 4]\n",
      "                ( $light_name [2, 3] bedroom lights )\n",
      "                ( $up_down [4, 4] low ) ) ) ) )\n",
      "words ['set', 'the', 'bedroom', 'lights', 'low']\n",
      "\n",
      "(evaluate) % set the bedroom lights low -> ['%sequence']\n",
      "\n",
      "(evaluate) %sequence set the bedroom lights low -> ['%action']\n",
      "\n",
      "(evaluate) %action set the bedroom lights low -> ['%setLightState']\n",
      "\n",
      "(evaluate) %setLightState set the bedroom lights low -> ['$light_name', '$up_down']\n",
      "set the bedroom lights low\n",
      "( parsed (0, 5)\n",
      "    ( %sequence [0, 4]\n",
      "        ( %action [0, 4]\n",
      "            ( %setLightState [0, 4]\n",
      "                ( $light_name [2, 3] bedroom lights )\n",
      "                ( $up_down [4, 4] low ) ) ) ) )\n",
      "words ['turn', 'on', 'the', 'office', 'light']\n",
      "\n",
      "(evaluate) % turn on the office light -> ['%sequence']\n",
      "\n",
      "(evaluate) %sequence turn on the office light -> ['%action']\n",
      "\n",
      "(evaluate) %action turn on the office light -> ['%setLightState']\n",
      "\n",
      "(evaluate) %setLightState turn on the office light -> ['$on_off', '$light_name']\n",
      "turn on the office light\n",
      "( parsed (0, 5)\n",
      "    ( %sequence [0, 4]\n",
      "        ( %action [0, 4]\n",
      "            ( %setLightState [0, 4]\n",
      "                ( $on_off [1, 1] on )\n",
      "                ( $light_name [3, 4] office light ) ) ) ) )\n",
      "words ['what', 'is', 'the', 'price', 'of', 'bitcoin']\n",
      "\n",
      "(evaluate) % what is the price of bitcoin -> ['%sequence']\n",
      "\n",
      "(evaluate) %sequence what is the price of bitcoin -> ['%action']\n",
      "\n",
      "(evaluate) %action what is the price of bitcoin -> ['%getPrice']\n",
      "\n",
      "(evaluate) %getPrice what is the price of bitcoin -> ['$asset']\n",
      "what is the price of bitcoin\n",
      "( parsed (0, 6)\n",
      "    ( %sequence [0, 5]\n",
      "        ( %action [0, 5]\n",
      "            ( %getPrice [0, 5]\n",
      "                ( $asset [5, 5] bitcoin ) ) ) ) )\n",
      "words ['in', '3', 'seconds', 'turn', 'on', 'the', 'office', 'light', 'and', 'turn', 'off', 'the', 'living', 'room', 'light', 'please']\n",
      "\n",
      "(evaluate) % in 3 seconds turn on the office light and turn off the living room light please -> ['%timer']\n",
      "\n",
      "(evaluate) %timer in 3 seconds turn on the office light and turn off the living room light -> ['%relative_time', '%sequence']\n",
      "\n",
      "(evaluate) %relative_time in 3 seconds -> ['$number', '$time_unit']\n",
      "\n",
      "(evaluate) %sequence turn on the office light and turn off the living room light -> ['%action', '%action']\n",
      "\n",
      "(evaluate) %action turn on the office light -> ['%setLightState']\n",
      "\n",
      "(evaluate) %setLightState turn on the office light -> ['$on_off', '$light_name']\n",
      "\n",
      "(evaluate) %action turn off the living room light -> ['%setLightState']\n",
      "\n",
      "(evaluate) %setLightState turn off the living room light -> ['$on_off', '$light_name']\n",
      "in 3 seconds turn on the office light and turn off the living room light please\n",
      "( parsed (0, 16)\n",
      "    ( %timer [0, 14]\n",
      "        ( %relative_time [0, 2]\n",
      "            ( $number [1, 1] 3 )\n",
      "            ( $time_unit [2, 2] seconds ) )\n",
      "        ( %sequence [3, 14]\n",
      "            ( %action [0, 4]\n",
      "                ( %setLightState [0, 4]\n",
      "                    ( $on_off [1, 1] on )\n",
      "                    ( $light_name [3, 4] office light ) ) )\n",
      "            ( %action [6, 11]\n",
      "                ( %setLightState [0, 5]\n",
      "                    ( $on_off [1, 1] off )\n",
      "                    ( $light_name [3, 5] living room light ) ) ) ) ) )\n",
      "words ['in', '3', 'seconds', 'turn', 'on', 'the', 'office', 'lights', 'and', 'turn', 'off', 'the', 'office', 'lights']\n",
      "\n",
      "(evaluate) % in 3 seconds turn on the office lights and turn off the office lights -> ['%timer']\n",
      "\n",
      "(evaluate) %timer in 3 seconds turn on the office lights and turn off the office lights -> ['%relative_time', '%sequence']\n",
      "\n",
      "(evaluate) %relative_time in 3 seconds -> ['$number', '$time_unit']\n",
      "\n",
      "(evaluate) %sequence turn on the office lights and turn off the office lights -> ['%action', '%action']\n",
      "\n",
      "(evaluate) %action turn on the office lights -> ['%setLightState']\n",
      "\n",
      "(evaluate) %setLightState turn on the office lights -> ['$on_off', '$light_name']\n",
      "\n",
      "(evaluate) %action turn off the office lights -> ['%setLightState']\n",
      "\n",
      "(evaluate) %setLightState turn off the office lights -> ['$on_off', '$light_name']\n",
      "in 3 seconds turn on the office lights and turn off the office lights\n",
      "( parsed (0, 14)\n",
      "    ( %timer [0, 13]\n",
      "        ( %relative_time [0, 2]\n",
      "            ( $number [1, 1] 3 )\n",
      "            ( $time_unit [2, 2] seconds ) )\n",
      "        ( %sequence [3, 13]\n",
      "            ( %action [0, 4]\n",
      "                ( %setLightState [0, 4]\n",
      "                    ( $on_off [1, 1] on )\n",
      "                    ( $light_name [3, 4] office lights ) ) )\n",
      "            ( %action [6, 10]\n",
      "                ( %setLightState [0, 4]\n",
      "                    ( $on_off [1, 1] off )\n",
      "                    ( $light_name [3, 4] office lights ) ) ) ) ) )\n",
      "words ['in', '3', 'seconds', 'turn', 'on', 'the', 'office', 'light']\n",
      "\n",
      "(evaluate) % in 3 seconds turn on the office light -> ['%timer']\n",
      "\n",
      "(evaluate) %timer in 3 seconds turn on the office light -> ['%relative_time', '%sequence']\n",
      "\n",
      "(evaluate) %relative_time in 3 seconds -> ['$number', '$time_unit']\n",
      "\n",
      "(evaluate) %sequence turn on the office light -> ['%action']\n",
      "\n",
      "(evaluate) %action turn on the office light -> ['%setLightState']\n",
      "\n",
      "(evaluate) %setLightState turn on the office light -> ['$on_off', '$light_name']\n",
      "in 3 seconds turn on the office light\n",
      "( parsed (0, 8)\n",
      "    ( %timer [0, 7]\n",
      "        ( %relative_time [0, 2]\n",
      "            ( $number [1, 1] 3 )\n",
      "            ( $time_unit [2, 2] seconds ) )\n",
      "        ( %sequence [3, 7]\n",
      "            ( %action [0, 4]\n",
      "                ( %setLightState [0, 4]\n",
      "                    ( $on_off [1, 1] on )\n",
      "                    ( $light_name [3, 4] office light ) ) ) ) ) )\n",
      "words ['turn', 'off', 'all', 'the', 'lights']\n",
      "\n",
      "(evaluate) % turn off all the lights -> ['%sequence']\n",
      "\n",
      "(evaluate) %sequence turn off all the lights -> ['%action']\n",
      "\n",
      "(evaluate) %action turn off all the lights -> ['%setLightState']\n",
      "\n",
      "(evaluate) %setLightState turn off all the lights -> ['$on_off', '$light_name']\n",
      "turn off all the lights\n",
      "( parsed (0, 5)\n",
      "    ( %sequence [0, 4]\n",
      "        ( %action [0, 4]\n",
      "            ( %setLightState [0, 4]\n",
      "                ( $on_off [1, 1] off )\n",
      "                ( $light_name [4, 4] lights ) ) ) ) )\n",
      "words ['what', 'is', 'the', 'price', 'of', 'bitcoin']\n",
      "\n",
      "(evaluate) % what is the price of bitcoin -> ['%sequence']\n",
      "\n",
      "(evaluate) %sequence what is the price of bitcoin -> ['%action']\n",
      "\n",
      "(evaluate) %action what is the price of bitcoin -> ['%getPrice']\n",
      "\n",
      "(evaluate) %getPrice what is the price of bitcoin -> ['$asset']\n",
      "what is the price of bitcoin\n",
      "( parsed (0, 6)\n",
      "    ( %sequence [0, 5]\n",
      "        ( %action [0, 5]\n",
      "            ( %getPrice [0, 5]\n",
      "                ( $asset [5, 5] bitcoin ) ) ) ) )\n",
      "words ['turn', 'off', 'all', 'the', 'lights']\n",
      "\n",
      "(evaluate) % turn off all the lights -> ['%sequence']\n",
      "\n",
      "(evaluate) %sequence turn off all the lights -> ['%action']\n",
      "\n",
      "(evaluate) %action turn off all the lights -> ['%setLightState']\n",
      "\n",
      "(evaluate) %setLightState turn off all the lights -> ['$on_off', '$light_name']\n",
      "turn off all the lights\n",
      "( parsed (0, 5)\n",
      "    ( %sequence [0, 4]\n",
      "        ( %action [0, 4]\n",
      "            ( %setLightState [0, 4]\n",
      "                ( $on_off [1, 1] off )\n",
      "                ( $light_name [4, 4] lights ) ) ) ) )\n",
      "words ['turn', 'on', 'the', 'office', 'light']\n",
      "\n",
      "(evaluate) % turn on the office light -> ['%sequence']\n",
      "\n",
      "(evaluate) %sequence turn on the office light -> ['%action']\n",
      "\n",
      "(evaluate) %action turn on the office light -> ['%setLightState']\n",
      "\n",
      "(evaluate) %setLightState turn on the office light -> ['$on_off', '$light_name']\n",
      "turn on the office light\n",
      "( parsed (0, 5)\n",
      "    ( %sequence [0, 4]\n",
      "        ( %action [0, 4]\n",
      "            ( %setLightState [0, 4]\n",
      "                ( $on_off [1, 1] on )\n",
      "                ( $light_name [3, 4] office light ) ) ) ) )\n",
      "words ['turn', 'on', 'the', 'office', 'light']\n",
      "\n",
      "(evaluate) % turn on the office light -> ['%sequence']\n",
      "\n",
      "(evaluate) %sequence turn on the office light -> ['%action']\n",
      "\n",
      "(evaluate) %action turn on the office light -> ['%setLightState']\n",
      "\n",
      "(evaluate) %setLightState turn on the office light -> ['$on_off', '$light_name']\n",
      "turn on the office light\n",
      "( parsed (0, 5)\n",
      "    ( %sequence [0, 4]\n",
      "        ( %action [0, 4]\n",
      "            ( %setLightState [0, 4]\n",
      "                ( $on_off [1, 1] on )\n",
      "                ( $light_name [3, 4] office light ) ) ) ) )\n",
      "words ['turn', 'on', 'the', 'office', 'light']\n",
      "\n",
      "(evaluate) % turn on the office light -> ['%sequence']\n",
      "\n",
      "(evaluate) %sequence turn on the office light -> ['%action']\n",
      "\n",
      "(evaluate) %action turn on the office light -> ['%setLightState']\n",
      "\n",
      "(evaluate) %setLightState turn on the office light -> ['$on_off', '$light_name']\n",
      "turn on the office light\n",
      "( parsed (0, 5)\n",
      "    ( %sequence [0, 4]\n",
      "        ( %action [0, 4]\n",
      "            ( %setLightState [0, 4]\n",
      "                ( $on_off [1, 1] on )\n",
      "                ( $light_name [3, 4] office light ) ) ) ) )\n",
      "words ['in', '3', 'seconds', 'turn', 'on', 'the', 'office', 'light']\n",
      "\n",
      "(evaluate) % in 3 seconds turn on the office light -> ['%timer']\n",
      "\n",
      "(evaluate) %timer in 3 seconds turn on the office light -> ['%relative_time', '%sequence']\n",
      "\n",
      "(evaluate) %relative_time in 3 seconds -> ['$number', '$time_unit']\n",
      "\n",
      "(evaluate) %sequence turn on the office light -> ['%action']\n",
      "\n",
      "(evaluate) %action turn on the office light -> ['%setLightState']\n",
      "\n",
      "(evaluate) %setLightState turn on the office light -> ['$on_off', '$light_name']\n",
      "in 3 seconds turn on the office light\n",
      "( parsed (0, 8)\n",
      "    ( %timer [0, 7]\n",
      "        ( %relative_time [0, 2]\n",
      "            ( $number [1, 1] 3 )\n",
      "            ( $time_unit [2, 2] seconds ) )\n",
      "        ( %sequence [3, 7]\n",
      "            ( %action [0, 4]\n",
      "                ( %setLightState [0, 4]\n",
      "                    ( $on_off [1, 1] on )\n",
      "                    ( $light_name [3, 4] office light ) ) ) ) ) )\n",
      "Deregistered maia:parser\n"
     ]
    }
   ],
   "source": [
    "import somata\n",
    "service = somata.Service('maia:parser', {'parse': parse}, {'bind_port': 8855})"
   ]
  },
  {
   "cell_type": "code",
   "execution_count": 49,
   "metadata": {
    "collapsed": false
   },
   "outputs": [],
   "source": [
    "service.socket.close()"
   ]
  },
  {
   "cell_type": "code",
   "execution_count": null,
   "metadata": {
    "collapsed": true
   },
   "outputs": [],
   "source": []
  }
 ],
 "metadata": {
  "anaconda-cloud": {},
  "kernelspec": {
   "display_name": "Python [conda root]",
   "language": "python",
   "name": "conda-root-py"
  },
  "language_info": {
   "codemirror_mode": {
    "name": "ipython",
    "version": 3
   },
   "file_extension": ".py",
   "mimetype": "text/x-python",
   "name": "python",
   "nbconvert_exporter": "python",
   "pygments_lexer": "ipython3",
   "version": "3.5.2"
  }
 },
 "nbformat": 4,
 "nbformat_minor": 1
}
