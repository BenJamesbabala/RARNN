{
 "cells": [
  {
   "cell_type": "code",
   "execution_count": 1,
   "metadata": {
    "collapsed": false
   },
   "outputs": [
    {
     "name": "stdout",
     "output_type": "stream",
     "text": [
      "Populating the interactive namespace from numpy and matplotlib\n"
     ]
    }
   ],
   "source": [
    "%pylab inline"
   ]
  },
  {
   "cell_type": "code",
   "execution_count": 2,
   "metadata": {
    "collapsed": true
   },
   "outputs": [],
   "source": [
    "import torch\n",
    "import torch.nn as nn\n",
    "import torch.nn.functional as F\n",
    "from torch.autograd import Variable\n",
    "\n",
    "USE_CUDA = False"
   ]
  },
  {
   "cell_type": "code",
   "execution_count": 3,
   "metadata": {
    "collapsed": false
   },
   "outputs": [],
   "source": [
    "from nalgene.generate import *\n",
    "\n",
    "parsed = parse_file('.', 'grammar.nlg')\n",
    "parsed.map_leaves(tokenizeLeaf)"
   ]
  },
  {
   "cell_type": "code",
   "execution_count": 4,
   "metadata": {
    "collapsed": true
   },
   "outputs": [],
   "source": [
    "def descend(node, fn, child_type='phrase', returns=None):\n",
    "    if returns is None: returns = []\n",
    "    returned = fn(node)\n",
    "    returns.append(returned)\n",
    "\n",
    "    for child in node.children:\n",
    "        if (child_type is None) or (child.type == child_type):\n",
    "            descend(child, fn, child_type, returns)\n",
    "    \n",
    "    return returns"
   ]
  },
  {
   "cell_type": "code",
   "execution_count": 5,
   "metadata": {
    "collapsed": false
   },
   "outputs": [],
   "source": [
    "def ascend(node, fn):\n",
    "    if node.parent is None:\n",
    "        return fn(node)\n",
    "    else:\n",
    "        return ascend(node.parent, fn)"
   ]
  },
  {
   "cell_type": "markdown",
   "metadata": {},
   "source": [
    "## Building input and output vocabularies\n",
    "\n",
    "To find all input vocabulary tokens, we can traverse the parsed nalgene tree and copy all `word` type tokens.\n",
    "\n",
    "**TODO**: Use GloVe vectors for input vocabulary"
   ]
  },
  {
   "cell_type": "code",
   "execution_count": 6,
   "metadata": {
    "collapsed": false
   },
   "outputs": [
    {
     "name": "stdout",
     "output_type": "stream",
     "text": [
      "['EOS', '1', 'Feel', 'days', 'get', 'Tonight', 'Blonde', 'Just', 'de', 'Melody', 'Such', '3', ':', 'Sunny', 'Moves', 'Bon', 'Dogulu', 'white', 'am', 'if', 'Radio', 'Boogie', 'Mono', 'Nev', 'thank', 'from', 'Hate', 'thanks', 'Back', 'Our', 'Cure', 'Gathering', 'All', 'Japanese', 'yo', 'state', 'For', 'Theme', 'Where', 'could', 'plx', 'some', 'basement', 'Take', 'Soul', 'green', 'Dream', 'People', 'when', 'Sheriff', 'Baby', 'Seven', 'Let', 'Did', 'Maroon', 'Funky', 'to', 'Darkness', 'Athena', 'light', 'Any', 'soon', '5', 'there', 'White', 'pot', 'Louie', \"what's\", 'eth', 'down', 'Way', 'blue', 'minutes', 'Kenan', 'Afternoon', 'Of', 'Agua', 'Rappers', 'Elsiane', 'I', 'Breeze', 'Sex', 'make', 'On', 'Black', 'Berlin', 'Somebody', 'In', 'Town', 'Massive', 'bitcoin', 'high', 'Dry', 'Best', 'Delilah', 'Remaster', 'yen', 'orange', 'Big', 'Will', 'Sesen', 'Be', '6', 'Day', 'Ceza', 'Sympathy', 'Voodoo', 'Reha', 'then', 'Annique', 'room', 'equal', 'Naive', 'Me', 'very', 'as', 'Great', 'please', 'living', 'Thumb', 'lhan', 'next', 'Oasis', 'tea', 'Nelly', 'Goes', 'Gimme', 'also', 'Breath', 'price', 'a', 'Devil', 'Nite', 'Army', 'Isigin', 'tell', 'office', 'Seki', 'Pinhani', 'plate', 'Fit', 'Machine', 'Muse', 'Really', '0', 'Whitesnake', 'Sebnem', 'purple', 'off', 'plox', 'Smack', 'There', 'Turning', 'Heights', 'pretty', 'Johanson', 'Version', 'Young', 'Introduction', 'Lion', 'than', 'is', 'Radiohead', 'seconds', 'Dolapdere', 'Pass', 'Got', 'Ufuk', 'Seaside', 'Album', 'hey', 'Shout', 'Modern', '9', 'Gang', 'by', 'me', 'A', 'Sexbomb', 'Can', 'Lola', 'Full', 'Golden', 'Nation', 'Falay', 'play', '4', 'bedroom', 'set', 'Disposition', 'kitchen', 'btc', 'Eyes', 'heya', 'tesla', 'Unchained', 'and', 'Peaches', 'Age', 'Night', 'of', 'Apache', 'Furtado', 'Heart', 'She', 'much', 'Jay-Jay', 'hello', 'Up', 'volume', 'Cepkin', 'Bitch', 'hours', 'But', 'Skrillex', 'switch', 'New', 'music', 'Wet', 'yellow', 'Call', 'bathroom', 'To', 'Train', 'Every', 'Vega', 'Human', 'Boys', 'Breathe', 'Attack', 'less', 'Last', 'Sleeps', 'Know', 'Believer', 'Ferah', 'what', 'Under', 'Shades', 'Coldplay', 'Omen', 'Remixed', 'Daydream', 'Girl', 'Do', 'Brown', 'um', 'coffee', 'pm', 'Her', 'The', 'Jizz', 'Dagger', '2', 'Shit', 'Beirut', 'microsoft', 'Happy', 'Yansimasi', 'From', 'up', '8', 'Stripes', 'Diken', 'Is', 'Had', 'Sweet', 'So', 'Chelsea', 'Shot', 'Are', 'Summer', 'Say', 'Korn', 'in', 'oh', 'Have', 'Blame', 'Sunset', 'greater', 'Your', 'And', 'Many', 'something', 'thx', 'ethereum', 'Love', 'Sharona', 'Jailbreak', 'Firestarter', 'shit', 'Imbruglia', 'Delight', 'temperature', 'Own', 'song', 'on', 'Pants', 'Yildirim', 'Valerie', 'Kurban', 'Space', 'the', 'Duman', 'Waterloo', 'It', 'low', '7', 'Heroes', 'Time', 'hi', 'Shelter', 'Cover', 'Badem', 'Were', 'hot', 'Iris', 'Original', 'turn', 'Natalie', 'Edit', 'at', 'pls', 'Yakup', 'Redhead', 'maia', 'Called', 'Single', 'Jovi', 'Out', 'Aksu', 'Deniz', 'Morrissey', 'pesos', 'outside', 'Go', 'My', 'Sezen', 'Paint', 'When', 'Told', 'Together', 'uh', 'Malice', 'red', 'you', 'Placebo', 'You', 'Someday', 'Shut', 'With', 'Hayko', 'change', 'Aerosmith']\n"
     ]
    }
   ],
   "source": [
    "input_tokens = []\n",
    "\n",
    "def get_input_tokens(node):\n",
    "    if node.type == 'word':\n",
    "        input_tokens.append(node.key)\n",
    "\n",
    "descend(parsed, get_input_tokens, None)\n",
    "\n",
    "input_tokens = list(set(input_tokens))\n",
    "input_tokens = ['EOS'] + input_tokens\n",
    "print(input_tokens)"
   ]
  },
  {
   "cell_type": "markdown",
   "metadata": {},
   "source": [
    "For output tokens, we can just take the top level node names that are either phrases or variables."
   ]
  },
  {
   "cell_type": "code",
   "execution_count": 7,
   "metadata": {
    "collapsed": false
   },
   "outputs": [
    {
     "name": "stdout",
     "output_type": "stream",
     "text": [
      "['EOS', '%', '%if', '%timer', '%command', '%sequence', '%time', '%relative_time', '%absolute_time', '%condition', '%checkValue', '%getNumberValue', '%getValue', '%action', '%checkLightState', '%checkSwitchState', '%getLightState', '%getSwitchState', '%getTemperature', '%getPrice', '%setLightState', '%light_state', '%setSwitchState', '%setTemperature', '%setVolume', '%playMusic', '$operator', '$asset', '$room', '$light', '$switch', '$on_off', '$up_down', '$color', '$number', '$_number', '$time_unit', '$time', '$artist', '$song']\n"
     ]
    }
   ],
   "source": [
    "output_tokens = [child.key for child in parsed.children if child.type in ['phrase', 'variable']]\n",
    "output_tokens = ['EOS'] + output_tokens\n",
    "print(output_tokens)"
   ]
  },
  {
   "cell_type": "markdown",
   "metadata": {},
   "source": [
    "## Getting input and target data for nodes"
   ]
  },
  {
   "cell_type": "code",
   "execution_count": 8,
   "metadata": {
    "collapsed": true
   },
   "outputs": [],
   "source": [
    "def words_for_position(words, position):\n",
    "    if position is None:\n",
    "        return words\n",
    "    start, end, length = position\n",
    "    return words[start : end + 1]"
   ]
  },
  {
   "cell_type": "code",
   "execution_count": 9,
   "metadata": {
    "collapsed": false
   },
   "outputs": [],
   "source": [
    "def relative_position(node, parent):\n",
    "    if parent.position is None:\n",
    "        return node.position\n",
    "    return node.position[0] - parent.position[0], node.position[1] - parent.position[0], node.position[2]"
   ]
  },
  {
   "cell_type": "code",
   "execution_count": 10,
   "metadata": {
    "collapsed": false
   },
   "outputs": [],
   "source": [
    "def data_for_node(flat, node):\n",
    "    words = [child.key for child in flat.children]\n",
    "    inputs = words_for_position(words, node.position)\n",
    "    keys = [child.key for child in node.children]\n",
    "    positions = [relative_position(child, node) for child in node.children]\n",
    "    return node.key, inputs, list(zip(keys, positions))"
   ]
  },
  {
   "cell_type": "code",
   "execution_count": 11,
   "metadata": {
    "collapsed": false
   },
   "outputs": [
    {
     "data": {
      "text/plain": [
       "('%timer',\n",
       " ['in',\n",
       "  '6',\n",
       "  '9',\n",
       "  'minutes',\n",
       "  'turn',\n",
       "  'off',\n",
       "  'the',\n",
       "  'bedroom',\n",
       "  'light',\n",
       "  'next',\n",
       "  'could',\n",
       "  'you',\n",
       "  'make',\n",
       "  'the',\n",
       "  'volume',\n",
       "  'up'],\n",
       " [('%relative_time', (0, 3, 4)), ('%sequence', (4, 15, 12))])"
      ]
     },
     "execution_count": 11,
     "metadata": {},
     "output_type": "execute_result"
    }
   ],
   "source": [
    "walked_flat, walked_tree = walk_tree(parsed, parsed['%'], None)\n",
    "data_for_node(walked_flat, walked_tree.children[0])"
   ]
  },
  {
   "cell_type": "markdown",
   "metadata": {},
   "source": [
    "## Creating tensors for input and target data"
   ]
  },
  {
   "cell_type": "code",
   "execution_count": 12,
   "metadata": {
    "collapsed": true
   },
   "outputs": [],
   "source": [
    "def tokens_to_tensor(tokens, source_tokens, append_eos=True):\n",
    "    indexes = []\n",
    "    for token in tokens:\n",
    "        indexes.append(source_tokens.index(token))\n",
    "    if append_eos:\n",
    "        indexes.append(0)\n",
    "    return torch.LongTensor(indexes)"
   ]
  },
  {
   "cell_type": "code",
   "execution_count": 13,
   "metadata": {
    "collapsed": false
   },
   "outputs": [
    {
     "data": {
      "text/plain": [
       "\n",
       " 1  1  1  0  0\n",
       " 0  0  0  0  1\n",
       "[torch.FloatTensor of size 2x5]"
      ]
     },
     "execution_count": 13,
     "metadata": {},
     "output_type": "execute_result"
    }
   ],
   "source": [
    "def ranges_to_tensor(ranges, seq_len):\n",
    "    ranges_tensor = torch.zeros(len(ranges), seq_len)\n",
    "    for r in range(len(ranges)):\n",
    "        start, end, _ = ranges[r]\n",
    "        ranges_tensor[r, start:end+1] = 1\n",
    "    return ranges_tensor\n",
    "\n",
    "ranges_to_tensor([(0, 2, 3), (4, 4, 1)], 5)"
   ]
  },
  {
   "cell_type": "markdown",
   "metadata": {},
   "source": [
    "## Model\n",
    "\n",
    "The core model is a regular seq2seq/encoder-decoder model with attention. The attention model is from [Luong et al.'s \"Effective Approaches to Attention-based Neural Machine Translation\"](https://arxiv.org/abs/1508.04025) using dot-product based attention energies.\n",
    "\n",
    "The encoder and decoder take one additional input `context` which represents the phrase parent we are currently operating on, e.g. `%setLightState`. At the top level node the context is always `%`.\n",
    "\n",
    "The encoder encodes the input sequence into a series of vectors using a bidirectional GRU. The decoder \"translates\" this into a sequence of phrase tokens, given the encoder outputs and current context, e.g. \"turn off the office light\" + `%setLightState` &rarr; `[$on_off, $light]`.\n",
    "\n",
    "The last piece of the model is the Pointer, which is run for each decoded token, given the decoder's hidden state at that point. The pointer's goal is to select which of the input words are relevant to the decoded token, e.g. `$light` &rarr; \"office light\". The idea is similar to a [Vinyals et al.'s Pointer Network](https://arxiv.org/abs/1506.03134) but chooses one or more outputs rather than just one.\n",
    "\n",
    "Once the decoder and pointer have chosen tokens and alignments, the phrase tokens and corresponding \"pointed at\" sub-inputs are used as the context and inputs of the next iteration. This recurs until no more phrase tokens are decoded."
   ]
  },
  {
   "cell_type": "code",
   "execution_count": 14,
   "metadata": {
    "collapsed": true
   },
   "outputs": [],
   "source": [
    "class Encoder(nn.Module):\n",
    "    def __init__(self, input_size, hidden_size, n_layers=1):\n",
    "        super(Encoder, self).__init__()\n",
    "\n",
    "        self.input_size = input_size\n",
    "        self.hidden_size = hidden_size\n",
    "        self.n_layers = n_layers\n",
    "\n",
    "        self.embedding = nn.Embedding(input_size, hidden_size)\n",
    "        self.gru = nn.GRU(hidden_size, hidden_size, n_layers, bidirectional=True)\n",
    "\n",
    "    def forward(self, context_input, word_inputs):\n",
    "        # TODO: Incorporate context input\n",
    "        # TODO: Batching\n",
    "        \n",
    "        seq_len = word_inputs.size(0)\n",
    "        batch_size = word_inputs.size(1)\n",
    "        \n",
    "        embedded = self.embedding(word_inputs.view(seq_len * batch_size, -1)) # Process seq x batch at once\n",
    "        output = embedded.view(seq_len, batch_size, -1) # Resize back to seq x batch for RNN\n",
    "\n",
    "        outputs, hidden = self.gru(output)\n",
    "        outputs = outputs[:, :, :self.hidden_size] + outputs[:, : ,self.hidden_size:] # Sum bidirectional outputs\n",
    "\n",
    "        return outputs, hidden"
   ]
  },
  {
   "cell_type": "code",
   "execution_count": 15,
   "metadata": {
    "collapsed": false
   },
   "outputs": [],
   "source": [
    "class DotAttn(nn.Module):\n",
    "    def __init__(self):\n",
    "        super(DotAttn, self).__init__()\n",
    "\n",
    "    def forward(self, hidden, encoder_outputs):\n",
    "        seq_len = len(encoder_outputs)\n",
    "\n",
    "        # Create variable to store attention energies\n",
    "        attn_energies = Variable(torch.zeros(seq_len)) # B x 1 x S\n",
    "        if USE_CUDA: attn_energies = attn_energies.cuda()\n",
    "\n",
    "        # Calculate energies for each encoder output\n",
    "        for i in range(seq_len):\n",
    "            attn_energies[i] = hidden.dot(encoder_outputs[i])\n",
    "\n",
    "        # Normalize energies to weights in range 0 to 1, resize to 1 x 1 x seq_len\n",
    "        return F.softmax(attn_energies).unsqueeze(0).unsqueeze(0)"
   ]
  },
  {
   "cell_type": "code",
   "execution_count": 16,
   "metadata": {
    "collapsed": false
   },
   "outputs": [],
   "source": [
    "class Decoder(nn.Module):\n",
    "    def __init__(self, hidden_size, output_size, n_layers=1, dropout=0.05):\n",
    "        super(Decoder, self).__init__()\n",
    "        \n",
    "        # Keep parameters for reference\n",
    "        self.hidden_size = hidden_size\n",
    "        self.output_size = output_size\n",
    "        self.n_layers = n_layers\n",
    "        self.dropout = dropout\n",
    "        \n",
    "        # Define layers\n",
    "        self.embedding = nn.Embedding(output_size, hidden_size)\n",
    "        self.gru = nn.GRU(hidden_size * 2, hidden_size, n_layers, dropout=dropout)\n",
    "        self.out = nn.Linear(hidden_size * 2, output_size)\n",
    "        \n",
    "        # Choose attention model\n",
    "        self.attn = DotAttn()\n",
    "    \n",
    "    def forward(self, context_input, word_input, last_hidden, encoder_outputs):\n",
    "        # Note: we run this one step at a time\n",
    "        # TODO: Batching\n",
    "        \n",
    "        # Get the embedding of the current input word (last output word)\n",
    "        word_embedded = self.embedding(word_input).view(1, 1, -1) # S=1 x B x N\n",
    "        \n",
    "        # Combine context and embedded word, through RNN\n",
    "        rnn_input = torch.cat((context_input.unsqueeze(0), word_embedded), 2)\n",
    "        rnn_output, hidden = self.gru(rnn_input, last_hidden)\n",
    "\n",
    "        # Calculate attention from current RNN state and all encoder outputs; apply to encoder outputs\n",
    "        attn_weights = self.attn(rnn_output.squeeze(0), encoder_outputs)\n",
    "        context = attn_weights.bmm(encoder_outputs.transpose(0, 1)) # B x 1 x N\n",
    "        \n",
    "        # Final output layer (next word prediction) using the RNN hidden state and context vector\n",
    "        rnn_output = rnn_output.squeeze(0) # S=1 x B x N -> B x N\n",
    "        context = context.squeeze(1)       # B x S=1 x N -> B x N\n",
    "        output = F.log_softmax(self.out(torch.cat((rnn_output, context), 1)))\n",
    "        \n",
    "        # Return final output, hidden state, and attention weights (for visualization)\n",
    "        return output, hidden, attn_weights"
   ]
  },
  {
   "cell_type": "markdown",
   "metadata": {},
   "source": [
    "The Pointer network is a recurrent neural network with an embedding, a single-layer GRU, and linear output layer with a sigmoid transformation. The hidden state is initialized with the decoder's latest hidden state, replicated to fit the bidirectional GRU."
   ]
  },
  {
   "cell_type": "code",
   "execution_count": 17,
   "metadata": {
    "collapsed": false
   },
   "outputs": [],
   "source": [
    "class Pointer(nn.Module):\n",
    "    def __init__(self, hidden_size, dropout=0.05):\n",
    "        super(Pointer, self).__init__()\n",
    "        \n",
    "        self.hidden_size = hidden_size\n",
    "        \n",
    "        self.gru = nn.GRU(hidden_size * 2, hidden_size, bidirectional=True, dropout=dropout)\n",
    "        self.out = nn.Linear(hidden_size, 1)\n",
    "\n",
    "    def forward(self, context, decoder_hidden, encoder_outputs):\n",
    "        # Combine encoder outputs with context\n",
    "#         print('[pointer] context', context.size())\n",
    "#         print('[pointer] encoder_outputs', encoder_outputs.size())\n",
    "        context = context.repeat(encoder_outputs.size(0), 1).unsqueeze(1)\n",
    "#         print('[pointer] expanded context', context.size())\n",
    "        combined_outputs = torch.cat((encoder_outputs, context), 2)\n",
    "        \n",
    "        # Run combined sequence through encoder\n",
    "        hidden = decoder_hidden.repeat(2, 1, 1) # Repeat decoder's single-directional hidden state for bidirectional GRU\n",
    "        outputs, hidden = self.gru(combined_outputs, hidden)\n",
    "        # Sum bidirectional outputs\n",
    "        outputs = outputs[:, :, :self.hidden_size] + outputs[:, :, self.hidden_size:]\n",
    "        \n",
    "        # Make final 0-1 prediction\n",
    "        outputs = self.out(outputs.squeeze(1))\n",
    "        outputs = F.sigmoid(outputs)\n",
    "\n",
    "        return outputs"
   ]
  },
  {
   "cell_type": "markdown",
   "metadata": {},
   "source": [
    "We can turn the whole thing into one module by combining the Encoder, Decoder, and Pointer networks. There's also an embedding layer for the context tokens, which includes the overall context (used by the encoder and decoder) and pointer context (based on the last output of the decoder)."
   ]
  },
  {
   "cell_type": "code",
   "execution_count": 18,
   "metadata": {
    "collapsed": false
   },
   "outputs": [],
   "source": [
    "MAX_LENGTH = 50\n",
    "\n",
    "class RARNN(nn.Module):\n",
    "    def __init__(self, input_size, output_size, hidden_size):\n",
    "        super(RARNN, self).__init__()\n",
    "        \n",
    "        self.input_size = input_size\n",
    "        self.output_size = output_size\n",
    "        self.hidden_size = hidden_size\n",
    "        \n",
    "        self.embedding = nn.Embedding(output_size, hidden_size)\n",
    "        \n",
    "        self.encoder = Encoder(input_size, hidden_size)\n",
    "        self.decoder = Decoder(hidden_size, output_size)\n",
    "        self.pointer = Pointer(hidden_size)\n",
    "\n",
    "    def forward(self, context_input, word_inputs, word_targets=None):\n",
    "        # Get embedding for context input\n",
    "        context_embedded = self.embedding(context_input)\n",
    "        \n",
    "        input_len = word_inputs.size(0)\n",
    "        target_len = word_targets.size(0) if word_targets is not None else MAX_LENGTH\n",
    "        \n",
    "        # Run through encoder\n",
    "        encoder_outputs, encoder_hidden = self.encoder(context_embedded, word_inputs)\n",
    "        decoder_hidden = encoder_hidden # Use encoder's last hidden state\n",
    "        decoder_input = Variable(torch.LongTensor([0])) # EOS/SOS token\n",
    "        if USE_CUDA:\n",
    "            decoder_input = decoder_input.cuda()\n",
    "\n",
    "        # Variables to store decoder and pointer outputs\n",
    "        decoder_outputs = Variable(torch.zeros(target_len, output_size))\n",
    "        pointer_outputs = Variable(torch.zeros(target_len - 1, input_len)) # Pointer never runs on EOS\n",
    "        if USE_CUDA:\n",
    "            decoder_outputs = decoder_outputs.cuda()\n",
    "            pointer_outputs = pointer_outputs.cuda()\n",
    "        \n",
    "        # Run through decoder and pointer\n",
    "        for i in range(target_len):\n",
    "            decoder_output, decoder_hidden, decoder_attn = self.decoder(context_embedded, decoder_input, decoder_hidden, encoder_outputs)\n",
    "            decoder_outputs[i] = decoder_output\n",
    "    \n",
    "            # Teacher forcing with known targets, if provided\n",
    "            if word_targets is not None:\n",
    "                decoder_input = word_targets[i]\n",
    "                decoder_input_embedded = self.embedding(decoder_input) # Context for pointer\n",
    "\n",
    "                if i < target_len - 1:\n",
    "                    pointer_output = self.pointer(decoder_input_embedded, decoder_hidden, encoder_outputs)\n",
    "                    pointer_outputs[i] = pointer_output\n",
    "\n",
    "            # Sample with last outputs\n",
    "            else:\n",
    "                max_index = decoder_output.topk(1)[1].data[0][0]\n",
    "                decoder_input = Variable(torch.LongTensor([max_index]))\n",
    "                if USE_CUDA:\n",
    "                    decoder_input = decoder_input.cuda()\n",
    "                decoder_input_embedded = self.embedding(decoder_input) # Context for pointer\n",
    "\n",
    "                if max_index == 0: # EOS\n",
    "                    break\n",
    "                else:\n",
    "                    pointer_output = self.pointer(decoder_input_embedded, decoder_hidden, encoder_outputs)\n",
    "                    pointer_outputs[i] = pointer_output\n",
    "        \n",
    "        # Slice outputs\n",
    "        if word_targets is None:\n",
    "            decoder_outputs = decoder_outputs[:i]\n",
    "            pointer_outputs = pointer_outputs[:i-1]\n",
    "\n",
    "        return decoder_outputs, pointer_outputs"
   ]
  },
  {
   "cell_type": "markdown",
   "metadata": {},
   "source": [
    "## Training\n",
    "\n",
    "The inputs to the network are the current phrase label, e.g. `%getLightState` and the string to parse, \"the living room light is on\". The outputs are the child node labels, `$light` and `$on_off` with a selection of words given by attention-like weights over the sequence, treated as boolean values given a threshold."
   ]
  },
  {
   "cell_type": "code",
   "execution_count": 19,
   "metadata": {
    "collapsed": false
   },
   "outputs": [],
   "source": [
    "input_size = len(input_tokens)\n",
    "output_size = len(output_tokens)\n",
    "hidden_size = 100\n",
    "\n",
    "learning_rate = 1e-4\n",
    "weight_decay = 1e-6\n",
    "\n",
    "rarnn = RARNN(input_size, output_size, hidden_size)\n",
    "optimizer = torch.optim.Adam(rarnn.parameters(), lr=learning_rate, weight_decay=weight_decay)\n",
    "\n",
    "decoder_criterion = nn.NLLLoss()\n",
    "pointer_criterion = nn.MSELoss(size_average=False)"
   ]
  },
  {
   "cell_type": "code",
   "execution_count": 20,
   "metadata": {
    "collapsed": false,
    "scrolled": false
   },
   "outputs": [],
   "source": [
    "def train(flat, node):\n",
    "    context, inputs, targets = data_for_node(flat, node)\n",
    "\n",
    "    # Turn inputs into tensors\n",
    "    context_var = tokens_to_tensor([context], output_tokens, False)\n",
    "    context_var = Variable(context_var)\n",
    "    inputs_var = tokens_to_tensor(inputs, input_tokens).view(-1, 1, 1) # seq x batch x size\n",
    "    inputs_var = Variable(inputs_var)\n",
    "    target_tokens = [target_token for target_token, _ in targets]\n",
    "    target_ranges = [target_range for _, target_range in targets]\n",
    "    target_tokens_var = tokens_to_tensor(target_tokens, output_tokens)\n",
    "    target_tokens_var = Variable(target_tokens_var)\n",
    "    target_ranges_var = ranges_to_tensor(target_ranges, len(inputs) + 1)\n",
    "    target_ranges_var = Variable(target_ranges_var)\n",
    " \n",
    "    # Run through model\n",
    "    decoder_outputs, pointer_outputs = rarnn(context_var, inputs_var, target_tokens_var)\n",
    "\n",
    "    # Loss calculation and backprop\n",
    "    optimizer.zero_grad()\n",
    "    decoder_loss = decoder_criterion(decoder_outputs, target_tokens_var)\n",
    "    pointer_loss = pointer_criterion(pointer_outputs, target_ranges_var)\n",
    "    total_loss = decoder_loss + pointer_loss\n",
    "    total_loss.backward()\n",
    "    optimizer.step()\n",
    "\n",
    "    return total_loss.data[0]"
   ]
  },
  {
   "cell_type": "code",
   "execution_count": 21,
   "metadata": {
    "collapsed": false,
    "scrolled": false
   },
   "outputs": [
    {
     "name": "stdout",
     "output_type": "stream",
     "text": [
      "Starting job 593f4520f8e1c2083c22b2ad at 2017-06-12 18:51:28\n",
      "[log] 0m 40s (100) 3.7317\n",
      "[log] 1m 19s (200) 2.4530\n",
      "[log] 2m 2s (300) 1.4793\n",
      "[log] 2m 50s (400) 0.6257\n",
      "[log] 3m 45s (500) 0.6116\n",
      "[log] 4m 32s (600) 0.7344\n",
      "[log] 5m 29s (700) 0.4152\n",
      "[log] 6m 21s (800) 0.3565\n",
      "[log] 7m 19s (900) 0.2362\n",
      "[log] 8m 10s (1000) 0.1185\n",
      "[log] 9m 5s (1100) 0.3738\n",
      "[log] 9m 58s (1200) 0.4474\n",
      "[log] 10m 45s (1300) 0.3026\n",
      "[log] 11m 29s (1400) 0.1411\n",
      "[log] 12m 11s (1500) 0.1635\n",
      "[log] 13m 1s (1600) 0.1979\n",
      "[log] 13m 49s (1700) 0.2851\n",
      "[log] 14m 37s (1800) 0.1623\n",
      "[log] 15m 30s (1900) 0.0988\n",
      "[log] 16m 20s (2000) 0.0397\n",
      "[log] 17m 13s (2100) 0.1279\n",
      "[log] 18m 9s (2200) 0.0429\n",
      "[log] 19m 3s (2300) 0.0343\n",
      "[log] 19m 59s (2400) 0.0534\n",
      "[log] 20m 51s (2500) 0.0298\n",
      "[log] 21m 42s (2600) 0.0471\n",
      "[log] 22m 34s (2700) 0.0357\n",
      "[log] 23m 20s (2800) 0.0180\n",
      "[log] 24m 12s (2900) 0.0529\n",
      "[log] 25m 4s (3000) 0.0754\n",
      "[log] 25m 52s (3100) 0.0492\n",
      "[log] 26m 46s (3200) 0.0563\n",
      "[log] 27m 33s (3300) 0.0211\n",
      "[log] 28m 19s (3400) 0.1325\n",
      "[log] 29m 7s (3500) 0.0541\n",
      "[log] 30m 1s (3600) 0.0503\n",
      "[log] 30m 49s (3700) 0.0210\n",
      "[log] 31m 34s (3800) 0.0417\n",
      "[log] 32m 23s (3900) 0.0766\n",
      "[log] 33m 11s (4000) 0.0054\n",
      "[log] 33m 58s (4100) 0.0194\n",
      "[log] 34m 42s (4200) 0.0057\n",
      "[log] 35m 28s (4300) 0.0399\n",
      "[log] 36m 12s (4400) 0.0479\n",
      "[log] 37m 2s (4500) 0.0177\n",
      "[log] 37m 48s (4600) 0.0037\n",
      "[log] 38m 36s (4700) 0.0381\n",
      "[log] 39m 24s (4800) 0.8584\n",
      "[log] 40m 12s (4900) 0.0059\n"
     ]
    }
   ],
   "source": [
    "import sconce\n",
    "job = sconce.Job('rarnn')\n",
    "job.plot_every = 20\n",
    "job.log_every = 100\n",
    "\n",
    "n_epochs = 5000\n",
    "\n",
    "for i in range(n_epochs):\n",
    "    walked_flat, walked_tree = walk_tree(parsed, parsed['%'], None)\n",
    "    def _train(node): return train(walked_flat, node)\n",
    "    ds = descend(walked_tree, _train)\n",
    "    d = sum(ds) / len(ds)\n",
    "    job.record(i, d)"
   ]
  },
  {
   "cell_type": "markdown",
   "metadata": {},
   "source": [
    "## Evaluating"
   ]
  },
  {
   "cell_type": "code",
   "execution_count": 30,
   "metadata": {
    "collapsed": false
   },
   "outputs": [],
   "source": [
    "def evaluate(context, inputs, node=None):\n",
    "    if node == None:\n",
    "        node = Node('parsed')\n",
    "    \n",
    "    # Turn data into tensors\n",
    "    context_var = tokens_to_tensor([context], output_tokens, False)\n",
    "    context_var = Variable(context_var)\n",
    "    inputs_var = tokens_to_tensor(inputs, input_tokens).view(-1, 1, 1) # seq x batch x size\n",
    "    inputs_var = Variable(inputs_var)\n",
    "    \n",
    "    # Run through RARNN\n",
    "    decoder_outputs, pointer_outputs = rarnn(context_var, inputs_var)\n",
    "    \n",
    "    # Given the decoder and pointer outputs, gather contexts and inputs for sub-phrases\n",
    "    # Use pointer values > 0.5 to select words for next input sequence\n",
    "\n",
    "    next_contexts = []\n",
    "    next_inputs = []\n",
    "    \n",
    "    for i in range(len(decoder_outputs)):\n",
    "        max_value, max_index = decoder_outputs[i].topk(1)\n",
    "        max_index = max_index.data[0]\n",
    "        next_contexts.append(output_tokens[max_index]) # Get decoder output token\n",
    "        p = pointer_outputs[i]\n",
    "        next_input = []\n",
    "        for j in range(len(p) - 1):\n",
    "            pj = p[j].data[0]\n",
    "            if pj > 0.5:\n",
    "                next_input.append(inputs[j])\n",
    "        next_inputs.append(next_input)\n",
    "\n",
    "    evaluated = list(zip(next_contexts, next_inputs))\n",
    "\n",
    "    # Print decoded outputs\n",
    "    print('\\n(evaluate) %s %s -> %s' % (context, inputs, next_contexts))\n",
    "    \n",
    "    # Plot pointer outputs\n",
    "    fig = plt.figure(figsize=(len(inputs) / 3, 99))\n",
    "    sub = fig.add_subplot(111)\n",
    "    sub.matshow(pointer_outputs.data.squeeze(1).numpy(), vmin=0, vmax=1, cmap='hot')\n",
    "    plt.show(); plt.close()\n",
    "    \n",
    "    for context, inputs in evaluated:\n",
    "        # Add a node for parsed sub-phrases and values\n",
    "        sub_node = Node(context)\n",
    "        node.add(sub_node)\n",
    "        \n",
    "        # Recursively evaluate sub-phrases\n",
    "        if context[0] == '%':\n",
    "            evaluate(context, inputs, sub_node)\n",
    "    \n",
    "        # Or add words directly to value node\n",
    "        elif context[0] == '$':\n",
    "            sub_node.add(' '.join(inputs))\n",
    "\n",
    "    return node"
   ]
  },
  {
   "cell_type": "code",
   "execution_count": 31,
   "metadata": {
    "collapsed": true
   },
   "outputs": [],
   "source": [
    "def evaluate_and_print(context, inputs):\n",
    "    evaluated = evaluate(context, inputs)\n",
    "    print(' '.join(inputs))\n",
    "    print(evaluated)"
   ]
  },
  {
   "cell_type": "code",
   "execution_count": 32,
   "metadata": {
    "collapsed": false,
    "scrolled": false
   },
   "outputs": [
    {
     "name": "stdout",
     "output_type": "stream",
     "text": [
      "['heya', 'if', 'the', 'coffee', 'pot', 'is', 'on', 'then', 'play', 'shit', 'by', 'Muse', 'then', 'pls', 'change', 'the', 'tea', 'on', 'thank', 'you', 'very', 'much'] ( %\n",
      "    ( %if (1, 17, 17)\n",
      "        ( %condition (2, 6, 5)\n",
      "            ( %checkSwitchState (2, 6, 5)\n",
      "                ( $switch (3, 4, 2) coffee pot )\n",
      "                ( $on_off (6, 6, 1) on ) ) )\n",
      "        ( %sequence (8, 17, 10)\n",
      "            ( %action (8, 11, 4)\n",
      "                ( %playMusic (8, 11, 4)\n",
      "                    ( $artist (11, 11, 1) Muse ) ) )\n",
      "            ( %action (14, 17, 4)\n",
      "                ( %setSwitchState (14, 17, 4)\n",
      "                    ( $switch (16, 16, 1) tea )\n",
      "                    ( $on_off (17, 17, 1) on ) ) ) ) ) )\n",
      "\n",
      "(evaluate) % ['heya', 'if', 'the', 'coffee', 'pot', 'is', 'on', 'then', 'play', 'shit', 'by', 'Muse', 'then', 'pls', 'change', 'the', 'tea', 'on', 'thank', 'you', 'very', 'much'] -> ['%if']\n"
     ]
    },
    {
     "data": {
      "image/png": "[encoded data removed]",
      "text/plain": [
       "<matplotlib.figure.Figure at 0x1172ec438>"
      ]
     },
     "metadata": {},
     "output_type": "display_data"
    },
    {
     "name": "stdout",
     "output_type": "stream",
     "text": [
      "\n",
      "(evaluate) %if ['if', 'the', 'coffee', 'pot', 'is', 'on', 'then', 'play', 'shit', 'by', 'Muse', 'then', 'pls', 'change', 'the', 'tea', 'on'] -> ['%condition', '%action']\n"
     ]
    },
    {
     "data": {
      "image/png": "[encoded data removed]",
      "text/plain": [
       "<matplotlib.figure.Figure at 0x11a5f6f60>"
      ]
     },
     "metadata": {},
     "output_type": "display_data"
    },
    {
     "name": "stdout",
     "output_type": "stream",
     "text": [
      "\n",
      "(evaluate) %condition ['the', 'coffee', 'pot', 'is', 'on'] -> ['%checkSwitchState']\n"
     ]
    },
    {
     "data": {
      "image/png": "[encoded data removed]",
      "text/plain": [
       "<matplotlib.figure.Figure at 0x11691b278>"
      ]
     },
     "metadata": {},
     "output_type": "display_data"
    },
    {
     "name": "stdout",
     "output_type": "stream",
     "text": [
      "\n",
      "(evaluate) %checkSwitchState ['the', 'coffee', 'pot', 'is', 'on'] -> ['$switch', '$on_off']\n"
     ]
    },
    {
     "data": {
      "image/png": "[encoded data removed]",
      "text/plain": [
       "<matplotlib.figure.Figure at 0x117342a58>"
      ]
     },
     "metadata": {},
     "output_type": "display_data"
    },
    {
     "name": "stdout",
     "output_type": "stream",
     "text": [
      "\n",
      "(evaluate) %action ['play', 'shit', 'by', 'Muse'] -> ['%playMusic']\n"
     ]
    },
    {
     "data": {
      "image/png": "[encoded data removed]",
      "text/plain": [
       "<matplotlib.figure.Figure at 0x10edcebe0>"
      ]
     },
     "metadata": {},
     "output_type": "display_data"
    },
    {
     "name": "stdout",
     "output_type": "stream",
     "text": [
      "\n",
      "(evaluate) %playMusic ['play', 'shit', 'by', 'Muse'] -> ['$artist']\n"
     ]
    },
    {
     "data": {
      "image/png": "[encoded data removed]",
      "text/plain": [
       "<matplotlib.figure.Figure at 0x11a5f5198>"
      ]
     },
     "metadata": {},
     "output_type": "display_data"
    },
    {
     "name": "stdout",
     "output_type": "stream",
     "text": [
      "heya if the coffee pot is on then play shit by Muse then pls change the tea on thank you very much\n",
      "( parsed\n",
      "    ( %if\n",
      "        ( %condition\n",
      "            ( %checkSwitchState\n",
      "                ( $switch coffee pot )\n",
      "                ( $on_off on ) ) )\n",
      "        ( %action\n",
      "            ( %playMusic\n",
      "                ( $artist Muse ) ) ) ) )\n"
     ]
    }
   ],
   "source": [
    "walked_flat, walked_tree = walk_tree(parsed, parsed['%'], None)\n",
    "inputs = [child.key for child in walked_flat.children]\n",
    "print(inputs, walked_tree)\n",
    "evaluate_and_print('%', inputs)"
   ]
  },
  {
   "cell_type": "code",
   "execution_count": 25,
   "metadata": {
    "collapsed": false,
    "scrolled": false
   },
   "outputs": [
    {
     "name": "stdout",
     "output_type": "stream",
     "text": [
      "\n",
      "(evaluate) % ['hey', 'maia', 'if', 'the', 'ethereum', 'price', 'is', 'less', 'than', '2', '0', 'then', 'turn', 'the', 'living', 'room', 'light', 'on'] -> ['%if']\n"
     ]
    },
    {
     "data": {
      "image/png": "[encoded data removed]",
      "text/plain": [
       "<matplotlib.figure.Figure at 0x113f190f0>"
      ]
     },
     "metadata": {},
     "output_type": "display_data"
    },
    {
     "name": "stdout",
     "output_type": "stream",
     "text": [
      "\n",
      "(evaluate) %if ['if', 'the', 'ethereum', 'price', 'is', 'less', 'than', '2', '0', 'then', 'turn', 'the', 'living', 'room', 'light', 'on'] -> ['%condition', '%action']\n"
     ]
    },
    {
     "data": {
      "image/png": "[encoded data removed]",
      "text/plain": [
       "<matplotlib.figure.Figure at 0x113f19128>"
      ]
     },
     "metadata": {},
     "output_type": "display_data"
    },
    {
     "name": "stdout",
     "output_type": "stream",
     "text": [
      "\n",
      "(evaluate) %condition ['the', 'ethereum', 'price', 'is', 'less', 'than', '2', '0'] -> ['%getPrice', '$operator', '$number']\n"
     ]
    },
    {
     "data": {
      "image/png": "[encoded data removed]",
      "text/plain": [
       "<matplotlib.figure.Figure at 0x1172e75c0>"
      ]
     },
     "metadata": {},
     "output_type": "display_data"
    },
    {
     "name": "stdout",
     "output_type": "stream",
     "text": [
      "\n",
      "(evaluate) %getPrice ['the', 'ethereum', 'price'] -> ['$asset']\n"
     ]
    },
    {
     "data": {
      "image/png": "[encoded data removed]",
      "text/plain": [
       "<matplotlib.figure.Figure at 0x10edd8eb8>"
      ]
     },
     "metadata": {},
     "output_type": "display_data"
    },
    {
     "name": "stdout",
     "output_type": "stream",
     "text": [
      "\n",
      "(evaluate) %action ['turn', 'the', 'living', 'room', 'light', 'on'] -> ['%setLightState']\n"
     ]
    },
    {
     "data": {
      "image/png": "[encoded data removed]",
      "text/plain": [
       "<matplotlib.figure.Figure at 0x1173635f8>"
      ]
     },
     "metadata": {},
     "output_type": "display_data"
    },
    {
     "name": "stdout",
     "output_type": "stream",
     "text": [
      "\n",
      "(evaluate) %setLightState ['turn', 'the', 'living', 'room', 'light', 'on'] -> ['$light', '$on_off']\n"
     ]
    },
    {
     "data": {
      "image/png": "[encoded data removed]",
      "text/plain": [
       "<matplotlib.figure.Figure at 0x1172b4f60>"
      ]
     },
     "metadata": {},
     "output_type": "display_data"
    },
    {
     "name": "stdout",
     "output_type": "stream",
     "text": [
      "hey maia if the ethereum price is less than 2 0 then turn the living room light on\n",
      "( parsed\n",
      "    ( %if\n",
      "        ( %condition\n",
      "            ( %getPrice\n",
      "                ( $asset ethereum ) )\n",
      "            ( $operator less than )\n",
      "            ( $number 2 0 ) )\n",
      "        ( %action\n",
      "            ( %setLightState\n",
      "                ( $light living room light )\n",
      "                ( $on_off on ) ) ) ) )\n"
     ]
    }
   ],
   "source": [
    "evaluate_and_print('%', \"hey maia if the ethereum price is less than 2 0 then turn the living room light on\".split(' '))"
   ]
  },
  {
   "cell_type": "code",
   "execution_count": 26,
   "metadata": {
    "collapsed": false,
    "scrolled": false
   },
   "outputs": [
    {
     "name": "stdout",
     "output_type": "stream",
     "text": [
      "\n",
      "(evaluate) % ['hey', 'maia', \"what's\", 'the', 'ethereum', 'price'] -> ['%action']\n"
     ]
    },
    {
     "data": {
      "image/png": "[encoded data removed]",
      "text/plain": [
       "<matplotlib.figure.Figure at 0x113ffc160>"
      ]
     },
     "metadata": {},
     "output_type": "display_data"
    },
    {
     "name": "stdout",
     "output_type": "stream",
     "text": [
      "\n",
      "(evaluate) %action [\"what's\", 'the', 'ethereum', 'price'] -> ['%getPrice']\n"
     ]
    },
    {
     "data": {
      "image/png": "[encoded data removed]",
      "text/plain": [
       "<matplotlib.figure.Figure at 0x11694e3c8>"
      ]
     },
     "metadata": {},
     "output_type": "display_data"
    },
    {
     "name": "stdout",
     "output_type": "stream",
     "text": [
      "\n",
      "(evaluate) %getPrice ['ethereum', 'price'] -> ['$asset']\n"
     ]
    },
    {
     "data": {
      "image/png": "[encoded data removed]",
      "text/plain": [
       "<matplotlib.figure.Figure at 0x11698be10>"
      ]
     },
     "metadata": {},
     "output_type": "display_data"
    },
    {
     "name": "stdout",
     "output_type": "stream",
     "text": [
      "hey maia what's the ethereum price\n",
      "( parsed\n",
      "    ( %action\n",
      "        ( %getPrice\n",
      "            ( $asset ethereum ) ) ) )\n"
     ]
    }
   ],
   "source": [
    "evaluate_and_print('%', \"hey maia what's the ethereum price\".split(' '))"
   ]
  },
  {
   "cell_type": "code",
   "execution_count": 27,
   "metadata": {
    "collapsed": false,
    "scrolled": false
   },
   "outputs": [
    {
     "name": "stdout",
     "output_type": "stream",
     "text": [
      "\n",
      "(evaluate) % ['hey', 'maia', 'play', 'some', 'Skrillex', 'please', 'and', 'then', 'turn', 'the', 'office', 'light', 'off'] -> ['%sequence']\n"
     ]
    },
    {
     "data": {
      "image/png": "[encoded data removed]",
      "text/plain": [
       "<matplotlib.figure.Figure at 0x102497080>"
      ]
     },
     "metadata": {},
     "output_type": "display_data"
    },
    {
     "name": "stdout",
     "output_type": "stream",
     "text": [
      "\n",
      "(evaluate) %sequence ['play', 'some', 'Skrillex', 'please', 'and', 'then', 'turn', 'the', 'office', 'light', 'off'] -> ['%action', '%action', '%action']\n"
     ]
    },
    {
     "data": {
      "image/png": "[encoded data removed]",
      "text/plain": [
       "<matplotlib.figure.Figure at 0x113dc3898>"
      ]
     },
     "metadata": {},
     "output_type": "display_data"
    },
    {
     "name": "stdout",
     "output_type": "stream",
     "text": [
      "\n",
      "(evaluate) %action ['play', 'some', 'Skrillex', 'please'] -> ['%playMusic']\n"
     ]
    },
    {
     "data": {
      "image/png": "[encoded data removed]",
      "text/plain": [
       "<matplotlib.figure.Figure at 0x11695d860>"
      ]
     },
     "metadata": {},
     "output_type": "display_data"
    },
    {
     "name": "stdout",
     "output_type": "stream",
     "text": [
      "\n",
      "(evaluate) %playMusic ['play', 'some', 'Skrillex', 'please'] -> ['$artist']\n"
     ]
    },
    {
     "data": {
      "image/png": "[encoded data removed]",
      "text/plain": [
       "<matplotlib.figure.Figure at 0x113f80f60>"
      ]
     },
     "metadata": {},
     "output_type": "display_data"
    },
    {
     "name": "stdout",
     "output_type": "stream",
     "text": [
      "\n",
      "(evaluate) %action ['turn', 'the', 'office', 'light', 'off'] -> ['%setLightState']\n"
     ]
    },
    {
     "data": {
      "image/png": "[encoded data removed]",
      "text/plain": [
       "<matplotlib.figure.Figure at 0x113a93128>"
      ]
     },
     "metadata": {},
     "output_type": "display_data"
    },
    {
     "name": "stdout",
     "output_type": "stream",
     "text": [
      "\n",
      "(evaluate) %setLightState ['turn', 'the', 'office', 'light', 'off'] -> ['$light', '$on_off']\n"
     ]
    },
    {
     "data": {
      "image/png": "[encoded data removed]",
      "text/plain": [
       "<matplotlib.figure.Figure at 0x113a8fac8>"
      ]
     },
     "metadata": {},
     "output_type": "display_data"
    },
    {
     "ename": "ValueError",
     "evalue": "result of slicing is an empty tensor",
     "output_type": "error",
     "traceback": [
      "\u001b[0;31m---------------------------------------------------------------------------\u001b[0m",
      "\u001b[0;31mValueError\u001b[0m                                Traceback (most recent call last)",
      "\u001b[0;32m<ipython-input-27-4cba3ca87341>\u001b[0m in \u001b[0;36m<module>\u001b[0;34m()\u001b[0m\n\u001b[0;32m----> 1\u001b[0;31m \u001b[0mevaluate_and_print\u001b[0m\u001b[0;34m(\u001b[0m\u001b[0;34m'%'\u001b[0m\u001b[0;34m,\u001b[0m \u001b[0;34m\"hey maia play some Skrillex please and then turn the office light off\"\u001b[0m\u001b[0;34m.\u001b[0m\u001b[0msplit\u001b[0m\u001b[0;34m(\u001b[0m\u001b[0;34m' '\u001b[0m\u001b[0;34m)\u001b[0m\u001b[0;34m)\u001b[0m\u001b[0;34m\u001b[0m\u001b[0m\n\u001b[0m",
      "\u001b[0;32m<ipython-input-23-38bcfc6767e1>\u001b[0m in \u001b[0;36mevaluate_and_print\u001b[0;34m(context, inputs)\u001b[0m\n\u001b[1;32m      1\u001b[0m \u001b[0;32mdef\u001b[0m \u001b[0mevaluate_and_print\u001b[0m\u001b[0;34m(\u001b[0m\u001b[0mcontext\u001b[0m\u001b[0;34m,\u001b[0m \u001b[0minputs\u001b[0m\u001b[0;34m)\u001b[0m\u001b[0;34m:\u001b[0m\u001b[0;34m\u001b[0m\u001b[0m\n\u001b[0;32m----> 2\u001b[0;31m     \u001b[0mevaluated\u001b[0m \u001b[0;34m=\u001b[0m \u001b[0mevaluate\u001b[0m\u001b[0;34m(\u001b[0m\u001b[0mcontext\u001b[0m\u001b[0;34m,\u001b[0m \u001b[0minputs\u001b[0m\u001b[0;34m)\u001b[0m\u001b[0;34m\u001b[0m\u001b[0m\n\u001b[0m\u001b[1;32m      3\u001b[0m     \u001b[0mprint\u001b[0m\u001b[0;34m(\u001b[0m\u001b[0;34m' '\u001b[0m\u001b[0;34m.\u001b[0m\u001b[0mjoin\u001b[0m\u001b[0;34m(\u001b[0m\u001b[0minputs\u001b[0m\u001b[0;34m)\u001b[0m\u001b[0;34m)\u001b[0m\u001b[0;34m\u001b[0m\u001b[0m\n\u001b[1;32m      4\u001b[0m     \u001b[0mprint\u001b[0m\u001b[0;34m(\u001b[0m\u001b[0mevaluated\u001b[0m\u001b[0;34m)\u001b[0m\u001b[0;34m\u001b[0m\u001b[0m\n",
      "\u001b[0;32m<ipython-input-22-713c02cce534>\u001b[0m in \u001b[0;36mevaluate\u001b[0;34m(context, inputs, node)\u001b[0m\n\u001b[1;32m     47\u001b[0m         \u001b[0;31m# Recursively evaluate sub-phrases\u001b[0m\u001b[0;34m\u001b[0m\u001b[0;34m\u001b[0m\u001b[0m\n\u001b[1;32m     48\u001b[0m         \u001b[0;32mif\u001b[0m \u001b[0mcontext\u001b[0m\u001b[0;34m[\u001b[0m\u001b[0;36m0\u001b[0m\u001b[0;34m]\u001b[0m \u001b[0;34m==\u001b[0m \u001b[0;34m'%'\u001b[0m\u001b[0;34m:\u001b[0m\u001b[0;34m\u001b[0m\u001b[0m\n\u001b[0;32m---> 49\u001b[0;31m             \u001b[0mevaluate\u001b[0m\u001b[0;34m(\u001b[0m\u001b[0mcontext\u001b[0m\u001b[0;34m,\u001b[0m \u001b[0minputs\u001b[0m\u001b[0;34m,\u001b[0m \u001b[0msub_node\u001b[0m\u001b[0;34m)\u001b[0m\u001b[0;34m\u001b[0m\u001b[0m\n\u001b[0m\u001b[1;32m     50\u001b[0m \u001b[0;34m\u001b[0m\u001b[0m\n\u001b[1;32m     51\u001b[0m         \u001b[0;31m# Or add words directly to value node\u001b[0m\u001b[0;34m\u001b[0m\u001b[0;34m\u001b[0m\u001b[0m\n",
      "\u001b[0;32m<ipython-input-22-713c02cce534>\u001b[0m in \u001b[0;36mevaluate\u001b[0;34m(context, inputs, node)\u001b[0m\n\u001b[1;32m     47\u001b[0m         \u001b[0;31m# Recursively evaluate sub-phrases\u001b[0m\u001b[0;34m\u001b[0m\u001b[0;34m\u001b[0m\u001b[0m\n\u001b[1;32m     48\u001b[0m         \u001b[0;32mif\u001b[0m \u001b[0mcontext\u001b[0m\u001b[0;34m[\u001b[0m\u001b[0;36m0\u001b[0m\u001b[0;34m]\u001b[0m \u001b[0;34m==\u001b[0m \u001b[0;34m'%'\u001b[0m\u001b[0;34m:\u001b[0m\u001b[0;34m\u001b[0m\u001b[0m\n\u001b[0;32m---> 49\u001b[0;31m             \u001b[0mevaluate\u001b[0m\u001b[0;34m(\u001b[0m\u001b[0mcontext\u001b[0m\u001b[0;34m,\u001b[0m \u001b[0minputs\u001b[0m\u001b[0;34m,\u001b[0m \u001b[0msub_node\u001b[0m\u001b[0;34m)\u001b[0m\u001b[0;34m\u001b[0m\u001b[0m\n\u001b[0m\u001b[1;32m     50\u001b[0m \u001b[0;34m\u001b[0m\u001b[0m\n\u001b[1;32m     51\u001b[0m         \u001b[0;31m# Or add words directly to value node\u001b[0m\u001b[0;34m\u001b[0m\u001b[0;34m\u001b[0m\u001b[0m\n",
      "\u001b[0;32m<ipython-input-22-713c02cce534>\u001b[0m in \u001b[0;36mevaluate\u001b[0;34m(context, inputs, node)\u001b[0m\n\u001b[1;32m     10\u001b[0m \u001b[0;34m\u001b[0m\u001b[0m\n\u001b[1;32m     11\u001b[0m     \u001b[0;31m# Run through RARNN\u001b[0m\u001b[0;34m\u001b[0m\u001b[0;34m\u001b[0m\u001b[0m\n\u001b[0;32m---> 12\u001b[0;31m     \u001b[0mdecoder_outputs\u001b[0m\u001b[0;34m,\u001b[0m \u001b[0mpointer_outputs\u001b[0m \u001b[0;34m=\u001b[0m \u001b[0mrarnn\u001b[0m\u001b[0;34m(\u001b[0m\u001b[0mcontext_var\u001b[0m\u001b[0;34m,\u001b[0m \u001b[0minputs_var\u001b[0m\u001b[0;34m)\u001b[0m\u001b[0;34m\u001b[0m\u001b[0m\n\u001b[0m\u001b[1;32m     13\u001b[0m \u001b[0;34m\u001b[0m\u001b[0m\n\u001b[1;32m     14\u001b[0m     \u001b[0;31m# Given the decoder and pointer outputs, gather contexts and inputs for sub-phrases\u001b[0m\u001b[0;34m\u001b[0m\u001b[0;34m\u001b[0m\u001b[0m\n",
      "\u001b[0;32m/Users/sean/anaconda3/lib/python3.5/site-packages/torch/nn/modules/module.py\u001b[0m in \u001b[0;36m__call__\u001b[0;34m(self, *input, **kwargs)\u001b[0m\n\u001b[1;32m    204\u001b[0m \u001b[0;34m\u001b[0m\u001b[0m\n\u001b[1;32m    205\u001b[0m     \u001b[0;32mdef\u001b[0m \u001b[0m__call__\u001b[0m\u001b[0;34m(\u001b[0m\u001b[0mself\u001b[0m\u001b[0;34m,\u001b[0m \u001b[0;34m*\u001b[0m\u001b[0minput\u001b[0m\u001b[0;34m,\u001b[0m \u001b[0;34m**\u001b[0m\u001b[0mkwargs\u001b[0m\u001b[0;34m)\u001b[0m\u001b[0;34m:\u001b[0m\u001b[0;34m\u001b[0m\u001b[0m\n\u001b[0;32m--> 206\u001b[0;31m         \u001b[0mresult\u001b[0m \u001b[0;34m=\u001b[0m \u001b[0mself\u001b[0m\u001b[0;34m.\u001b[0m\u001b[0mforward\u001b[0m\u001b[0;34m(\u001b[0m\u001b[0;34m*\u001b[0m\u001b[0minput\u001b[0m\u001b[0;34m,\u001b[0m \u001b[0;34m**\u001b[0m\u001b[0mkwargs\u001b[0m\u001b[0;34m)\u001b[0m\u001b[0;34m\u001b[0m\u001b[0m\n\u001b[0m\u001b[1;32m    207\u001b[0m         \u001b[0;32mfor\u001b[0m \u001b[0mhook\u001b[0m \u001b[0;32min\u001b[0m \u001b[0mself\u001b[0m\u001b[0;34m.\u001b[0m\u001b[0m_forward_hooks\u001b[0m\u001b[0;34m.\u001b[0m\u001b[0mvalues\u001b[0m\u001b[0;34m(\u001b[0m\u001b[0;34m)\u001b[0m\u001b[0;34m:\u001b[0m\u001b[0;34m\u001b[0m\u001b[0m\n\u001b[1;32m    208\u001b[0m             \u001b[0mhook_result\u001b[0m \u001b[0;34m=\u001b[0m \u001b[0mhook\u001b[0m\u001b[0;34m(\u001b[0m\u001b[0mself\u001b[0m\u001b[0;34m,\u001b[0m \u001b[0minput\u001b[0m\u001b[0;34m,\u001b[0m \u001b[0mresult\u001b[0m\u001b[0;34m)\u001b[0m\u001b[0;34m\u001b[0m\u001b[0m\n",
      "\u001b[0;32m<ipython-input-18-e1ecfd95e89b>\u001b[0m in \u001b[0;36mforward\u001b[0;34m(self, context_input, word_inputs, word_targets)\u001b[0m\n\u001b[1;32m     66\u001b[0m         \u001b[0;31m# Slice outputs\u001b[0m\u001b[0;34m\u001b[0m\u001b[0;34m\u001b[0m\u001b[0m\n\u001b[1;32m     67\u001b[0m         \u001b[0;32mif\u001b[0m \u001b[0mword_targets\u001b[0m \u001b[0;32mis\u001b[0m \u001b[0;32mNone\u001b[0m\u001b[0;34m:\u001b[0m\u001b[0;34m\u001b[0m\u001b[0m\n\u001b[0;32m---> 68\u001b[0;31m             \u001b[0mdecoder_outputs\u001b[0m \u001b[0;34m=\u001b[0m \u001b[0mdecoder_outputs\u001b[0m\u001b[0;34m[\u001b[0m\u001b[0;34m:\u001b[0m\u001b[0mi\u001b[0m\u001b[0;34m]\u001b[0m\u001b[0;34m\u001b[0m\u001b[0m\n\u001b[0m\u001b[1;32m     69\u001b[0m             \u001b[0mpointer_outputs\u001b[0m \u001b[0;34m=\u001b[0m \u001b[0mpointer_outputs\u001b[0m\u001b[0;34m[\u001b[0m\u001b[0;34m:\u001b[0m\u001b[0mi\u001b[0m\u001b[0;34m]\u001b[0m\u001b[0;34m\u001b[0m\u001b[0m\n\u001b[1;32m     70\u001b[0m \u001b[0;34m\u001b[0m\u001b[0m\n",
      "\u001b[0;32m/Users/sean/anaconda3/lib/python3.5/site-packages/torch/autograd/variable.py\u001b[0m in \u001b[0;36m__getitem__\u001b[0;34m(self, key)\u001b[0m\n\u001b[1;32m     67\u001b[0m                 type(key.data).__name__ == 'ByteTensor'):\n\u001b[1;32m     68\u001b[0m             \u001b[0;32mreturn\u001b[0m \u001b[0mMaskedSelect\u001b[0m\u001b[0;34m(\u001b[0m\u001b[0;34m)\u001b[0m\u001b[0;34m(\u001b[0m\u001b[0mself\u001b[0m\u001b[0;34m,\u001b[0m \u001b[0mkey\u001b[0m\u001b[0;34m)\u001b[0m\u001b[0;34m\u001b[0m\u001b[0m\n\u001b[0;32m---> 69\u001b[0;31m         \u001b[0;32mreturn\u001b[0m \u001b[0mIndex\u001b[0m\u001b[0;34m(\u001b[0m\u001b[0mkey\u001b[0m\u001b[0;34m)\u001b[0m\u001b[0;34m(\u001b[0m\u001b[0mself\u001b[0m\u001b[0;34m)\u001b[0m\u001b[0;34m\u001b[0m\u001b[0m\n\u001b[0m\u001b[1;32m     70\u001b[0m \u001b[0;34m\u001b[0m\u001b[0m\n\u001b[1;32m     71\u001b[0m     \u001b[0;32mdef\u001b[0m \u001b[0m__setitem__\u001b[0m\u001b[0;34m(\u001b[0m\u001b[0mself\u001b[0m\u001b[0;34m,\u001b[0m \u001b[0mkey\u001b[0m\u001b[0;34m,\u001b[0m \u001b[0mvalue\u001b[0m\u001b[0;34m)\u001b[0m\u001b[0;34m:\u001b[0m\u001b[0;34m\u001b[0m\u001b[0m\n",
      "\u001b[0;32m/Users/sean/anaconda3/lib/python3.5/site-packages/torch/autograd/_functions/tensor.py\u001b[0m in \u001b[0;36mforward\u001b[0;34m(self, i)\u001b[0m\n\u001b[1;32m     14\u001b[0m     \u001b[0;32mdef\u001b[0m \u001b[0mforward\u001b[0m\u001b[0;34m(\u001b[0m\u001b[0mself\u001b[0m\u001b[0;34m,\u001b[0m \u001b[0mi\u001b[0m\u001b[0;34m)\u001b[0m\u001b[0;34m:\u001b[0m\u001b[0;34m\u001b[0m\u001b[0m\n\u001b[1;32m     15\u001b[0m         \u001b[0mself\u001b[0m\u001b[0;34m.\u001b[0m\u001b[0minput_size\u001b[0m \u001b[0;34m=\u001b[0m \u001b[0mi\u001b[0m\u001b[0;34m.\u001b[0m\u001b[0msize\u001b[0m\u001b[0;34m(\u001b[0m\u001b[0;34m)\u001b[0m\u001b[0;34m\u001b[0m\u001b[0m\n\u001b[0;32m---> 16\u001b[0;31m         \u001b[0mresult\u001b[0m \u001b[0;34m=\u001b[0m \u001b[0mi\u001b[0m\u001b[0;34m.\u001b[0m\u001b[0mindex\u001b[0m\u001b[0;34m(\u001b[0m\u001b[0mself\u001b[0m\u001b[0;34m.\u001b[0m\u001b[0mindex\u001b[0m\u001b[0;34m)\u001b[0m\u001b[0;34m\u001b[0m\u001b[0m\n\u001b[0m\u001b[1;32m     17\u001b[0m         \u001b[0mself\u001b[0m\u001b[0;34m.\u001b[0m\u001b[0mmark_shared_storage\u001b[0m\u001b[0;34m(\u001b[0m\u001b[0;34m(\u001b[0m\u001b[0mi\u001b[0m\u001b[0;34m,\u001b[0m \u001b[0mresult\u001b[0m\u001b[0;34m)\u001b[0m\u001b[0;34m)\u001b[0m\u001b[0;34m\u001b[0m\u001b[0m\n\u001b[1;32m     18\u001b[0m         \u001b[0;32mreturn\u001b[0m \u001b[0mresult\u001b[0m\u001b[0;34m\u001b[0m\u001b[0m\n",
      "\u001b[0;31mValueError\u001b[0m: result of slicing is an empty tensor"
     ]
    }
   ],
   "source": [
    "evaluate_and_print('%', \"hey maia play some Skrillex please and then turn the office light off\".split(' '))"
   ]
  },
  {
   "cell_type": "code",
   "execution_count": 28,
   "metadata": {
    "collapsed": false,
    "scrolled": false
   },
   "outputs": [
    {
     "name": "stdout",
     "output_type": "stream",
     "text": [
      "\n",
      "(evaluate) % ['turn', 'the', 'office', 'light', 'up', 'and', 'also', 'could', 'you', 'please', 'turn', 'off', 'the', 'living', 'room', 'light', 'and', 'make', 'the', 'temperature', 'of', 'the', 'bedroom', 'to', '6', 'thank', 'you', 'maia'] -> ['%sequence']\n"
     ]
    },
    {
     "data": {
      "image/png": "[encoded data removed]",
      "text/plain": [
       "<matplotlib.figure.Figure at 0x116928d68>"
      ]
     },
     "metadata": {},
     "output_type": "display_data"
    },
    {
     "name": "stdout",
     "output_type": "stream",
     "text": [
      "\n",
      "(evaluate) %sequence ['turn', 'the', 'office', 'light', 'up', 'and', 'also', 'could', 'you', 'please', 'turn', 'off', 'the', 'living', 'room', 'light', 'and', 'make', 'the', 'temperature', 'of', 'the', 'bedroom', 'to', '6'] -> ['%action', '%action', '%action']\n"
     ]
    },
    {
     "data": {
      "image/png": "[encoded data removed]",
      "text/plain": [
       "<matplotlib.figure.Figure at 0x113d9c8d0>"
      ]
     },
     "metadata": {},
     "output_type": "display_data"
    },
    {
     "name": "stdout",
     "output_type": "stream",
     "text": [
      "\n",
      "(evaluate) %action ['turn', 'the', 'office', 'light', 'up'] -> ['%setLightState']\n"
     ]
    },
    {
     "data": {
      "image/png": "[encoded data removed]",
      "text/plain": [
       "<matplotlib.figure.Figure at 0x1173328d0>"
      ]
     },
     "metadata": {},
     "output_type": "display_data"
    },
    {
     "name": "stdout",
     "output_type": "stream",
     "text": [
      "\n",
      "(evaluate) %setLightState ['turn', 'the', 'office', 'light', 'up'] -> ['$light', '$up_down']\n"
     ]
    },
    {
     "data": {
      "image/png": "[encoded data removed]",
      "text/plain": [
       "<matplotlib.figure.Figure at 0x11a80e5c0>"
      ]
     },
     "metadata": {},
     "output_type": "display_data"
    },
    {
     "name": "stdout",
     "output_type": "stream",
     "text": [
      "\n",
      "(evaluate) %action ['turn', 'off', 'the', 'living', 'room', 'light'] -> ['%setLightState']\n"
     ]
    },
    {
     "data": {
      "image/png": "[encoded data removed]",
      "text/plain": [
       "<matplotlib.figure.Figure at 0x11a8524e0>"
      ]
     },
     "metadata": {},
     "output_type": "display_data"
    },
    {
     "name": "stdout",
     "output_type": "stream",
     "text": [
      "\n",
      "(evaluate) %setLightState ['turn', 'off', 'the', 'living', 'room', 'light'] -> ['$on_off', '$light']\n"
     ]
    },
    {
     "data": {
      "image/png": "[encoded data removed]",
      "text/plain": [
       "<matplotlib.figure.Figure at 0x113ff0710>"
      ]
     },
     "metadata": {},
     "output_type": "display_data"
    },
    {
     "name": "stdout",
     "output_type": "stream",
     "text": [
      "\n",
      "(evaluate) %action ['make', 'the', 'temperature', 'of', 'the', 'bedroom', 'to', '6'] -> ['%setTemperature']\n"
     ]
    },
    {
     "data": {
      "image/png": "[encoded data removed]",
      "text/plain": [
       "<matplotlib.figure.Figure at 0x113f49d68>"
      ]
     },
     "metadata": {},
     "output_type": "display_data"
    },
    {
     "name": "stdout",
     "output_type": "stream",
     "text": [
      "\n",
      "(evaluate) %setTemperature ['make', 'the', 'temperature', 'of', 'the', 'bedroom', 'to', '6'] -> ['$room', '$number']\n"
     ]
    },
    {
     "data": {
      "image/png": "[encoded data removed]",
      "text/plain": [
       "<matplotlib.figure.Figure at 0x11a85e400>"
      ]
     },
     "metadata": {},
     "output_type": "display_data"
    },
    {
     "name": "stdout",
     "output_type": "stream",
     "text": [
      "turn the office light up and also could you please turn off the living room light and make the temperature of the bedroom to 6 thank you maia\n",
      "( parsed\n",
      "    ( %sequence\n",
      "        ( %action\n",
      "            ( %setLightState\n",
      "                ( $light office light )\n",
      "                ( $up_down up ) ) )\n",
      "        ( %action\n",
      "            ( %setLightState\n",
      "                ( $on_off off )\n",
      "                ( $light living room light ) ) )\n",
      "        ( %action\n",
      "            ( %setTemperature\n",
      "                ( $room bedroom )\n",
      "                ( $number 6 ) ) ) ) )\n"
     ]
    }
   ],
   "source": [
    "evaluate_and_print('%', \"turn the office light up and also could you please turn off the living room light and make the temperature of the bedroom to 6 thank you maia\".split(' '))"
   ]
  },
  {
   "cell_type": "code",
   "execution_count": 29,
   "metadata": {
    "collapsed": false
   },
   "outputs": [
    {
     "name": "stdout",
     "output_type": "stream",
     "text": [
      "\n",
      "(evaluate) % ['turn', 'the', 'living', 'room', 'light', 'off', 'and', 'turn', 'the', 'bedroom', 'light', 'up', 'and', 'also', 'turn', 'the', 'volume', 'up'] -> ['%sequence']\n"
     ]
    },
    {
     "data": {
      "image/png": "[encoded data removed]",
      "text/plain": [
       "<matplotlib.figure.Figure at 0x10edd8278>"
      ]
     },
     "metadata": {},
     "output_type": "display_data"
    },
    {
     "name": "stdout",
     "output_type": "stream",
     "text": [
      "\n",
      "(evaluate) %sequence ['turn', 'the', 'living', 'room', 'light', 'off', 'and', 'turn', 'the', 'bedroom', 'light', 'up', 'and', 'also', 'turn', 'the', 'volume', 'up'] -> ['%action', '%action', '%action']\n"
     ]
    },
    {
     "data": {
      "image/png": "[encoded data removed]",
      "text/plain": [
       "<matplotlib.figure.Figure at 0x113f455c0>"
      ]
     },
     "metadata": {},
     "output_type": "display_data"
    },
    {
     "name": "stdout",
     "output_type": "stream",
     "text": [
      "\n",
      "(evaluate) %action ['turn', 'the', 'living', 'room', 'light', 'off'] -> ['%setLightState']\n"
     ]
    },
    {
     "data": {
      "image/png": "[encoded data removed]",
      "text/plain": [
       "<matplotlib.figure.Figure at 0x118188e10>"
      ]
     },
     "metadata": {},
     "output_type": "display_data"
    },
    {
     "name": "stdout",
     "output_type": "stream",
     "text": [
      "\n",
      "(evaluate) %setLightState ['turn', 'the', 'living', 'room', 'light', 'off'] -> ['$light', '$on_off']\n"
     ]
    },
    {
     "data": {
      "image/png": "[encoded data removed]",
      "text/plain": [
       "<matplotlib.figure.Figure at 0x11a8a8b70>"
      ]
     },
     "metadata": {},
     "output_type": "display_data"
    },
    {
     "name": "stdout",
     "output_type": "stream",
     "text": [
      "\n",
      "(evaluate) %action ['turn', 'the', 'bedroom', 'light', 'up'] -> ['%setLightState']\n"
     ]
    },
    {
     "data": {
      "image/png": "[encoded data removed]",
      "text/plain": [
       "<matplotlib.figure.Figure at 0x11a864080>"
      ]
     },
     "metadata": {},
     "output_type": "display_data"
    },
    {
     "name": "stdout",
     "output_type": "stream",
     "text": [
      "\n",
      "(evaluate) %setLightState ['turn', 'the', 'bedroom', 'light', 'up'] -> ['$light', '$up_down']\n"
     ]
    },
    {
     "data": {
      "image/png": "[encoded data removed]",
      "text/plain": [
       "<matplotlib.figure.Figure at 0x113faf588>"
      ]
     },
     "metadata": {},
     "output_type": "display_data"
    },
    {
     "name": "stdout",
     "output_type": "stream",
     "text": [
      "\n",
      "(evaluate) %action ['turn', 'the', 'volume', 'up'] -> ['%setVolume']\n"
     ]
    },
    {
     "data": {
      "image/png": "[encoded data removed]",
      "text/plain": [
       "<matplotlib.figure.Figure at 0x118190e10>"
      ]
     },
     "metadata": {},
     "output_type": "display_data"
    },
    {
     "name": "stdout",
     "output_type": "stream",
     "text": [
      "\n",
      "(evaluate) %setVolume ['turn', 'the', 'volume', 'up'] -> ['$up_down']\n"
     ]
    },
    {
     "data": {
      "image/png": "[encoded data removed]",
      "text/plain": [
       "<matplotlib.figure.Figure at 0x1140e70b8>"
      ]
     },
     "metadata": {},
     "output_type": "display_data"
    },
    {
     "name": "stdout",
     "output_type": "stream",
     "text": [
      "turn the living room light off and turn the bedroom light up and also turn the volume up\n",
      "( parsed\n",
      "    ( %sequence\n",
      "        ( %action\n",
      "            ( %setLightState\n",
      "                ( $light living room light )\n",
      "                ( $on_off off ) ) )\n",
      "        ( %action\n",
      "            ( %setLightState\n",
      "                ( $light bedroom light )\n",
      "                ( $up_down up ) ) )\n",
      "        ( %action\n",
      "            ( %setVolume\n",
      "                ( $up_down up ) ) ) ) )\n"
     ]
    }
   ],
   "source": [
    "evaluate_and_print('%', \"turn the living room light off and turn the bedroom light up and also turn the volume up\".split(' '))"
   ]
  },
  {
   "cell_type": "code",
   "execution_count": null,
   "metadata": {
    "collapsed": true
   },
   "outputs": [],
   "source": []
  }
 ],
 "metadata": {
  "anaconda-cloud": {},
  "kernelspec": {
   "display_name": "Python [conda root]",
   "language": "python",
   "name": "conda-root-py"
  },
  "language_info": {
   "codemirror_mode": {
    "name": "ipython",
    "version": 3
   },
   "file_extension": ".py",
   "mimetype": "text/x-python",
   "name": "python",
   "nbconvert_exporter": "python",
   "pygments_lexer": "ipython3",
   "version": "3.5.2"
  }
 },
 "nbformat": 4,
 "nbformat_minor": 1
}
