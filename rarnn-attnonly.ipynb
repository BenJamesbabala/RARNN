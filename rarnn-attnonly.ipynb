{
 "cells": [
  {
   "cell_type": "code",
   "execution_count": 1,
   "metadata": {
    "collapsed": false
   },
   "outputs": [
    {
     "name": "stdout",
     "output_type": "stream",
     "text": [
      "Populating the interactive namespace from numpy and matplotlib\n"
     ]
    }
   ],
   "source": [
    "%pylab inline"
   ]
  },
  {
   "cell_type": "code",
   "execution_count": 2,
   "metadata": {
    "collapsed": true
   },
   "outputs": [],
   "source": [
    "import torch\n",
    "import torch.nn as nn\n",
    "import torch.nn.functional as F\n",
    "from torch.autograd import Variable\n",
    "\n",
    "USE_CUDA = False"
   ]
  },
  {
   "cell_type": "code",
   "execution_count": 3,
   "metadata": {
    "collapsed": false
   },
   "outputs": [],
   "source": [
    "from nalgene.generate import *\n",
    "\n",
    "parsed = parse_file('.', 'grammar.nlg')\n",
    "parsed.map_leaves(tokenizeLeaf)"
   ]
  },
  {
   "cell_type": "code",
   "execution_count": 4,
   "metadata": {
    "collapsed": true
   },
   "outputs": [],
   "source": [
    "def descend(node, fn, child_type='phrase', returns=None):\n",
    "    if returns is None: returns = []\n",
    "    returned = fn(node)\n",
    "    returns.append(returned)\n",
    "\n",
    "    for child in node.children:\n",
    "        if (child_type is None) or (child.type == child_type):\n",
    "            descend(child, fn, child_type, returns)\n",
    "    \n",
    "    return returns"
   ]
  },
  {
   "cell_type": "code",
   "execution_count": 5,
   "metadata": {
    "collapsed": false
   },
   "outputs": [],
   "source": [
    "def ascend(node, fn):\n",
    "    if node.parent is None:\n",
    "        return fn(node)\n",
    "    else:\n",
    "        return ascend(node.parent, fn)"
   ]
  },
  {
   "cell_type": "markdown",
   "metadata": {},
   "source": [
    "## Building input and output vocabularies\n",
    "\n",
    "To find all input vocabulary tokens, we can traverse the parsed nalgene tree and copy all `word` type tokens.\n",
    "\n",
    "**TODO**: Use GloVe vectors for input vocabulary"
   ]
  },
  {
   "cell_type": "code",
   "execution_count": 6,
   "metadata": {
    "collapsed": false
   },
   "outputs": [
    {
     "name": "stdout",
     "output_type": "stream",
     "text": [
      "['EOS', 'Version', 'maia', 'Reha', 'by', 'Eyes', 'Jovi', 'Your', 'yellow', 'pm', 'song', 'much', 'Seki', 'Cepkin', 'tesla', 'Own', 'Baby', 'Girl', 'some', 'Army', 'Beirut', 'light', 'Pinhani', 'minutes', 'blue', 'I', 'Happy', 'Lion', 'Out', 'eth', 'red', 'Attack', 'pot', 'Japanese', 'make', 'seconds', 'Dry', 'bathroom', 'tell', 'at', 'then', 'volume', '7', 'Wet', 'Gimme', 'off', 'Have', 'Heroes', 'days', 'In', 'Be', 'very', '9', 'Somebody', 'Did', 'plx', 'Dogulu', 'could', 'to', 'For', 'btc', 'Believer', 'Cure', 'Day', 'Sezen', 'Sexbomb', 'green', 'Coldplay', 'Heights', 'Brown', 'Boys', 'Jay-Jay', 'Someday', 'when', 'Yakup', 'Lola', 'Full', 'Remixed', 'music', 'All', 'Maroon', 'Johanson', 'Sunset', 'Theme', 'From', 'down', 'Sebnem', 'Boogie', 'Tonight', 'in', 'Shut', '5', 'de', 'Can', 'me', 'A', 'Her', 'Iris', \"what's\", 'Sharona', 'Sleeps', 'Night', 'pls', 'So', 'Got', 'Shades', 'Under', 'Together', 'low', 'hello', 'thank', 'Mono', 'Elsiane', 'Edit', 'Nation', 'Town', 'Redhead', 'Really', 'Badem', 'ethereum', 'Gang', 'Every', 'Delight', 'Oasis', '4', 'Muse', 'Breathe', 'Seaside', 'is', 'Last', 'Melody', 'Blonde', 'Radio', 'tea', 'room', 'Way', 'With', 'Golden', 'oh', 'Thumb', 'Korn', 'To', 'Will', 'Nite', 'plate', 'Daydream', 'Skrillex', 'Diken', 'outside', 'Such', 'It', 'Paint', 'something', 'Is', 'Take', 'Bon', 'and', 'Shot', 'Duman', 'Great', 'Chelsea', 'a', 'The', 'Age', 'Darkness', 'Firestarter', 'please', 'hi', 'bitcoin', 'Voodoo', 'She', 'Pants', 'pretty', 'am', 'Black', 'if', 'Whitesnake', 'Isigin', 'purple', 'Kenan', 'Me', 'Back', 'Love', 'Seven', 'Ferah', 'Radiohead', 'Best', 'set', 'There', 'Omen', 'temperature', 'Of', 'uh', 'Athena', 'Time', 'Agua', 'Smack', 'Gathering', 'thx', 'up', ':', '0', 'Do', 'Breeze', 'kitchen', 'Rappers', 'Shit', 'switch', 'Human', 'Naive', 'Kurban', 'Afternoon', 'Had', 'Turning', 'When', 'Bitch', 'Malice', 'You', 'what', 'Cover', 'Peaches', 'Single', 'Sunny', 'change', 'Waterloo', 'Hate', 'also', 'Disposition', 'Apache', 'less', 'equal', 'Imbruglia', 'Shelter', 'Remaster', 'Summer', 'um', 'thanks', 'Furtado', 'you', 'Shout', 'Annique', 'hours', '6', 'Morrissey', 'Are', 'Soul', 'Album', 'greater', 'Dolapdere', 'On', 'Ufuk', 'orange', 'Heart', 'Yildirim', 'Up', 'Go', 'hey', 'microsoft', 'Feel', 'heya', 'hot', 'Know', 'as', 'Falay', 'Where', 'Nev', 'yen', 'Sympathy', 'Vega', 'Dream', 'Unchained', 'Funky', 'shit', 'than', 'Louie', 'from', 'And', 'Called', 'office', '1', '3', 'Stripes', 'Natalie', 'White', 'get', 'Valerie', 'living', 'of', 'Breath', 'yo', 'Told', 'Devil', 'Jailbreak', 'Massive', 'Pass', 'next', 'Jizz', 'Our', 'Call', 'Machine', 'price', 'People', 'Sweet', 'New', '8', 'Sex', 'bedroom', 'My', 'play', 'lhan', 'Were', 'Original', 'turn', 'Moves', 'basement', 'Nelly', 'Yansimasi', 'Young', 'Modern', 'high', 'Placebo', 'plox', 'Big', 'Many', 'Fit', 'Any', 'Let', 'Sesen', 'Hayko', 'Blame', 'Train', 'Introduction', 'soon', 'Say', 'state', 'Aerosmith', 'Dagger', 'the', 'Aksu', 'there', 'white', 'on', 'Space', 'pesos', 'Berlin', 'Just', 'Ceza', 'Goes', 'But', '2', 'coffee', 'Deniz', 'Delilah', 'Sheriff']\n"
     ]
    }
   ],
   "source": [
    "input_tokens = []\n",
    "\n",
    "def get_input_tokens(node):\n",
    "    if node.type == 'word':\n",
    "        input_tokens.append(node.key)\n",
    "\n",
    "descend(parsed, get_input_tokens, None)\n",
    "\n",
    "input_tokens = list(set(input_tokens))\n",
    "input_tokens = ['EOS'] + input_tokens\n",
    "print(input_tokens)"
   ]
  },
  {
   "cell_type": "markdown",
   "metadata": {},
   "source": [
    "For output tokens, we can just take the top level node names that are either phrases or variables."
   ]
  },
  {
   "cell_type": "code",
   "execution_count": 7,
   "metadata": {
    "collapsed": false
   },
   "outputs": [
    {
     "name": "stdout",
     "output_type": "stream",
     "text": [
      "['EOS', '%', '%if', '%timer', '%command', '%sequence', '%time', '%relative_time', '%absolute_time', '%condition', '%checkValue', '%getNumberValue', '%getValue', '%action', '%checkLightState', '%checkSwitchState', '%getLightState', '%getSwitchState', '%getTemperature', '%getPrice', '%setLightState', '%light_state', '%setSwitchState', '%setTemperature', '%setVolume', '%playMusic', '$operator', '$asset', '$room', '$light', '$switch', '$on_off', '$up_down', '$color', '$number', '$_number', '$time_unit', '$time', '$artist', '$song']\n"
     ]
    }
   ],
   "source": [
    "output_tokens = [child.key for child in parsed.children if child.type in ['phrase', 'variable']]\n",
    "output_tokens = ['EOS'] + output_tokens\n",
    "print(output_tokens)"
   ]
  },
  {
   "cell_type": "markdown",
   "metadata": {},
   "source": [
    "## Getting input and target data for nodes"
   ]
  },
  {
   "cell_type": "code",
   "execution_count": 8,
   "metadata": {
    "collapsed": true
   },
   "outputs": [],
   "source": [
    "def words_for_position(words, position):\n",
    "    if position is None:\n",
    "        return words\n",
    "    start, end, length = position\n",
    "    return words[start : end + 1]"
   ]
  },
  {
   "cell_type": "code",
   "execution_count": 9,
   "metadata": {
    "collapsed": false
   },
   "outputs": [],
   "source": [
    "def relative_position(node, parent):\n",
    "    if parent.position is None:\n",
    "        return node.position\n",
    "    return node.position[0] - parent.position[0], node.position[1] - parent.position[0], node.position[2]"
   ]
  },
  {
   "cell_type": "code",
   "execution_count": 10,
   "metadata": {
    "collapsed": false
   },
   "outputs": [],
   "source": [
    "def data_for_node(flat, node):\n",
    "    words = [child.key for child in flat.children]\n",
    "    inputs = words_for_position(words, node.position)\n",
    "    keys = [child.key for child in node.children]\n",
    "    positions = [relative_position(child, node) for child in node.children]\n",
    "    return node.key, inputs, list(zip(keys, positions))"
   ]
  },
  {
   "cell_type": "code",
   "execution_count": 11,
   "metadata": {
    "collapsed": false
   },
   "outputs": [
    {
     "data": {
      "text/plain": [
       "('%timer',\n",
       " ['set',\n",
       "  'the',\n",
       "  'volume',\n",
       "  'low',\n",
       "  'and',\n",
       "  'then',\n",
       "  'pls',\n",
       "  'change',\n",
       "  'the',\n",
       "  'volume',\n",
       "  'high',\n",
       "  'next',\n",
       "  'play',\n",
       "  'Fit',\n",
       "  'But',\n",
       "  'You',\n",
       "  'Know',\n",
       "  'It',\n",
       "  'and',\n",
       "  'could',\n",
       "  'you',\n",
       "  'also',\n",
       "  'plox',\n",
       "  'set',\n",
       "  'off',\n",
       "  'the',\n",
       "  'coffee',\n",
       "  'pot',\n",
       "  'at',\n",
       "  '5',\n",
       "  ':',\n",
       "  '1'],\n",
       " [('%sequence', (0, 27, 28)), ('%absolute_time', (28, 31, 4))])"
      ]
     },
     "execution_count": 11,
     "metadata": {},
     "output_type": "execute_result"
    }
   ],
   "source": [
    "walked_flat, walked_tree = walk_tree(parsed, parsed['%'], None)\n",
    "data_for_node(walked_flat, walked_tree.children[0])"
   ]
  },
  {
   "cell_type": "markdown",
   "metadata": {},
   "source": [
    "## Creating tensors for input and target data"
   ]
  },
  {
   "cell_type": "code",
   "execution_count": 12,
   "metadata": {
    "collapsed": true
   },
   "outputs": [],
   "source": [
    "def tokens_to_tensor(tokens, source_tokens, append_eos=True):\n",
    "    indexes = []\n",
    "    for token in tokens:\n",
    "        indexes.append(source_tokens.index(token))\n",
    "    if append_eos:\n",
    "        indexes.append(0)\n",
    "    return torch.LongTensor(indexes)"
   ]
  },
  {
   "cell_type": "code",
   "execution_count": 13,
   "metadata": {
    "collapsed": false
   },
   "outputs": [
    {
     "data": {
      "text/plain": [
       "\n",
       " 1  1  1  0  0\n",
       " 0  0  0  0  1\n",
       "[torch.FloatTensor of size 2x5]"
      ]
     },
     "execution_count": 13,
     "metadata": {},
     "output_type": "execute_result"
    }
   ],
   "source": [
    "def ranges_to_tensor(ranges, seq_len):\n",
    "    ranges_tensor = torch.zeros(len(ranges), seq_len)\n",
    "    for r in range(len(ranges)):\n",
    "        start, end, _ = ranges[r]\n",
    "        ranges_tensor[r, start:end+1] = 1\n",
    "    return ranges_tensor\n",
    "\n",
    "ranges_to_tensor([(0, 2, 3), (4, 4, 1)], 5)"
   ]
  },
  {
   "cell_type": "markdown",
   "metadata": {},
   "source": [
    "## Model\n",
    "\n",
    "The core model is a regular seq2seq/encoder-decoder model with attention. The attention model is from [Luong et al.'s \"Effective Approaches to Attention-based Neural Machine Translation\"](https://arxiv.org/abs/1508.04025) using dot-product based attention energies, with one important difference: there is no softmax layer, allowing attention to focus on multiple tokens at once. Instead a sigmoid layer is added to squeeze outputs between 0 and 1.\n",
    "\n",
    "The encoder and decoder take one additional input `context` which represents the type of phrase, e.g. `%setLightState`. At the top level node the context is always `%`.\n",
    "\n",
    "The encoder encodes the input sequence into a series of vectors using a bidirectional GRU. The decoder \"translates\" this into a sequence of phrase tokens, given the encoder outputs and current context, e.g. \"turn off the office light\" + `%setLightState` &rarr; `[$on_off, $light]`.\n",
    "\n",
    "Once the decoder has chosen tokens and alignments, the phrase tokens and selection of inputs are used as the context and inputs of the next iteration. This recurs until no more phrase tokens are found."
   ]
  },
  {
   "cell_type": "code",
   "execution_count": 14,
   "metadata": {
    "collapsed": true
   },
   "outputs": [],
   "source": [
    "class Encoder(nn.Module):\n",
    "    def __init__(self, input_size, hidden_size, n_layers=1):\n",
    "        super(Encoder, self).__init__()\n",
    "\n",
    "        self.input_size = input_size\n",
    "        self.hidden_size = hidden_size\n",
    "        self.n_layers = n_layers\n",
    "\n",
    "        self.embedding = nn.Embedding(input_size, hidden_size)\n",
    "        self.gru = nn.GRU(hidden_size, hidden_size, n_layers, bidirectional=True)\n",
    "\n",
    "    def forward(self, context_input, word_inputs):\n",
    "        # TODO: Incorporate context input\n",
    "        # TODO: Batching\n",
    "        \n",
    "        seq_len = word_inputs.size(0)\n",
    "        batch_size = word_inputs.size(1)\n",
    "        \n",
    "        embedded = self.embedding(word_inputs.view(seq_len * batch_size, -1)) # Process seq x batch at once\n",
    "        output = embedded.view(seq_len, batch_size, -1) # Resize back to seq x batch for RNN\n",
    "\n",
    "        outputs, hidden = self.gru(output)\n",
    "        outputs = outputs[:, :, :self.hidden_size] + outputs[:, : ,self.hidden_size:] # Sum bidirectional outputs\n",
    "\n",
    "        return outputs, hidden"
   ]
  },
  {
   "cell_type": "code",
   "execution_count": 15,
   "metadata": {
    "collapsed": false
   },
   "outputs": [],
   "source": [
    "class Attention(nn.Module):\n",
    "    def __init__(self):\n",
    "        super(Attention, self).__init__()\n",
    "\n",
    "    def forward(self, hidden, encoder_outputs):\n",
    "        seq_len = len(encoder_outputs)\n",
    "\n",
    "        # Create variable to store attention energies\n",
    "        attention_energies = Variable(torch.zeros(seq_len)) # B x 1 x S\n",
    "        if USE_CUDA: attention_energies = attention_energies.cuda()\n",
    "\n",
    "        # Calculate energies for each encoder output\n",
    "        for i in range(seq_len):\n",
    "            attention_energies[i] = hidden.dot(encoder_outputs[i])\n",
    "\n",
    "        # Squeeze to range 0 to 1, resize to 1 x 1 x seq_len\n",
    "        return F.sigmoid(attention_energies).unsqueeze(0).unsqueeze(0)"
   ]
  },
  {
   "cell_type": "code",
   "execution_count": 16,
   "metadata": {
    "collapsed": false
   },
   "outputs": [],
   "source": [
    "class Decoder(nn.Module):\n",
    "    def __init__(self, hidden_size, output_size, n_layers=1, dropout=0.05):\n",
    "        super(Decoder, self).__init__()\n",
    "        \n",
    "        # Keep parameters for reference\n",
    "        self.hidden_size = hidden_size\n",
    "        self.output_size = output_size\n",
    "        self.n_layers = n_layers\n",
    "        self.dropout = dropout\n",
    "        \n",
    "        # Define layers\n",
    "        self.embedding = nn.Embedding(output_size, hidden_size)\n",
    "        self.gru = nn.GRU(hidden_size * 2, hidden_size, n_layers, dropout=dropout)\n",
    "        self.out = nn.Linear(hidden_size * 2, output_size)\n",
    "        \n",
    "        # Attention module\n",
    "        self.attention = Attention()\n",
    "    \n",
    "    def forward(self, context_input, word_input, last_hidden, encoder_outputs):\n",
    "        # Note: we run this one step at a time\n",
    "        # TODO: Batching\n",
    "        \n",
    "        # Get the embedding of the current input word (last output word)\n",
    "        word_embedded = self.embedding(word_input).view(1, 1, -1) # S=1 x B x N\n",
    "        \n",
    "        # Combine context and embedded word, through RNN\n",
    "        rnn_input = torch.cat((context_input.unsqueeze(0), word_embedded), 2)\n",
    "        rnn_output, hidden = self.gru(rnn_input, last_hidden)\n",
    "\n",
    "        # Calculate attention from current RNN state and all encoder outputs; apply to encoder outputs\n",
    "        attention_weights = self.attention(rnn_output.squeeze(0), encoder_outputs)\n",
    "        context = attention_weights.bmm(encoder_outputs.transpose(0, 1)) # B x 1 x N\n",
    "        \n",
    "        # Final output layer (next word prediction) using the RNN hidden state and context vector\n",
    "        rnn_output = rnn_output.squeeze(0) # S=1 x B x N -> B x N\n",
    "        context = context.squeeze(1)       # B x S=1 x N -> B x N\n",
    "        output = F.log_softmax(self.out(torch.cat((rnn_output, context), 1)))\n",
    "        \n",
    "        # Return final output, hidden state, and attention weights (for visualization)\n",
    "        return output, hidden, attention_weights"
   ]
  },
  {
   "cell_type": "markdown",
   "metadata": {},
   "source": [
    "We can turn the whole thing into one module by combining the Encoder and Decoder networks. There's also an embedding layer for the context tokens."
   ]
  },
  {
   "cell_type": "code",
   "execution_count": 17,
   "metadata": {
    "collapsed": false
   },
   "outputs": [],
   "source": [
    "MAX_LENGTH = 50\n",
    "\n",
    "class RARNN(nn.Module):\n",
    "    def __init__(self, input_size, output_size, hidden_size):\n",
    "        super(RARNN, self).__init__()\n",
    "        \n",
    "        self.input_size = input_size\n",
    "        self.output_size = output_size\n",
    "        self.hidden_size = hidden_size\n",
    "        \n",
    "        self.embedding = nn.Embedding(output_size, hidden_size)\n",
    "        \n",
    "        self.encoder = Encoder(input_size, hidden_size)\n",
    "        self.decoder = Decoder(hidden_size, output_size)\n",
    "\n",
    "    def forward(self, context_input, word_inputs, word_targets=None):\n",
    "        # Get embedding for context input\n",
    "        context_embedded = self.embedding(context_input)\n",
    "        \n",
    "        input_len = word_inputs.size(0)\n",
    "        target_len = word_targets.size(0) if word_targets is not None else MAX_LENGTH\n",
    "        \n",
    "        # Run through encoder\n",
    "        encoder_outputs, encoder_hidden = self.encoder(context_embedded, word_inputs)\n",
    "        decoder_hidden = encoder_hidden # Use encoder's last hidden state\n",
    "        decoder_input = Variable(torch.LongTensor([0])) # EOS/SOS token\n",
    "        if USE_CUDA:\n",
    "            decoder_input = decoder_input.cuda()\n",
    "\n",
    "        # Variables to store decoder and attention outputs\n",
    "        decoder_outputs = Variable(torch.zeros(target_len, output_size))\n",
    "        decoder_attentions = Variable(torch.zeros(target_len, input_len))\n",
    "        if USE_CUDA:\n",
    "            decoder_outputs = decoder_outputs.cuda()\n",
    "            decoder_attentions = decoder_attentions.cuda()\n",
    "        \n",
    "        # Run through decoder\n",
    "        for i in range(target_len):\n",
    "            decoder_output, decoder_hidden, decoder_attention = self.decoder(context_embedded, decoder_input, decoder_hidden, encoder_outputs)\n",
    "            decoder_outputs[i] = decoder_output\n",
    "            decoder_attentions[i] = decoder_attention\n",
    "\n",
    "            # Teacher forcing with known targets, if provided\n",
    "            if word_targets is not None:\n",
    "                decoder_input = word_targets[i]\n",
    "\n",
    "            # Sample with last outputs\n",
    "            else:\n",
    "                max_index = decoder_output.topk(1)[1].data[0][0]\n",
    "                decoder_input = Variable(torch.LongTensor([max_index]))\n",
    "                if USE_CUDA:\n",
    "                    decoder_input = decoder_input.cuda()\n",
    "\n",
    "                if max_index == 0: break # EOS\n",
    "        \n",
    "        # Slice outputs\n",
    "        if word_targets is None:\n",
    "            decoder_outputs = decoder_outputs[:i]\n",
    "            decoder_attentions = decoder_attentions[:i]\n",
    "        else:\n",
    "            decoder_attentions = decoder_attentions[:-1] # Ignore attentions on EOS\n",
    "\n",
    "        return decoder_outputs, decoder_attentions"
   ]
  },
  {
   "cell_type": "markdown",
   "metadata": {},
   "source": [
    "## Training\n",
    "\n",
    "The inputs to the network are the current phrase label, e.g. `%getLightState` and the string to parse, \"the living room light is on\". The outputs are the child node labels, `$light` and `$on_off` with a selection of words given by attention-like weights over the sequence, treated as boolean values given a threshold."
   ]
  },
  {
   "cell_type": "code",
   "execution_count": 18,
   "metadata": {
    "collapsed": false
   },
   "outputs": [],
   "source": [
    "input_size = len(input_tokens)\n",
    "output_size = len(output_tokens)\n",
    "hidden_size = 100\n",
    "\n",
    "learning_rate = 1e-4\n",
    "weight_decay = 1e-6\n",
    "\n",
    "rarnn = RARNN(input_size, output_size, hidden_size)\n",
    "optimizer = torch.optim.Adam(rarnn.parameters(), lr=learning_rate, weight_decay=weight_decay)\n",
    "\n",
    "decoder_criterion = nn.NLLLoss()\n",
    "attention_criterion = nn.MSELoss(size_average=False)"
   ]
  },
  {
   "cell_type": "code",
   "execution_count": 19,
   "metadata": {
    "collapsed": false,
    "scrolled": false
   },
   "outputs": [],
   "source": [
    "def train(flat, node):\n",
    "    context, inputs, targets = data_for_node(flat, node)\n",
    "\n",
    "    # Turn inputs into tensors\n",
    "    context_var = tokens_to_tensor([context], output_tokens, False)\n",
    "    context_var = Variable(context_var)\n",
    "    inputs_var = tokens_to_tensor(inputs, input_tokens).view(-1, 1, 1) # seq x batch x size\n",
    "    inputs_var = Variable(inputs_var)\n",
    "    target_tokens = [target_token for target_token, _ in targets]\n",
    "    target_ranges = [target_range for _, target_range in targets]\n",
    "    target_tokens_var = tokens_to_tensor(target_tokens, output_tokens)\n",
    "    target_tokens_var = Variable(target_tokens_var)\n",
    "    target_ranges_var = ranges_to_tensor(target_ranges, len(inputs) + 1)\n",
    "    target_ranges_var = Variable(target_ranges_var)\n",
    " \n",
    "    # Run through model\n",
    "    decoder_outputs, attention_outputs = rarnn(context_var, inputs_var, target_tokens_var)\n",
    "\n",
    "    # Loss calculation and backprop\n",
    "    optimizer.zero_grad()\n",
    "    decoder_loss = decoder_criterion(decoder_outputs, target_tokens_var)\n",
    "    attention_loss = attention_criterion(attention_outputs, target_ranges_var)\n",
    "    total_loss = decoder_loss + attention_loss\n",
    "    total_loss.backward()\n",
    "    optimizer.step()\n",
    "\n",
    "    return total_loss.data[0]"
   ]
  },
  {
   "cell_type": "code",
   "execution_count": 20,
   "metadata": {
    "collapsed": false,
    "scrolled": false
   },
   "outputs": [
    {
     "name": "stdout",
     "output_type": "stream",
     "text": [
      "Starting job 59404115f8e1c2083c22b75a at 2017-06-13 12:46:29\n",
      "[log] 0m 20s (100) 2.9626\n",
      "[log] 0m 41s (200) 2.6244\n",
      "[log] 1m 2s (300) 1.8801\n",
      "[log] 1m 25s (400) 0.8488\n",
      "[log] 1m 43s (500) 1.3400\n",
      "[log] 2m 4s (600) 1.8386\n",
      "[log] 2m 21s (700) 1.0308\n",
      "[log] 2m 40s (800) 2.1103\n",
      "[log] 3m 0s (900) 0.1938\n",
      "[log] 3m 19s (1000) 0.9778\n",
      "[log] 3m 39s (1100) 1.0414\n",
      "[log] 3m 59s (1200) 1.3863\n",
      "[log] 4m 19s (1300) 0.0676\n",
      "[log] 4m 38s (1400) 0.3228\n",
      "[log] 4m 59s (1500) 0.3049\n",
      "[log] 5m 17s (1600) 0.2789\n",
      "[log] 5m 36s (1700) 0.0276\n",
      "[log] 5m 56s (1800) 0.1395\n",
      "[log] 6m 16s (1900) 0.5057\n",
      "[log] 6m 36s (2000) 0.5246\n",
      "[log] 6m 55s (2100) 0.7028\n",
      "[log] 7m 16s (2200) 0.0400\n",
      "[log] 7m 35s (2300) 0.0180\n",
      "[log] 7m 53s (2400) 0.1577\n",
      "[log] 8m 13s (2500) 0.6296\n",
      "[log] 8m 33s (2600) 0.0084\n",
      "[log] 8m 54s (2700) 0.2729\n",
      "[log] 9m 15s (2800) 0.4688\n",
      "[log] 9m 34s (2900) 0.0393\n",
      "[log] 9m 51s (3000) 0.5380\n",
      "[log] 10m 12s (3100) 0.5480\n",
      "[log] 10m 31s (3200) 0.0050\n",
      "[log] 10m 49s (3300) 0.0063\n",
      "[log] 11m 10s (3400) 0.0065\n",
      "[log] 11m 31s (3500) 0.0035\n",
      "[log] 11m 52s (3600) 0.0030\n",
      "[log] 12m 11s (3700) 0.0223\n",
      "[log] 12m 30s (3800) 0.8768\n",
      "[log] 12m 48s (3900) 0.0239\n",
      "[log] 13m 5s (4000) 0.5636\n",
      "[log] 13m 23s (4100) 0.0187\n",
      "[log] 13m 41s (4200) 0.0076\n",
      "[log] 14m 0s (4300) 0.0115\n",
      "[log] 14m 19s (4400) 0.5431\n",
      "[log] 14m 39s (4500) 0.0043\n",
      "[log] 15m 1s (4600) 0.0054\n",
      "[log] 15m 20s (4700) 0.0013\n",
      "[log] 15m 40s (4800) 0.0020\n",
      "[log] 16m 0s (4900) 0.0129\n"
     ]
    }
   ],
   "source": [
    "import sconce\n",
    "job = sconce.Job('rarnn')\n",
    "job.plot_every = 20\n",
    "job.log_every = 100\n",
    "\n",
    "n_epochs = 5000\n",
    "\n",
    "for i in range(n_epochs):\n",
    "    walked_flat, walked_tree = walk_tree(parsed, parsed['%'], None)\n",
    "    def _train(node): return train(walked_flat, node)\n",
    "    ds = descend(walked_tree, _train)\n",
    "    d = sum(ds) / len(ds)\n",
    "    job.record(i, d)"
   ]
  },
  {
   "cell_type": "markdown",
   "metadata": {},
   "source": [
    "## Evaluating"
   ]
  },
  {
   "cell_type": "code",
   "execution_count": 21,
   "metadata": {
    "collapsed": false
   },
   "outputs": [],
   "source": [
    "def evaluate(context, inputs, node=None):\n",
    "    if node == None:\n",
    "        node = Node('parsed')\n",
    "    \n",
    "    # Turn data into tensors\n",
    "    context_var = tokens_to_tensor([context], output_tokens, False)\n",
    "    context_var = Variable(context_var)\n",
    "    inputs_var = tokens_to_tensor(inputs, input_tokens).view(-1, 1, 1) # seq x batch x size\n",
    "    inputs_var = Variable(inputs_var)\n",
    "    \n",
    "    # Run through RARNN\n",
    "    decoder_outputs, attention_outputs = rarnn(context_var, inputs_var)\n",
    "    \n",
    "    # Given the decoder and attention outputs, gather contexts and inputs for sub-phrases\n",
    "    # Use attention values > 0.5 to select words for next input sequence\n",
    "\n",
    "    next_contexts = []\n",
    "    next_inputs = []\n",
    "    \n",
    "    for i in range(len(decoder_outputs)):\n",
    "        max_value, max_index = decoder_outputs[i].topk(1)\n",
    "        max_index = max_index.data[0]\n",
    "        next_contexts.append(output_tokens[max_index]) # Get decoder output token\n",
    "        a = attention_outputs[i]\n",
    "        next_input = []\n",
    "        for t in range(len(a) - 1):\n",
    "            at = a[t].data[0]\n",
    "            if at > 0.5:\n",
    "                next_input.append(inputs[t])\n",
    "        next_inputs.append(next_input)\n",
    "\n",
    "    evaluated = list(zip(next_contexts, next_inputs))\n",
    "\n",
    "    # Print decoded outputs\n",
    "    print('\\n(evaluate) %s %s -> %s' % (context, ' '.join(inputs), next_contexts))\n",
    "    \n",
    "    # Plot attention outputs\n",
    "    fig = plt.figure(figsize=(len(inputs) / 3, 99))\n",
    "    sub = fig.add_subplot(111)\n",
    "    sub.matshow(attention_outputs.data.squeeze(1).numpy(), vmin=0, vmax=1, cmap='hot')\n",
    "    plt.show(); plt.close()\n",
    "    \n",
    "    for context, inputs in evaluated:\n",
    "        # Add a node for parsed sub-phrases and values\n",
    "        sub_node = Node(context)\n",
    "        node.add(sub_node)\n",
    "        \n",
    "        # Recursively evaluate sub-phrases\n",
    "        if context[0] == '%':\n",
    "            if len(inputs) > 0:\n",
    "                evaluate(context, inputs, sub_node)\n",
    "            else:\n",
    "                print(\"WARNING: Empty inputs\")\n",
    "    \n",
    "        # Or add words directly to value node\n",
    "        elif context[0] == '$':\n",
    "            sub_node.add(' '.join(inputs))\n",
    "\n",
    "    return node"
   ]
  },
  {
   "cell_type": "code",
   "execution_count": 22,
   "metadata": {
    "collapsed": true
   },
   "outputs": [],
   "source": [
    "def evaluate_and_print(context, inputs):\n",
    "    evaluated = evaluate(context, inputs)\n",
    "    print(' '.join(inputs))\n",
    "    print(evaluated)"
   ]
  },
  {
   "cell_type": "code",
   "execution_count": 23,
   "metadata": {
    "collapsed": false,
    "scrolled": false
   },
   "outputs": [
    {
     "name": "stdout",
     "output_type": "stream",
     "text": [
      "['change', 'the', 'basement', 'light', 'red', 'in', '0', 'hours', 'thanks'] ( %\n",
      "    ( %timer (0, 7, 8)\n",
      "        ( %action (0, 4, 5)\n",
      "            ( %setLightState (0, 4, 5)\n",
      "                ( $light (2, 3, 2) basement light )\n",
      "                ( $color (4, 4, 1) red ) ) )\n",
      "        ( %relative_time (5, 7, 3)\n",
      "            ( $number (6, 6, 1) 0 )\n",
      "            ( $time_unit (7, 7, 1) hours ) ) ) )\n",
      "\n",
      "(evaluate) % change the basement light red in 0 hours thanks -> ['%timer']\n"
     ]
    },
    {
     "data": {
      "image/png": "[encoded data removed]",
      "text/plain": [
       "<matplotlib.figure.Figure at 0x10e1f7470>"
      ]
     },
     "metadata": {},
     "output_type": "display_data"
    },
    {
     "name": "stdout",
     "output_type": "stream",
     "text": [
      "\n",
      "(evaluate) %timer change the basement light red in 0 hours -> ['%action', '%relative_time']\n"
     ]
    },
    {
     "data": {
      "image/png": "[encoded data removed]",
      "text/plain": [
       "<matplotlib.figure.Figure at 0x10e14a198>"
      ]
     },
     "metadata": {},
     "output_type": "display_data"
    },
    {
     "name": "stdout",
     "output_type": "stream",
     "text": [
      "\n",
      "(evaluate) %action change the basement light red -> ['%setLightState']\n"
     ]
    },
    {
     "data": {
      "image/png": "[encoded data removed]",
      "text/plain": [
       "<matplotlib.figure.Figure at 0x113ec36d8>"
      ]
     },
     "metadata": {},
     "output_type": "display_data"
    },
    {
     "name": "stdout",
     "output_type": "stream",
     "text": [
      "\n",
      "(evaluate) %setLightState change the basement light red -> ['$light', '$color']\n"
     ]
    },
    {
     "data": {
      "image/png": "[encoded data removed]",
      "text/plain": [
       "<matplotlib.figure.Figure at 0x10ebe9cc0>"
      ]
     },
     "metadata": {},
     "output_type": "display_data"
    },
    {
     "name": "stdout",
     "output_type": "stream",
     "text": [
      "\n",
      "(evaluate) %relative_time in 0 hours -> ['$number', '$time_unit']\n"
     ]
    },
    {
     "data": {
      "image/png": "[encoded data removed]",
      "text/plain": [
       "<matplotlib.figure.Figure at 0x114d0b5f8>"
      ]
     },
     "metadata": {},
     "output_type": "display_data"
    },
    {
     "name": "stdout",
     "output_type": "stream",
     "text": [
      "change the basement light red in 0 hours thanks\n",
      "( parsed\n",
      "    ( %timer\n",
      "        ( %action\n",
      "            ( %setLightState\n",
      "                ( $light basement light )\n",
      "                ( $color red ) ) )\n",
      "        ( %relative_time\n",
      "            ( $number 0 )\n",
      "            ( $time_unit hours ) ) ) )\n"
     ]
    }
   ],
   "source": [
    "walked_flat, walked_tree = walk_tree(parsed, parsed['%'], None)\n",
    "inputs = [child.key for child in walked_flat.children]\n",
    "print(inputs, walked_tree)\n",
    "evaluate_and_print('%', inputs)"
   ]
  },
  {
   "cell_type": "code",
   "execution_count": 24,
   "metadata": {
    "collapsed": false,
    "scrolled": false
   },
   "outputs": [
    {
     "name": "stdout",
     "output_type": "stream",
     "text": [
      "\n",
      "(evaluate) % hey maia if the ethereum price is less than 2 0 then turn the living room light on -> ['%if']\n"
     ]
    },
    {
     "data": {
      "image/png": "[encoded data removed]",
      "text/plain": [
       "<matplotlib.figure.Figure at 0x1139774e0>"
      ]
     },
     "metadata": {},
     "output_type": "display_data"
    },
    {
     "name": "stdout",
     "output_type": "stream",
     "text": [
      "\n",
      "(evaluate) %if if the ethereum price is less than 2 0 then turn the living room light on -> ['%condition', '%action']\n"
     ]
    },
    {
     "data": {
      "image/png": "[encoded data removed]",
      "text/plain": [
       "<matplotlib.figure.Figure at 0x1168553c8>"
      ]
     },
     "metadata": {},
     "output_type": "display_data"
    },
    {
     "name": "stdout",
     "output_type": "stream",
     "text": [
      "\n",
      "(evaluate) %condition the ethereum price is less than 2 0 -> ['%getPrice', '$operator', '$number']\n"
     ]
    },
    {
     "data": {
      "image/png": "[encoded data removed]",
      "text/plain": [
       "<matplotlib.figure.Figure at 0x116864e80>"
      ]
     },
     "metadata": {},
     "output_type": "display_data"
    },
    {
     "name": "stdout",
     "output_type": "stream",
     "text": [
      "\n",
      "(evaluate) %getPrice the ethereum price -> ['$asset']\n"
     ]
    },
    {
     "data": {
      "image/png": "[encoded data removed]",
      "text/plain": [
       "<matplotlib.figure.Figure at 0x116904ef0>"
      ]
     },
     "metadata": {},
     "output_type": "display_data"
    },
    {
     "name": "stdout",
     "output_type": "stream",
     "text": [
      "\n",
      "(evaluate) %action turn the living room light on -> ['%setLightState']\n"
     ]
    },
    {
     "data": {
      "image/png": "[encoded data removed]",
      "text/plain": [
       "<matplotlib.figure.Figure at 0x1169b8630>"
      ]
     },
     "metadata": {},
     "output_type": "display_data"
    },
    {
     "name": "stdout",
     "output_type": "stream",
     "text": [
      "\n",
      "(evaluate) %setLightState turn the living room light on -> ['$light', '$on_off']\n"
     ]
    },
    {
     "data": {
      "image/png": "[encoded data removed]",
      "text/plain": [
       "<matplotlib.figure.Figure at 0x1169cfb70>"
      ]
     },
     "metadata": {},
     "output_type": "display_data"
    },
    {
     "name": "stdout",
     "output_type": "stream",
     "text": [
      "hey maia if the ethereum price is less than 2 0 then turn the living room light on\n",
      "( parsed\n",
      "    ( %if\n",
      "        ( %condition\n",
      "            ( %getPrice\n",
      "                ( $asset ethereum ) )\n",
      "            ( $operator less than )\n",
      "            ( $number 2 0 ) )\n",
      "        ( %action\n",
      "            ( %setLightState\n",
      "                ( $light living room light )\n",
      "                ( $on_off on ) ) ) ) )\n"
     ]
    }
   ],
   "source": [
    "evaluate_and_print('%', \"hey maia if the ethereum price is less than 2 0 then turn the living room light on\".split(' '))"
   ]
  },
  {
   "cell_type": "code",
   "execution_count": 25,
   "metadata": {
    "collapsed": false,
    "scrolled": false
   },
   "outputs": [
    {
     "name": "stdout",
     "output_type": "stream",
     "text": [
      "\n",
      "(evaluate) % hey maia what's the ethereum price -> ['%action']\n"
     ]
    },
    {
     "data": {
      "image/png": "[encoded data removed]",
      "text/plain": [
       "<matplotlib.figure.Figure at 0x1139181d0>"
      ]
     },
     "metadata": {},
     "output_type": "display_data"
    },
    {
     "name": "stdout",
     "output_type": "stream",
     "text": [
      "\n",
      "(evaluate) %action what's the ethereum price -> ['%getPrice']\n"
     ]
    },
    {
     "data": {
      "image/png": "[encoded data removed]",
      "text/plain": [
       "<matplotlib.figure.Figure at 0x116a7d940>"
      ]
     },
     "metadata": {},
     "output_type": "display_data"
    },
    {
     "name": "stdout",
     "output_type": "stream",
     "text": [
      "\n",
      "(evaluate) %getPrice ethereum price -> ['$asset']\n"
     ]
    },
    {
     "data": {
      "image/png": "[encoded data removed]",
      "text/plain": [
       "<matplotlib.figure.Figure at 0x1168466a0>"
      ]
     },
     "metadata": {},
     "output_type": "display_data"
    },
    {
     "name": "stdout",
     "output_type": "stream",
     "text": [
      "hey maia what's the ethereum price\n",
      "( parsed\n",
      "    ( %action\n",
      "        ( %getPrice\n",
      "            ( $asset ethereum ) ) ) )\n"
     ]
    }
   ],
   "source": [
    "evaluate_and_print('%', \"hey maia what's the ethereum price\".split(' '))"
   ]
  },
  {
   "cell_type": "code",
   "execution_count": 26,
   "metadata": {
    "collapsed": false,
    "scrolled": false
   },
   "outputs": [
    {
     "name": "stdout",
     "output_type": "stream",
     "text": [
      "\n",
      "(evaluate) % hey maia play some Skrillex please and then turn the office light off -> ['%sequence']\n"
     ]
    },
    {
     "data": {
      "image/png": "[encoded data removed]",
      "text/plain": [
       "<matplotlib.figure.Figure at 0x116a52f60>"
      ]
     },
     "metadata": {},
     "output_type": "display_data"
    },
    {
     "name": "stdout",
     "output_type": "stream",
     "text": [
      "\n",
      "(evaluate) %sequence play some Skrillex please and then turn the office light off -> ['%action', '%action']\n"
     ]
    },
    {
     "data": {
      "image/png": "[encoded data removed]",
      "text/plain": [
       "<matplotlib.figure.Figure at 0x116955e10>"
      ]
     },
     "metadata": {},
     "output_type": "display_data"
    },
    {
     "name": "stdout",
     "output_type": "stream",
     "text": [
      "\n",
      "(evaluate) %action play some Skrillex please -> ['%playMusic']\n"
     ]
    },
    {
     "data": {
      "image/png": "[encoded data removed]",
      "text/plain": [
       "<matplotlib.figure.Figure at 0x116939898>"
      ]
     },
     "metadata": {},
     "output_type": "display_data"
    },
    {
     "name": "stdout",
     "output_type": "stream",
     "text": [
      "\n",
      "(evaluate) %playMusic play some Skrillex please -> ['$artist']\n"
     ]
    },
    {
     "data": {
      "image/png": "[encoded data removed]",
      "text/plain": [
       "<matplotlib.figure.Figure at 0x11680c198>"
      ]
     },
     "metadata": {},
     "output_type": "display_data"
    },
    {
     "name": "stdout",
     "output_type": "stream",
     "text": [
      "\n",
      "(evaluate) %action turn the office light off -> ['%setLightState']\n"
     ]
    },
    {
     "data": {
      "image/png": "[encoded data removed]",
      "text/plain": [
       "<matplotlib.figure.Figure at 0x113ec78d0>"
      ]
     },
     "metadata": {},
     "output_type": "display_data"
    },
    {
     "name": "stdout",
     "output_type": "stream",
     "text": [
      "\n",
      "(evaluate) %setLightState turn the office light off -> ['$light', '$on_off']\n"
     ]
    },
    {
     "data": {
      "image/png": "[encoded data removed]",
      "text/plain": [
       "<matplotlib.figure.Figure at 0x114c71400>"
      ]
     },
     "metadata": {},
     "output_type": "display_data"
    },
    {
     "name": "stdout",
     "output_type": "stream",
     "text": [
      "hey maia play some Skrillex please and then turn the office light off\n",
      "( parsed\n",
      "    ( %sequence\n",
      "        ( %action\n",
      "            ( %playMusic\n",
      "                ( $artist Skrillex please ) ) )\n",
      "        ( %action\n",
      "            ( %setLightState\n",
      "                ( $light office light )\n",
      "                ( $on_off off ) ) ) ) )\n"
     ]
    }
   ],
   "source": [
    "evaluate_and_print('%', \"hey maia play some Skrillex please and then turn the office light off\".split(' '))"
   ]
  },
  {
   "cell_type": "code",
   "execution_count": 27,
   "metadata": {
    "collapsed": false,
    "scrolled": false
   },
   "outputs": [
    {
     "name": "stdout",
     "output_type": "stream",
     "text": [
      "\n",
      "(evaluate) % turn the office light up and also could you please turn off the living room light and make the temperature of the bedroom to 6 thank you maia -> ['%sequence']\n"
     ]
    },
    {
     "data": {
      "image/png": "[encoded data removed]",
      "text/plain": [
       "<matplotlib.figure.Figure at 0x116a1eb00>"
      ]
     },
     "metadata": {},
     "output_type": "display_data"
    },
    {
     "name": "stdout",
     "output_type": "stream",
     "text": [
      "\n",
      "(evaluate) %sequence turn the office light up and also could you please turn off the living room light and make the temperature of the bedroom to 6 -> ['%action', '%action', '%action', '%action']\n"
     ]
    },
    {
     "data": {
      "image/png": "[encoded data removed]",
      "text/plain": [
       "<matplotlib.figure.Figure at 0x114d30898>"
      ]
     },
     "metadata": {},
     "output_type": "display_data"
    },
    {
     "name": "stdout",
     "output_type": "stream",
     "text": [
      "\n",
      "(evaluate) %action turn the office light up -> ['%setLightState']\n"
     ]
    },
    {
     "data": {
      "image/png": "[encoded data removed]",
      "text/plain": [
       "<matplotlib.figure.Figure at 0x1169cceb8>"
      ]
     },
     "metadata": {},
     "output_type": "display_data"
    },
    {
     "name": "stdout",
     "output_type": "stream",
     "text": [
      "\n",
      "(evaluate) %setLightState turn the office light up -> ['$light', '$up_down']\n"
     ]
    },
    {
     "data": {
      "image/png": "[encoded data removed]",
      "text/plain": [
       "<matplotlib.figure.Figure at 0x11689d160>"
      ]
     },
     "metadata": {},
     "output_type": "display_data"
    },
    {
     "name": "stdout",
     "output_type": "stream",
     "text": [
      "\n",
      "(evaluate) %action turn off the living room light -> ['%setLightState']\n"
     ]
    },
    {
     "data": {
      "image/png": "[encoded data removed]",
      "text/plain": [
       "<matplotlib.figure.Figure at 0x10ebfc898>"
      ]
     },
     "metadata": {},
     "output_type": "display_data"
    },
    {
     "name": "stdout",
     "output_type": "stream",
     "text": [
      "\n",
      "(evaluate) %setLightState turn off the living room light -> ['$on_off', '$light']\n"
     ]
    },
    {
     "data": {
      "image/png": "[encoded data removed]",
      "text/plain": [
       "<matplotlib.figure.Figure at 0x1168af160>"
      ]
     },
     "metadata": {},
     "output_type": "display_data"
    },
    {
     "name": "stdout",
     "output_type": "stream",
     "text": [
      "\n",
      "(evaluate) %action make the temperature of the bedroom to -> ['%setTemperature']\n"
     ]
    },
    {
     "data": {
      "image/png": "[encoded data removed]",
      "text/plain": [
       "<matplotlib.figure.Figure at 0x114c5fcf8>"
      ]
     },
     "metadata": {},
     "output_type": "display_data"
    },
    {
     "name": "stdout",
     "output_type": "stream",
     "text": [
      "\n",
      "(evaluate) %setTemperature make the temperature of the bedroom to -> ['$room', '$number']\n"
     ]
    },
    {
     "data": {
      "image/png": "[encoded data removed]",
      "text/plain": [
       "<matplotlib.figure.Figure at 0x1169e3518>"
      ]
     },
     "metadata": {},
     "output_type": "display_data"
    },
    {
     "name": "stdout",
     "output_type": "stream",
     "text": [
      "\n",
      "(evaluate) %action make the temperature of the bedroom to 6 -> ['%setTemperature']\n"
     ]
    },
    {
     "data": {
      "image/png": "[encoded data removed]",
      "text/plain": [
       "<matplotlib.figure.Figure at 0x116878240>"
      ]
     },
     "metadata": {},
     "output_type": "display_data"
    },
    {
     "name": "stdout",
     "output_type": "stream",
     "text": [
      "\n",
      "(evaluate) %setTemperature make the temperature of the bedroom to 6 -> ['$room', '$number']\n"
     ]
    },
    {
     "data": {
      "image/png": "[encoded data removed]",
      "text/plain": [
       "<matplotlib.figure.Figure at 0x1168c4278>"
      ]
     },
     "metadata": {},
     "output_type": "display_data"
    },
    {
     "name": "stdout",
     "output_type": "stream",
     "text": [
      "turn the office light up and also could you please turn off the living room light and make the temperature of the bedroom to 6 thank you maia\n",
      "( parsed\n",
      "    ( %sequence\n",
      "        ( %action\n",
      "            ( %setLightState\n",
      "                ( $light office light )\n",
      "                ( $up_down up ) ) )\n",
      "        ( %action\n",
      "            ( %setLightState\n",
      "                ( $on_off off )\n",
      "                ( $light living room light ) ) )\n",
      "        ( %action\n",
      "            ( %setTemperature\n",
      "                ( $room bedroom )\n",
      "                ( $number\n",
      "                    (  ) ) ) )\n",
      "        ( %action\n",
      "            ( %setTemperature\n",
      "                ( $room bedroom )\n",
      "                ( $number 6 ) ) ) ) )\n"
     ]
    }
   ],
   "source": [
    "evaluate_and_print('%', \"turn the office light up and also could you please turn off the living room light and make the temperature of the bedroom to 6 thank you maia\".split(' '))"
   ]
  },
  {
   "cell_type": "code",
   "execution_count": 28,
   "metadata": {
    "collapsed": false
   },
   "outputs": [
    {
     "name": "stdout",
     "output_type": "stream",
     "text": [
      "\n",
      "(evaluate) % turn the living room light off and turn the bedroom light up and also turn the volume up -> ['%sequence']\n"
     ]
    },
    {
     "data": {
      "image/png": "[encoded data removed]",
      "text/plain": [
       "<matplotlib.figure.Figure at 0x11688bdd8>"
      ]
     },
     "metadata": {},
     "output_type": "display_data"
    },
    {
     "name": "stdout",
     "output_type": "stream",
     "text": [
      "\n",
      "(evaluate) %sequence turn the living room light off and turn the bedroom light up and also turn the volume up -> ['%action', '%action', '%action']\n"
     ]
    },
    {
     "data": {
      "image/png": "[encoded data removed]",
      "text/plain": [
       "<matplotlib.figure.Figure at 0x116a1b860>"
      ]
     },
     "metadata": {},
     "output_type": "display_data"
    },
    {
     "name": "stdout",
     "output_type": "stream",
     "text": [
      "\n",
      "(evaluate) %action turn the living room light off -> ['%setLightState']\n"
     ]
    },
    {
     "data": {
      "image/png": "[encoded data removed]",
      "text/plain": [
       "<matplotlib.figure.Figure at 0x113eb36d8>"
      ]
     },
     "metadata": {},
     "output_type": "display_data"
    },
    {
     "name": "stdout",
     "output_type": "stream",
     "text": [
      "\n",
      "(evaluate) %setLightState turn the living room light off -> ['$light', '$on_off']\n"
     ]
    },
    {
     "data": {
      "image/png": "[encoded data removed]",
      "text/plain": [
       "<matplotlib.figure.Figure at 0x11398aeb8>"
      ]
     },
     "metadata": {},
     "output_type": "display_data"
    },
    {
     "name": "stdout",
     "output_type": "stream",
     "text": [
      "\n",
      "(evaluate) %action turn the bedroom light up -> ['%setLightState']\n"
     ]
    },
    {
     "data": {
      "image/png": "[encoded data removed]",
      "text/plain": [
       "<matplotlib.figure.Figure at 0x1168c6128>"
      ]
     },
     "metadata": {},
     "output_type": "display_data"
    },
    {
     "name": "stdout",
     "output_type": "stream",
     "text": [
      "\n",
      "(evaluate) %setLightState turn the bedroom light up -> ['$light', '$up_down']\n"
     ]
    },
    {
     "data": {
      "image/png": "[encoded data removed]",
      "text/plain": [
       "<matplotlib.figure.Figure at 0x11681c5f8>"
      ]
     },
     "metadata": {},
     "output_type": "display_data"
    },
    {
     "name": "stdout",
     "output_type": "stream",
     "text": [
      "\n",
      "(evaluate) %action turn the volume up -> ['%setVolume']\n"
     ]
    },
    {
     "data": {
      "image/png": "[encoded data removed]",
      "text/plain": [
       "<matplotlib.figure.Figure at 0x113e28cc0>"
      ]
     },
     "metadata": {},
     "output_type": "display_data"
    },
    {
     "name": "stdout",
     "output_type": "stream",
     "text": [
      "\n",
      "(evaluate) %setVolume turn the volume up -> ['$up_down']\n"
     ]
    },
    {
     "data": {
      "image/png": "[encoded data removed]",
      "text/plain": [
       "<matplotlib.figure.Figure at 0x1168c6048>"
      ]
     },
     "metadata": {},
     "output_type": "display_data"
    },
    {
     "name": "stdout",
     "output_type": "stream",
     "text": [
      "turn the living room light off and turn the bedroom light up and also turn the volume up\n",
      "( parsed\n",
      "    ( %sequence\n",
      "        ( %action\n",
      "            ( %setLightState\n",
      "                ( $light living room light )\n",
      "                ( $on_off off ) ) )\n",
      "        ( %action\n",
      "            ( %setLightState\n",
      "                ( $light bedroom light )\n",
      "                ( $up_down up ) ) )\n",
      "        ( %action\n",
      "            ( %setVolume\n",
      "                ( $up_down up ) ) ) ) )\n"
     ]
    }
   ],
   "source": [
    "evaluate_and_print('%', \"turn the living room light off and turn the bedroom light up and also turn the volume up\".split(' '))"
   ]
  },
  {
   "cell_type": "code",
   "execution_count": null,
   "metadata": {
    "collapsed": true
   },
   "outputs": [],
   "source": []
  }
 ],
 "metadata": {
  "anaconda-cloud": {},
  "kernelspec": {
   "display_name": "Python [conda root]",
   "language": "python",
   "name": "conda-root-py"
  },
  "language_info": {
   "codemirror_mode": {
    "name": "ipython",
    "version": 3
   },
   "file_extension": ".py",
   "mimetype": "text/x-python",
   "name": "python",
   "nbconvert_exporter": "python",
   "pygments_lexer": "ipython3",
   "version": "3.5.2"
  }
 },
 "nbformat": 4,
 "nbformat_minor": 1
}
